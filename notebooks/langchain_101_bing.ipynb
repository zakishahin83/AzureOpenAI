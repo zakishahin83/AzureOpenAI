{
 "cells": [
  {
   "cell_type": "code",
   "execution_count": 175,
   "metadata": {},
   "outputs": [
    {
     "name": "stdout",
     "output_type": "stream",
     "text": [
      "Name: langchain\n",
      "Version: 0.0.138\n",
      "Summary: Building applications with LLMs through composability\n",
      "Home-page: https://www.github.com/hwchase17/langchain\n",
      "Author: \n",
      "Author-email: \n",
      "License: MIT\n",
      "Location: c:\\users\\mutaza\\appdata\\roaming\\python\\python39\\site-packages\n",
      "Requires: aiohttp, async-timeout, dataclasses-json, numpy, openapi-schema-pydantic, pydantic, PyYAML, requests, SQLAlchemy, tenacity\n",
      "Required-by: \n",
      "Note: you may need to restart the kernel to use updated packages.\n"
     ]
    }
   ],
   "source": [
    "%pip show langchain\n",
    "\n",
    "# q: pip command to check if langchain is up to date\n",
    "# %pip list --outdated | grep langchain\n"
   ]
  },
  {
   "cell_type": "code",
   "execution_count": 176,
   "metadata": {},
   "outputs": [],
   "source": [
    "# https://python.langchain.com/en/latest/modules/agents/tools/examples/bing_search.html\n",
    "from langchain.agents import load_tools\n",
    "from langchain.agents import initialize_agent\n",
    "from langchain.agents import AgentType\n",
    "from langchain.chat_models import AzureChatOpenAI\n",
    "from langchain.llms import AzureOpenAI\n",
    "\n",
    "from langchain.prompts.chat import (\n",
    "    ChatPromptTemplate,\n",
    "    SystemMessagePromptTemplate, \n",
    "    AIMessagePromptTemplate,\n",
    "    HumanMessagePromptTemplate,\n",
    "    \n",
    ")\n",
    "from langchain.schema import ( \n",
    "    AIMessage,\n",
    "    HumanMessage,\n",
    "    SystemMessage,\n",
    ")\n",
    "\n",
    "from langchain.callbacks.base import CallbackManager\n",
    "from langchain.callbacks.streaming_stdout import StreamingStdOutCallbackHandler\n"
   ]
  },
  {
   "cell_type": "code",
   "execution_count": 177,
   "metadata": {},
   "outputs": [],
   "source": [
    "import openai\n",
    "import os\n",
    "import dotenv\n",
    "dotenv.load_dotenv()\n",
    "\n",
    "\n",
    "# get above env variables using os.environ.get and use provided values as defaults\n",
    "gpt4_endpoint = os.environ.get('gpt4_endpoint', 'https://lnc-eastus-openai.openai.azure.com/')\n",
    "gpt4_key = os.environ.get('gpt4_key', '121221')\n",
    "gpt4_region = os.environ.get('gpt4_region', 'eastus')\n",
    "gpt4_modelid_4k = os.environ.get('gpt4_modelid_4k', 'gpt-4-0314')\n",
    "gpt4_modelid_32k = os.environ.get('gpt4_modelid_32k', 'gpt-4-32k-0314')\n",
    "gpt4_api_version = os.environ.get('gpt4_api_version', '2023-03-15-preview')\n",
    "\n",
    "\n",
    "# get the above from os.environ.get and use provided values as defaults\n",
    "chatgpt_api_key = os.environ.get('chatgpt_api_key', '121212121212')\n",
    "chatgpt_region = os.environ.get('chatgpt_region', 'southcentralus')\n",
    "chatgpt_endpoint = os.environ.get('chatgpt_endpoint', 'https://magopenai.openai.azure.com/')\n",
    "chatgpt_api_version = os.environ.get('chatgpt_api_version', '2021-03-15-preview')\n",
    "\n",
    "\n",
    "# bing search settings: bing_search_url and bing_subscription_key\n",
    "bing_search_url = os.environ.get('bing_search_url', 'https://api.bing.microsoft.com/v7.0/search')\n",
    "bing_subscription_key = os.environ.get('bing_subscription_key', '121212121212')\n",
    "\n",
    "\n",
    "\n",
    "\n",
    "oai_api_key = os.environ.get('oai_api_key', '121212121212')"
   ]
  },
  {
   "cell_type": "code",
   "execution_count": 178,
   "metadata": {},
   "outputs": [
    {
     "name": "stdout",
     "output_type": "stream",
     "text": [
      "('The core of extensible programming is defining functions. <b>Python</b> '\n",
      " 'allows mandatory and optional arguments, keyword arguments, and even '\n",
      " 'arbitrary argument lists. More about defining functions in <b>Python</b> 3. '\n",
      " '<b>Python</b> is a programming language that lets you work quickly and '\n",
      " 'integrate systems more effectively. Learn More. The mission of the '\n",
      " '<b>Python</b> Software Foundation is to promote, protect, and advance the '\n",
      " '<b>Python</b> programming language, and to support and facilitate the growth '\n",
      " 'of a diverse and international community of <b>Python</b> programmers. Learn '\n",
      " 'more. Become a Member Donate to the PSF. Installing <b>Python</b> is '\n",
      " 'generally easy, and nowadays many Linux and UNIX distributions include a '\n",
      " 'recent <b>Python</b>. Even some Windows computers (notably those from HP) '\n",
      " 'now come with <b>Python</b> already installed. If you do need to install '\n",
      " '<b>Python</b> and aren&#39;t confident about the task you can find a few '\n",
      " 'notes on the BeginnersGuide/Download wiki page, but ... <b>Python</b> is a '\n",
      " 'popular programming language. <b>Python</b> can be used on a server to '\n",
      " 'create web applications. Start learning <b>Python</b> now ». The '\n",
      " '<b>Python</b> Tutorial. ¶. <b>Python</b> is an easy to learn, powerful '\n",
      " 'programming language. It has efficient high-level data structures and a '\n",
      " 'simple but effective approach to object-oriented programming. '\n",
      " '<b>Python</b>’s elegant syntax and dynamic typing, together with its '\n",
      " 'interpreted nature, make it an ideal language for scripting and rapid '\n",
      " 'application ... <b>Python</b> is a high-level, general-purpose programming '\n",
      " 'language.Its design philosophy emphasizes code readability with the use of '\n",
      " 'significant indentation via the off-side rule.. <b>Python</b> is dynamically '\n",
      " 'typed and garbage-collected.It supports multiple programming paradigms, '\n",
      " 'including structured (particularly procedural), object-oriented and '\n",
      " 'functional programming. <b>Python</b> Identity Operators. Identity operators '\n",
      " 'are used to compare the objects, not if they are equal, but if they are '\n",
      " 'actually the same object, with the same memory location: Operator. '\n",
      " 'Description. Example. Try it. is. Returns True if both variables are the '\n",
      " 'same object. x is y.')\n"
     ]
    }
   ],
   "source": [
    "# import os\n",
    "# os.environ[\"BING_SUBSCRIPTION_KEY\"] = \"\"\n",
    "# os.environ[\"BING_SEARCH_URL\"] = \"\"\n",
    "\n",
    "from pprint import pprint\n",
    "from langchain.utilities import BingSearchAPIWrapper\n",
    "search = BingSearchAPIWrapper(\n",
    "    bing_search_url=bing_search_url, \n",
    "    bing_subscription_key=bing_subscription_key\n",
    "\n",
    ")\n",
    "pprint(search.run(\"python\"))"
   ]
  },
  {
   "cell_type": "code",
   "execution_count": 179,
   "metadata": {},
   "outputs": [
    {
     "name": "stdout",
     "output_type": "stream",
     "text": [
      "('The core of extensible programming is defining functions. <b>Python</b> '\n",
      " 'allows mandatory and optional arguments, keyword arguments, and even '\n",
      " 'arbitrary argument lists. More about defining functions in <b>Python</b> 3. '\n",
      " '<b>Python</b> is a programming language that lets you work quickly and '\n",
      " 'integrate systems more effectively. Learn More.')\n"
     ]
    }
   ],
   "source": [
    "search = BingSearchAPIWrapper(\n",
    "    bing_search_url=bing_search_url, \n",
    "    bing_subscription_key=bing_subscription_key,\n",
    "    k=1)\n",
    "\n",
    "pprint(search.run(\"python\"))"
   ]
  },
  {
   "cell_type": "code",
   "execution_count": 180,
   "metadata": {},
   "outputs": [
    {
     "name": "stdout",
     "output_type": "stream",
     "text": [
      "1. Google AI : https://ai.google/\n",
      "2. OpenAI : https://openai.com/\n",
      "3. Artificial Intelligence Solutions | Microsoft AI : https://www.microsoft.com/en-us/ai/\n",
      "4. AI is learning how to create itself : https://www.technologyreview.com/2021/05/27/1025453/artificial-intelligence-learning-create-itself-agi/\n",
      "5. Here are 30 generative AI tools you can try for free : https://www.fastcompany.com/90856183/30-ai-tools-you-can-try-for-free\n",
      "6. Microsoft AI : https://news.microsoft.com/ai/\n",
      "7. The best AI chatbots of 2023: ChatGPT and alternatives : https://www.zdnet.com/article/best-ai-chatbot/\n",
      "8. Best AI writers of 2023 : https://www.techradar.com/best/ai-writer\n",
      "9. The best AI art generators of 2023: DALL-E 2 and alternatives : https://www.zdnet.com/article/best-ai-art-generator/\n",
      "10. AI Image Generator: Text to Image for Free | Fotor : https://www.fotor.com/features/ai-image-generator/\n",
      "11. What is artificial intelligence (AI)? : https://www.ibm.com/topics/artificial-intelligence\n",
      "12. The 7 Biggest Artificial Intelligence (AI) Trends In 2022 : https://www.forbes.com/sites/bernardmarr/2021/09/24/the-7-biggest-artificial-intelligence-ai-trends-in-2022/\n",
      "13. What is Artificial Intelligence (AI)? : https://www.oracle.com/artificial-intelligence/what-is-ai/\n",
      "14. Learn about artificial intelligence (AI) | Code.org : https://code.org/ai\n",
      "15. What is AI? : https://www.mckinsey.com/featured-insights/mckinsey-explainers/what-is-ai\n",
      "16. 10 Wonderful Examples Of Using Artificial Intelligence (AI) For Good : https://www.forbes.com/sites/bernardmarr/2020/06/22/10-wonderful-examples-of-using-artificial-intelligence-ai-for-good/\n",
      "17. Free Text to Image AI Generator | Picsart : https://picsart.com/ai-image-generator\n",
      "18. AI Art Generator: Make AI Art From Text &amp; Photo | Fotor : https://www.fotor.com/features/ai-art-generator/\n",
      "19. AI Platform, Products &amp; Tools - Microsoft AI : https://www.microsoft.com/en-us/ai/ai-platform\n"
     ]
    }
   ],
   "source": [
    "\n",
    "resp = search.results(\"AI\", 20)\n",
    "\n",
    "# print enumarated results\n",
    "for i, r in enumerate(resp):\n",
    "    print(f\"{i+1}. {r['title']} : {r['link']}\")"
   ]
  },
  {
   "attachments": {},
   "cell_type": "markdown",
   "metadata": {},
   "source": [
    "# Putting Bing Search tool in an Agent\n",
    "https://python.langchain.com/en/latest/modules/agents/agents/examples/self_ask_with_search.html"
   ]
  },
  {
   "cell_type": "code",
   "execution_count": 181,
   "metadata": {},
   "outputs": [
    {
     "name": "stdout",
     "output_type": "stream",
     "text": [
      "Name: langchain\n",
      "Version: 0.0.138\n",
      "Summary: Building applications with LLMs through composability\n",
      "Home-page: https://www.github.com/hwchase17/langchain\n",
      "Author: \n",
      "Author-email: \n",
      "License: MIT\n",
      "Location: c:\\users\\mutaza\\appdata\\roaming\\python\\python39\\site-packages\n",
      "Requires: aiohttp, async-timeout, dataclasses-json, numpy, openapi-schema-pydantic, pydantic, PyYAML, requests, SQLAlchemy, tenacity\n",
      "Required-by: \n",
      "Note: you may need to restart the kernel to use updated packages.\n"
     ]
    }
   ],
   "source": [
    "%pip show langchain"
   ]
  },
  {
   "cell_type": "code",
   "execution_count": 182,
   "metadata": {},
   "outputs": [
    {
     "name": "stdout",
     "output_type": "stream",
     "text": [
      "{'api_base': 'https://magopenai.openai.azure.com/',\n",
      " 'api_type': 'azure',\n",
      " 'api_version': '2023-03-15-preview',\n",
      " 'best_of': 1,\n",
      " 'deployment_name': 'text-davinci-003',\n",
      " 'frequency_penalty': 0,\n",
      " 'logit_bias': {},\n",
      " 'max_tokens': 256,\n",
      " 'model_name': 'text-davinci-003',\n",
      " 'n': 1,\n",
      " 'presence_penalty': 0,\n",
      " 'request_timeout': None,\n",
      " 'temperature': 0.7,\n",
      " 'top_p': 1}\n"
     ]
    }
   ],
   "source": [
    "import openai\n",
    "\n",
    "\n",
    "# openai.api_key = gpt4_key\n",
    "# openai.api_base = gpt4_endpoint\n",
    "\n",
    "# openai.api_type = \"azure\"\n",
    "# openai.api_version = gpt4_api_version\n",
    "\n",
    "\n",
    "azure_llm = AzureOpenAI(\n",
    "    deployment_name='text-davinci-003', \n",
    "    model_name='text-davinci-003', \n",
    "    openai_api_key=chatgpt_api_key,\n",
    "    # openai_api_endpoint=chatgpt_endpoint,\n",
    "    model_kwargs={\n",
    "        \"api_base\": chatgpt_endpoint, \n",
    "        \"api_type\": \"azure\", \n",
    "        \"api_version\": chatgpt_api_version,\n",
    "    },\n",
    "\n",
    "    verbose=True)\n",
    "\n",
    "prompt = \"Hello, I am a chatbot. How are you today?\"\n",
    "azure_llm(prompt)\n",
    "pprint(azure_llm._identifying_params)"
   ]
  },
  {
   "cell_type": "code",
   "execution_count": 183,
   "metadata": {},
   "outputs": [
    {
     "name": "stdout",
     "output_type": "stream",
     "text": [
      "\n",
      "\n",
      "\u001b[1m> Entering new AgentExecutor chain...\u001b[0m\n",
      "\u001b[32;1m\u001b[1;3m Yes.\n",
      "Follow up: Who is the PM of Australia?\u001b[0m\n",
      "Intermediate answer: \u001b[36;1m\u001b[1;3mThe Hon Anthony Albanese MP was sworn in as the 31st Prime Minister of <b>Australia</b> on 23 May 2022. Mr Albanese was elected to Federal Parliament as the Member for Grayndler in 1996. In the News. Television Interview - Piers Morgan Uncensored. Transcript. PIERS MORGAN, HOST: Prime Minister, welcome to Britain. ANTHONY ALBANESE, PRIME MINISTER ... The prime minister heads the executive branch of the federal government of <b>Australia</b> and is accountable to federal parliament under the principles of responsible government. The prime minister is the chair of the federal cabinet and the national cabinet and a member of the federal executive council. The current prime minister is Anthony ... On the advice of the <b>Australian</b> Prime Minister, the King appoints the Governor-General to act on his behalf. Governor-General. His Excellency General the Honourable David Hurley AC DSC (Retd) ... The Government is made up of the Prime Minister, Deputy Prime Minister, Leader of the Government in the Senate, ministers (the Executive) and ... Anthony Albanese, in full Anthony Norman Albanese, byname Albo, (born March 2, 1963, Sydney, New South Wales, <b>Australia</b>), <b>Australian</b> politician who became the 31st prime minister of <b>Australia</b> in May 2022 at the head of the first Labor government to rule the country since 2013. The only son of a single mother of Irish descent, Albanese grew up in public housing in Camperdown, an inner-western ... The prime minister of <b>Australia</b> is the leader of the Government of <b>Australia</b> and the Cabinet of <b>Australia</b>, with the support of the majority of the House of Representatives. Thirty-one people have served in the position since the office was created in 1901. The role of prime minister is not mentioned in the Constitution of <b>Australia</b>, but the prime minister is still appointed by the governor ... The Prime Minister is the most powerful person in the <b>Australian</b> Parliament and has many tasks, including: chairing meetings in which the government discusses policies and examines bills. selecting members of the government to be ministers. leading Cabinet in deciding government policy. acting as the chief government spokesperson. <b>Australian</b> Prime Minister Scott Morrison reacts during his address to a Liberal Party function in Sydney, <b>Australia</b>. Credit: AP. Analysts have called the result a fierce rejection of Mr Morrison ...\u001b[0m\u001b[32;1m\u001b[1;3m\n",
      "Follow up: Is the PM of Australia in a relationship?\u001b[0m\n",
      "Intermediate answer: \u001b[36;1m\u001b[1;3mAlbanese is the first unmarried <b>prime minister</b> since Julia Gillard and only the second in <b>Australia</b>&#39;s history. &quot;It will be interesting to see how Haydon will adapt to her new role,&quot; Dr Williams said. <b>Australian</b> <b>PM</b>: <b>Relationship</b> going from strength to strength The <b>Australian</b> <b>prime minister</b> has said his country’s <b>relationship</b> with the UK is “going from strength to strength”, thanks to cooperation on security, trade and climate change. Anthony Albanese met with Rishi Sunak at Number 10 on Friday morning, where the <b>PM</b> is hosting a number of world leaders arriving in London for the Coronation. After one year, the <b>relationship</b> is becoming somewhat strained Anthony Albanese, in full Anthony Norman Albanese, byname Albo, (born March 2, 1963, Sydney, New South Wales, <b>Australia</b>), <b>Australian</b> politician who became the 31st <b>prime minister</b> <b>of Australia</b> in May 2022 at the head of the first Labor government to rule the country since 2013. The only son of a single mother of Irish descent, Albanese grew up in public housing in Camperdown, an inner-western ... The richest <b>prime minister</b>, perhaps ever. And, at 42, one of the youngest. Rishi Sunak on China, AUKUS and Britain’s <b>relationship</b> with <b>Australia</b> | The <b>Australian</b> The <b>Australian</b> Constitution gives the Governor-General executive power. This means the Governor-General has been given certain powers to act on behalf of the King. These include giving Royal Assent to bills – proposed laws – passed by the <b>Australian</b> Parliament and starting the process for a federal election. While these powers are exercised ... The <b>Prime Ministers</b> noted the value of the <b>Australia</b>–New Zealand Closer Economic Relations free trade agreement (CER) in underpinning our unique trade and economic <b>relationship</b>. They looked forward to celebrating its 40th year in 2023 and agreed to mark the anniversary in ways that reflect CER’s continued vitality and importance. Anthony Albanese says he accepts most Australians chose for the country to remain a constitutional monarchy and he will reflect that sentiment when he attends the king’s coronation.\u001b[0m\u001b[32;1m\u001b[1;3m\n",
      "Follow up: Who are the current and previous partners of the PM of Australia?\u001b[0m\n",
      "Intermediate answer: \u001b[36;1m\u001b[1;3mMeet the leaders in the <b>current</b> Australian Parliament, from our head of state to party leaders and Presiding Officers. Government and opposition leadership—House of Representatives. Prime Minister <b>of Australia</b>. The Hon Anthony Albanese MP. Mr Albanese is also the leader of the Australian Labor Party. The <b>current</b> prime minister, Anthony Albanese, is divorced; he has a partner, Jodie Haydon, who lives in her own home in Sydney. Albanese is the first divorcee to be appointed prime minister. All prime ministers except John McEwen, Julia Gillard and Albanese were married for the duration of their term in office. The 31st and <b>current</b> prime minister is Anthony Albanese, since 23 May 2022. There are currently seven living former prime ministers. The most recent former prime minister to die was Hawke, on 16 May 2019. The prime ministership of Frank Forde, who was prime minister for seven days in 1945, was the shortest in Australian history. The prime minister heads the executive branch of the federal government <b>of Australia</b> and is accountable to federal parliament under the principles of responsible government. The prime minister is the chair of the federal cabinet and the national cabinet and a member of the federal executive council. The <b>current</b> prime minister is Anthony ... The Prime Minister is the head of the Australian Government. ... Chronological; Time in Office; Party; View as. Grid; List; 2021. LABOR <b>AUSTRALIA</b>’S <b>CURRENT</b> PRIME MINISTER. Anthony Albanese 2022 - PRESENT 346 days Anthony Albanese became <b>Australia</b>’s 31st Prime Minister when the Labor Party won office, replacing the Liberal-National Party ... <b>Australia</b>, established as a federated union in 1901, is a constitutional monarchy, and its government is led by a prime minister, generally the leader of the majority political party or coalition in the federal House of Representatives. This is a chronologically ordered list of the prime ministers, from the earliest to the most recent. Each prime minister is listed only once; multiple terms ... Anthony was first elected to the Australian Parliament as the member for the Sydney seat of Grayndler in 1996. In 2019, he was unanimously elected as the Leader of the Australian Labor Party. Anthony grew up with his mother, Maryanne, in a council house in Sydney. As he watched his mum juggling the challenges of life on a disability pension ... Edmund Barton (1901–03): first Prime Minister <b>of Australia</b> and first Australian-born prime minister; Chris Watson (1904): first Labor prime minister and first national Labor government leader in the world; Joseph Lyons (1932–39): first prime minister to die in office; Earle Page (1939): first Country Party prime minister The Hon Anthony Albanese MP was sworn in as the 31st Prime Minister <b>of Australia</b> on 23 May 2022. Mr Albanese was elected to Federal Parliament as the Member for Grayndler in 1996. In the News. Television Interview - Piers Morgan Uncensored. Transcript. PIERS MORGAN, HOST: Prime Minister, welcome to Britain. ANTHONY ALBANESE, PRIME MINISTER ...\u001b[0m\u001b[32;1m\u001b[1;3m\n",
      "Follow up: How long have they been together?\u001b[0m\n",
      "Intermediate answer: \u001b[36;1m\u001b[1;3mFind out how well you and your partner fit <b>together</b>, how <b>long</b> you <b>have</b> <b>been</b> <b>together</b>, when you will break up (if you do) and, if so, why you will break up. Categories. Calendar, counting days etc. Finance; ... Not too <b>long</b> ago: A couple realized not only that <b>they</b> fit <b>together</b> to 19 % but also what date <b>they</b> will break up, and why. My Love shows you how <b>long</b> you and your partner <b>have</b> already <b>been</b> <b>together</b>. Thus it creates new anniversaries like &quot;the 333rd day&quot;, &quot;the 50th month&quot;, ... The new version of My Love can be customized with a picture of you and your partner. Present perfect continuous ( I <b>have been</b> working ) - English Grammar Today - a reference to written and spoken English grammar and usage - Cambridge Dictionary The timer counts down in years, months, weeks, days, minutes and even seconds. Choose between many romantic images and videos. You can save your event count as an image. Share your illustrated events on social networks like Facebook and Twitter. The app is easy to use, very customizable and works extremely well. Three years later <b>they</b> graduate <b>together</b>. Their relationship goes public In 2004, a year before graduating from St. Andrews University, William’s relationship with Middleton goes public. Sunday, May 22, 2022 at 9:06 AM by Chris Ndetei. Many fans are intrigued by celebrity couples. From Jay-Z and Beyonce to Asap Rocky and Rihanna, these couples generate a lot of interest. But, recently, one pair <b>has</b> piqued the interest of fans. MGK and Megan Fox <b>have</b> <b>been</b> <b>together</b> since 2020 and are still going strong. Christopher Polk/NBC/NBCU Photo Bank. Taylor Swift and Joe Alwyn <b>have</b> reportedly <b>been</b> dating since 2016. <b>They</b> <b>have</b> declined to give details about their relationship and made very few public appearances. Alwyn <b>has</b> cowritten six of Swift&#39;s songs, which appear on &quot;Folklore,&quot; &quot;Evermore,&quot; and &quot;Midnights.&quot; This calculator will calculate the number of days between two dates and then translate those number of days to their equivalent years, months, weeks, hours, minutes, and seconds. Note that if you would like to see what the date would be if you were to add days to a date or subtract days from a date (or add or subtract other time units, such as ... 19 Relationship Tips From Real-Life Couples Who <b>Have</b> <b>Been</b> <b>Together</b> For Pretty Much Forever ... to share how <b>they</b> keep their <b>long</b>-term relationships fulfilling even after years and years <b>together</b> ... Although <b>they</b> are still facing some pushback from Sumit’s family on the show, the couple <b>has</b> remained <b>together</b> for the last few years, and is still <b>together</b> today.\u001b[0m\u001b[32;1m\u001b[1;3m\n",
      "So the final answer is: Anthony Albanese and his partner Jodie Haydon have been together since at least 2021.\u001b[0m\n",
      "\n",
      "\u001b[1m> Finished chain.\u001b[0m\n"
     ]
    },
    {
     "data": {
      "text/plain": [
       "'Anthony Albanese and his partner Jodie Haydon have been together since at least 2021.'"
      ]
     },
     "execution_count": 183,
     "metadata": {},
     "output_type": "execute_result"
    }
   ],
   "source": [
    "from langchain.agents import initialize_agent, Tool\n",
    "from langchain.agents import AgentType\n",
    "\n",
    "\n",
    "\n",
    "search = BingSearchAPIWrapper(\n",
    "    bing_search_url=bing_search_url, \n",
    "    bing_subscription_key=bing_subscription_key)\n",
    "\n",
    "\n",
    "tools = [\n",
    "    Tool(\n",
    "        name=\"Intermediate Answer\",\n",
    "        func=search.run,\n",
    "        description=\"useful for when you need to ask with search\"\n",
    "    )\n",
    "]\n",
    "\n",
    "self_ask_with_search = initialize_agent(tools, azure_llm, agent=AgentType.SELF_ASK_WITH_SEARCH, verbose=True)\n",
    "self_ask_with_search.run(\"Who is the PM of australia, is he in a relationship, and who are the current and previous partners, and how long have they been together\")"
   ]
  },
  {
   "cell_type": "code",
   "execution_count": 184,
   "metadata": {},
   "outputs": [
    {
     "name": "stdout",
     "output_type": "stream",
     "text": [
      "\n",
      "\n",
      "\u001b[1m> Entering new AgentExecutor chain...\u001b[0m\n",
      "\u001b[32;1m\u001b[1;3m Yes.\n",
      "Follow up: Who was the first female PM of Australia?\u001b[0m\n",
      "Intermediate answer: \u001b[36;1m\u001b[1;3mOn 24 June 2010 the 25th and <b>first</b> <b>female</b> governor-general of <b>Australia</b>, Her Excellency Ms Quentin Bryce AC, swore in the 27th and <b>first</b> <b>female</b> prime minister, Ms Julia Gillard. This day marked a milestone in <b>Australian</b> politics with <b>women</b> filling the two highest positions in the nation, 116 years after <b>women</b> <b>first</b> obtained the vote in South <b>Australia</b>. Since the office was established in 1901, thirty men and one <b>woman</b> have been prime minister. Robert Menzies and Kevin Rudd served two non-consecutive terms in office whilst Alfred Deakin and Andrew Fisher served three non-consecutive terms. The 31st and current prime minister is Anthony Albanese, since 23 May 2022. [9] We take a look at some of the most significant moments of our <b>first</b> <b>female</b> prime minister. June 24 2010: Julia Gillard becomes <b>Australia</b>’s <b>first</b> <b>female</b> <b>PM</b>, ousting Kevin Rudd in the process. August 2010: The 2010 federal election results in a hung parliament, Gillard secures the support of the Greens and three independent MPs to secure the ... Julia Gillard, in full Julia Eileen Gillard, (born September 29, 1961, Barry, Vale of Glamorgan, Wales), <b>Australian</b> politician who served as leader of the <b>Australian</b> Labor Party (ALP; 2010–13) and as prime minister of <b>Australia</b> (2010–13). She was the <b>first</b> <b>woman</b> to hold either office. Gillard was born in Wales, but her family joined the wave of post-World War II emigration from Britain to ... When Julia Gillard was sworn into office as <b>Australia</b>’s <b>first</b> <b>female</b> prime minister on a chilly Canberra morning in 2010, it seemed like the ultimate glass ceiling had been smashed. On 24 June 2010 the <b>first</b> <b>female</b> governor-general of <b>Australia</b>, Her Excellency Ms Quentin Bryce AC, swore in the <b>first female</b> prime minister, Ms Julia Gillard. This day was a milestone in <b>Australian</b> politics because <b>women</b> filled the two highest positions in the country at the same time, 116 years after <b>women</b> <b>first</b> won the vote in South <b>Australia</b>. Cartoon titled ‘Dues Paid’, by Ian R. Sharpe, 2008 This cartoon of Julia Gillard appeared in The Canberra Times on 20 July 2008. She became the <b>first</b> <b>woman</b> to hold the position of Deputy Prime Minister when the <b>Australian</b> Labor Party won the 2007 election. On 24 June 2010 Gillard became the <b>first</b> <b>woman</b> to hold the office of Prime Minister ... Carmen Lawrence became the <b>first</b> <b>female</b> premier of a state in 1990, by serving as the 25th Premier of Western <b>Australia</b>. In 2010, Julia Gillard became the <b>first</b>, and to date, only <b>female</b> Prime Minister of <b>Australia</b>. Today, every <b>Australian</b> state and territory has had at least one <b>female</b> government head, except for South <b>Australia</b> ... Julia Eileen Gillard AC (born 29 September 1961) is an <b>Australian</b> former politician who served as the 27th prime minister of <b>Australia</b> from 2010 to 2013, holding office as leader of the <b>Australian</b> Labor Party (ALP). She previously served as the 13th deputy prime minister of <b>Australia</b> from 2007 to 2010, under Prime Minister Kevin Rudd.She is the <b>first</b> and only <b>female</b> to hold either office in ...\u001b[0m\u001b[32;1m\u001b[1;3mSo the final answer is: Julia Gillard, June 24, 2010\u001b[0m\n",
      "\n",
      "\u001b[1m> Finished chain.\u001b[0m\n"
     ]
    },
    {
     "data": {
      "text/plain": [
       "'Julia Gillard, June 24, 2010'"
      ]
     },
     "execution_count": 184,
     "metadata": {},
     "output_type": "execute_result"
    }
   ],
   "source": [
    "self_ask_with_search.run(\"who was the first female PM of Australia\"\n",
    "                         \"When and for how long? \"\n",
    "                         \" was this person in a relationship\" \n",
    "                        \" and who are the current and previous partners, and how long have they been together?\")"
   ]
  },
  {
   "attachments": {},
   "cell_type": "markdown",
   "metadata": {},
   "source": [
    "# adding math tool to the agent \n",
    "\n",
    "https://python.langchain.com/en/latest/modules/agents/getting_started.html "
   ]
  },
  {
   "cell_type": "code",
   "execution_count": 185,
   "metadata": {},
   "outputs": [],
   "source": [
    "from langchain.agents.load_tools import _get_llm_math, _get_bing_search\n",
    "\n",
    "\n"
   ]
  },
  {
   "cell_type": "code",
   "execution_count": 186,
   "metadata": {},
   "outputs": [],
   "source": [
    "tools_maths = []\n",
    "# tools_maths.append(\"llm-math\")\n",
    "tools_maths.append(_get_llm_math(llm=azure_llm))\n",
    "tools_maths.append(\n",
    "    Tool(\n",
    "        name=\"Intermediate Answer\",\n",
    "        func=search.run,\n",
    "        description=\"useful for when you need to ask with search\", \n",
    "\n",
    "    )\n",
    ")"
   ]
  },
  {
   "cell_type": "code",
   "execution_count": 187,
   "metadata": {},
   "outputs": [
    {
     "name": "stdout",
     "output_type": "stream",
     "text": [
      "[Tool(name='Calculator', description='Useful for when you need to answer questions about math.', return_direct=False, verbose=False, callback_manager=<langchain.callbacks.shared.SharedCallbackManager object at 0x000001DAB71FC790>, func=<bound method Chain.run of LLMMathChain(memory=None, callback_manager=<langchain.callbacks.shared.SharedCallbackManager object at 0x000001DAB71FC790>, verbose=False, llm=AzureOpenAI(cache=None, verbose=True, callback_manager=<langchain.callbacks.shared.SharedCallbackManager object at 0x000001DAB71FC790>, client=<class 'openai.api_resources.completion.Completion'>, model_name='text-davinci-003', temperature=0.7, max_tokens=256, top_p=1, frequency_penalty=0, presence_penalty=0, n=1, best_of=1, model_kwargs={'api_base': 'https://magopenai.openai.azure.com/', 'api_type': 'azure', 'api_version': '2023-03-15-preview'}, openai_api_key='4a3eda50f0f444cd8baefc46f45ea61a', openai_organization=None, batch_size=20, request_timeout=None, logit_bias={}, max_retries=6, streaming=False, deployment_name='text-davinci-003'), prompt=PromptTemplate(input_variables=['question'], output_parser=None, partial_variables={}, template='Translate a math problem into Python code that can be executed in Python 3 REPL. Use the output of running this code to answer the question.\\n\\nQuestion: ${{Question with math problem.}}\\n```python\\n${{Code that solves the problem and prints the solution}}\\n```\\n```output\\n${{Output of running the code}}\\n```\\nAnswer: ${{Answer}}\\n\\nBegin.\\n\\nQuestion: What is 37593 * 67?\\n\\n```python\\nprint(37593 * 67)\\n```\\n```output\\n2518731\\n```\\nAnswer: 2518731\\n\\nQuestion: {question}\\n', template_format='f-string', validate_template=True), input_key='question', output_key='answer')>, coroutine=<bound method Chain.arun of LLMMathChain(memory=None, callback_manager=<langchain.callbacks.shared.SharedCallbackManager object at 0x000001DAB71FC790>, verbose=False, llm=AzureOpenAI(cache=None, verbose=True, callback_manager=<langchain.callbacks.shared.SharedCallbackManager object at 0x000001DAB71FC790>, client=<class 'openai.api_resources.completion.Completion'>, model_name='text-davinci-003', temperature=0.7, max_tokens=256, top_p=1, frequency_penalty=0, presence_penalty=0, n=1, best_of=1, model_kwargs={'api_base': 'https://magopenai.openai.azure.com/', 'api_type': 'azure', 'api_version': '2023-03-15-preview'}, openai_api_key='4a3eda50f0f444cd8baefc46f45ea61a', openai_organization=None, batch_size=20, request_timeout=None, logit_bias={}, max_retries=6, streaming=False, deployment_name='text-davinci-003'), prompt=PromptTemplate(input_variables=['question'], output_parser=None, partial_variables={}, template='Translate a math problem into Python code that can be executed in Python 3 REPL. Use the output of running this code to answer the question.\\n\\nQuestion: ${{Question with math problem.}}\\n```python\\n${{Code that solves the problem and prints the solution}}\\n```\\n```output\\n${{Output of running the code}}\\n```\\nAnswer: ${{Answer}}\\n\\nBegin.\\n\\nQuestion: What is 37593 * 67?\\n\\n```python\\nprint(37593 * 67)\\n```\\n```output\\n2518731\\n```\\nAnswer: 2518731\\n\\nQuestion: {question}\\n', template_format='f-string', validate_template=True), input_key='question', output_key='answer')>),\n",
      " Tool(name='Intermediate Answer', description='useful for when you need to ask with search', return_direct=False, verbose=False, callback_manager=<langchain.callbacks.shared.SharedCallbackManager object at 0x000001DAB71FC790>, func=<bound method BingSearchAPIWrapper.run of BingSearchAPIWrapper(bing_subscription_key='0058d1f5e71c49b6ae96fc3155db5789', bing_search_url='https://api.bing.microsoft.com/v7.0/search', k=10)>, coroutine=None)]\n"
     ]
    }
   ],
   "source": [
    "pprint(tools_maths)"
   ]
  },
  {
   "cell_type": "code",
   "execution_count": 188,
   "metadata": {},
   "outputs": [],
   "source": [
    "new_maths_agent = initialize_agent(\n",
    "    tools_maths, \n",
    "    azure_llm, \n",
    "    agent=AgentType.ZERO_SHOT_REACT_DESCRIPTION, \n",
    "    verbose=True)"
   ]
  },
  {
   "cell_type": "code",
   "execution_count": 189,
   "metadata": {},
   "outputs": [],
   "source": [
    "new_maths_agent = initialize_agent(\n",
    "    [_get_llm_math(llm=azure_llm), \n",
    "     Tool(\n",
    "        name=\"Intermediate Answer\",\n",
    "        func=search.run,\n",
    "        description=\"useful for when you need to ask with search\",)], \n",
    "    azure_llm, \n",
    "    agent=AgentType.ZERO_SHOT_REACT_DESCRIPTION, \n",
    "    verbose=True)\n"
   ]
  },
  {
   "cell_type": "code",
   "execution_count": 190,
   "metadata": {},
   "outputs": [
    {
     "name": "stdout",
     "output_type": "stream",
     "text": [
      "\n",
      "\n",
      "\u001b[1m> Entering new AgentExecutor chain...\u001b[0m\n",
      "\u001b[32;1m\u001b[1;3m I need to know Barack Obama's height in cm, Hillary Clinton's age, and how to do the math.\n",
      "Action: Intermediate Answer\n",
      "Action Input: Barack Obama height in cm, Hillary Clinton age\u001b[0m\n",
      "Observation: \u001b[33;1m\u001b[1;3mThe second tallest unsuccessful candidate is John Kerry, at 6 ft 4 in (193 <b>cm</b>). The shortest unsuccessful presidential candidate is Stephen A. Douglas, at 5 ft 4 in (163 <b>cm</b>). The next shortest is <b>Hillary</b> <b>Clinton</b>, who lost the 2016 election and is 5 ft 5 in (165 <b>cm</b>). The largest <b>height</b> difference between two presidential candidates (out of the ... John F Kennedy. 185. <b>Barack</b> <b>Obama</b>. 185. <b>Height</b> <b>in centimeters</b> (<b>cm</b>) Abraham Lincoln Lyndon B. Johnson Donald Trump* Thomas Jefferson Chester A. Arthur Bill <b>Clinton</b> George Washington Franklin D ... Presidential Heights. Abraham Lincoln was the tallest president at 6 feet 4 inches (193 <b>cm</b>) tall. James Madison was the shortest president at 5 feet 4 inches (163 <b>cm</b>) tall. The average <b>height</b> of the US presidents is 5 feet 11 inches (180 <b>cm</b>) tall. Rank. 6ft 1 (185.4 <b>cm</b>) <b>Barack</b> Hussein <b>Obama</b> is an American politician, who from 2009 to 2017 served as the 44th President. One newspaper seemingly asked his press office his <b>height</b>, to which they said &quot;roughly 6ft 1&quot;. In 2010 his Whitehouse medical had him listed as 6ft 1 and 179.9 pounds (in shoes/clothes). In 2016 though, his physical resulted in a ... <b>Barack Obama Height,</b> Weight,<b> Age</b>, Body Statistics are here. ... <b>Barack</b> <b>Obama</b> can be reached through the <b>Barack</b> <b>Obama</b> Foundation and Office of <b>Barack</b> and Michelle <b>Obama</b>. Build. Slim. <b>Height</b>. 6 ft 1 in or 185 <b>cm</b>. Weight. 81.5 kg or 180 lbs. ... He was up against <b>Hillary</b> <b>Clinton</b> in a bid to win the Democratic Party nomination but in face of <b>Obama</b> ... <b>Hillary Clinton Height</b> Weight Body Statistics. <b>Hillary</b> <b>Clinton</b> <b>Height</b> is 1.62 m and Weight is 70 kg. ... as the 67th United States Secretary of State for President <b>Barack</b> <b>Obama</b> from 2009 to 2013, and as a United States senator representing New York from 2001 to 2009. As a member of the Democratic Party, she was announced as the party’s ... <b>Hillary Clinton</b>, in full <b>Hillary</b> Rodham <b>Clinton</b>, née <b>Hillary</b> Diane Rodham, (born October 26, 1947, Chicago, Illinois, U.S.), American lawyer and politician who served as a U.S. senator (2001–09) and secretary of state (2009–13) in the administration of Pres. <b>Barack</b> <b>Obama</b>. She had served as first lady (1993–2001) during the administration of her husband, Bill <b>Clinton</b>, 42nd president of ... <b>Obama</b>’s parents met in a Russian language class in 1960, at the University of Hawai’i. <b>Obama</b>’s father died in a road accident when <b>Barack</b> was just 21 years old. In his teenage, <b>Obama</b> became a member of a group made by his friends called “Choom Gang” and occasionally smoked marijuana. <b>Obama</b> made his first public speech at the ... <b>Hillary</b> <b>Clinton</b> <b>Age</b>, Net Worth, <b>Height</b>, Wiki, Family. May 5, 2023 by admin. ... First Woman of the United States from 1992 to 2000 who served as the 67th U.S. Secretary of State under President <b>Barack</b> <b>Obama</b> from 2009 to 2013. She was additionally a U.S. Senator from New York from 2001 to 2009. ... <b>Hillary</b> <b>Clinton</b> <b>Height</b>, Weight ...\u001b[0m\n",
      "Thought:\u001b[32;1m\u001b[1;3m I now know Barack Obama's height in cm and Hillary Clinton's age\n",
      "Action: Calculator\n",
      "Action Input: 185 cm / 2 + 70\u001b[0m\n",
      "Observation: \u001b[36;1m\u001b[1;3mAnswer: 162.5\n",
      "\u001b[0m\n",
      "Thought:\u001b[32;1m\u001b[1;3m I now know the final answer\n",
      "Final Answer: 162.5\u001b[0m\n",
      "\n",
      "\u001b[1m> Finished chain.\u001b[0m\n"
     ]
    },
    {
     "data": {
      "text/plain": [
       "'162.5'"
      ]
     },
     "execution_count": 190,
     "metadata": {},
     "output_type": "execute_result"
    }
   ],
   "source": [
    "new_maths_agent.run(\"What is the height Barack Obama in cm devided by two and then added to Hillary Clinton's age?\")"
   ]
  },
  {
   "cell_type": "code",
   "execution_count": 191,
   "metadata": {},
   "outputs": [
    {
     "name": "stdout",
     "output_type": "stream",
     "text": [
      "\n",
      "\n",
      "\u001b[1m> Entering new AgentExecutor chain...\u001b[0m\n",
      "\u001b[32;1m\u001b[1;3m Yes.\n",
      "Follow up: What is the height of Barack Obama?\u001b[0m\n",
      "Intermediate answer: \u001b[36;1m\u001b[1;3m<b>Barack</b> <b>Obama</b>: 6 ft 1 + 1 ... The largest <b>height</b> difference between two presidential candidates (out of the candidates whose heights are known) was in the 1860 election, when Abraham Lincoln stood 12 inches (30 cm) taller than opponent Stephen A. Douglas. Presidential Heights. Abraham Lincoln was the tallest president at 6 feet 4 inches (193 cm) tall. James Madison was the shortest president at 5 feet 4 inches (163 cm) tall. The average <b>height</b> of the US presidents is 5 feet 11 inches (180 cm) tall. Rank. <b>Barack</b> <b>Obama</b>. 185. <b>Height</b> in centimeters (cm) Abraham Lincoln Lyndon B. Johnson Donald Trump* Thomas Jefferson Chester A. Arthur Bill Clinton George Washington Franklin D. Roosevelt George H. W ... 6ft 1 (185.4 cm) <b>Barack</b> Hussein <b>Obama</b> is an American politician, who from 2009 to 2017 served as the 44th President. One newspaper seemingly asked his press office his <b>height</b>, to which they said &quot;roughly 6ft 1&quot;. In 2010 his Whitehouse medical had him listed as 6ft 1 and 179.9 pounds (in shoes/clothes). In 2016 though, his physical resulted in a ... At 5ft 7ins, Hollande is two inches taller than Sarkozy but also two inches shorter than the average <b>height</b> for French leaders of the past 40 years. Both David Cameron and <b>Barack</b> <b>Obama</b> beat the ... Standing at a <b>height</b> of 6′ 1″ (1.85 m), <b>Barack</b> <b>Obama</b> is very much taller than the average American male that is 5 feet 9 inches tall. <b>Obama</b> is not just the first African-American president; he is also one of the tallest presidents the country has ever had, though Abraham Lincoln remains the tallest so far at 6 foot 4 inches (193 cm) tall. <b>Barack</b> <b>Obama</b> was the 44th President of the United States. He spent 8 years in power from January 20, 2009, to January 20, ... <b>Barack</b> <b>Obama</b> can be reached through the <b>Barack</b> <b>Obama</b> Foundation and Office of <b>Barack</b> and Michelle <b>Obama</b>. Build. Slim. <b>Height</b>. 6 ft 1 in or 185 cm. Weight. 81.5 kg or 180 lbs. <b>Barack Obama</b>, in full <b>Barack</b> Hussein <b>Obama</b> II, (born August 4, 1961, Honolulu, Hawaii, U.S.), 44th president of the United States (2009–17) and the first African American to hold the office. Before winning the presidency, <b>Obama</b> represented Illinois in the U.S. Senate (2005–08). He was the third African American to be elected to that body since the end of Reconstruction (1877). In 2009 he ... Find out how tall <b>Barack</b> <b>Obama</b> is! To help visualize his <b>height</b>, we&#39;ve included a side by side comparison with other celebrities, short and tall!\u001b[0m\u001b[32;1m\u001b[1;3m\n",
      "So the final answer is: 185 cm\u001b[0m\n",
      "\n",
      "\u001b[1m> Finished chain.\u001b[0m\n"
     ]
    },
    {
     "data": {
      "text/plain": [
       "'185 cm'"
      ]
     },
     "execution_count": 191,
     "metadata": {},
     "output_type": "execute_result"
    }
   ],
   "source": [
    "self_ask_with_search.run('What is the height Barack Obama in cm ?')\n"
   ]
  },
  {
   "cell_type": "code",
   "execution_count": 192,
   "metadata": {},
   "outputs": [
    {
     "name": "stdout",
     "output_type": "stream",
     "text": [
      "\n",
      "\n",
      "\u001b[1m> Entering new AgentExecutor chain...\u001b[0m\n",
      "\u001b[32;1m\u001b[1;3m No.\n",
      "So the final answer is: Hillary Clinton is 72 years old.\u001b[0m\n",
      "\n",
      "\u001b[1m> Finished chain.\u001b[0m\n"
     ]
    },
    {
     "data": {
      "text/plain": [
       "'Hillary Clinton is 72 years old.'"
      ]
     },
     "execution_count": 192,
     "metadata": {},
     "output_type": "execute_result"
    }
   ],
   "source": [
    "self_ask_with_search.run('what is Hillary Clinton\\'s age?')"
   ]
  },
  {
   "cell_type": "code",
   "execution_count": 193,
   "metadata": {},
   "outputs": [
    {
     "data": {
      "text/plain": [
       "165.5"
      ]
     },
     "execution_count": 193,
     "metadata": {},
     "output_type": "execute_result"
    }
   ],
   "source": [
    "(185 / 2) + 73"
   ]
  },
  {
   "cell_type": "code",
   "execution_count": 194,
   "metadata": {},
   "outputs": [
    {
     "name": "stdout",
     "output_type": "stream",
     "text": [
      "\n",
      "\n",
      "\u001b[1m> Entering new AgentExecutor chain...\u001b[0m\n",
      "\u001b[32;1m\u001b[1;3m Yes.\n",
      "Follow up: What is the population of Australia?\u001b[0m\n",
      "Intermediate answer: \u001b[36;1m\u001b[1;3mIn 2021, 29.1% of <b>Australia</b>&#39;s <b>population</b> were born overseas. This decreased from 29.8% in 2020 ; 7.5 million people resident in <b>Australia</b> in 2021 were born overseas; Largest group of overseas-born were born in England, however Indian-born was the group with the largest increase since 2011 The current <b>population</b> of <b>Australia</b> is 26,336,160 as of Wednesday, May 3, 2023, based on <b>Worldometer</b> elaboration of the latest United Nations data.; <b>Australia</b> 2020 <b>population</b> is estimated at 25,499,884 people at mid year according to UN data.; <b>Australia population</b> is equivalent to 0.33% of the total world <b>population</b>.; <b>Australia</b> ranks number 55 in the list of countries (and dependencies) by ... Census. Thank you to the millions of people who completed the 2021 Census. Data is now available and will continue to be released until mid-2023. <b>Australia</b>, the smallest continent and one of the largest countries on Earth, lying between the Pacific and Indian oceans in the Southern Hemisphere. <b>Australia</b>’s capital is Canberra, located in the southeast between the larger and more important economic and cultural centres of Sydney and Melbourne. The Australian mainland extends from west to east for nearly 2,500 miles (4,000 km) and from ... Over 85% of Australians lived in urban areas and nearly 70% lived in our capital cities, making <b>Australia</b> one of the world’s most urbanised countries. Based on our research <b>Australia</b> <b>population</b> will reach 27.149 million by the end of 2023. The calculation is based on the average growth rate of 1.63% over last 11 years since 2011. By 1800, the <b>population</b> of <b>Australia</b> was approximately 350,000 people, and the majority of these were Indigenous Australians. As colonization progressed the number of ethnic Europeans increased ... <b>Australia</b>’s speedy rebound in <b>population</b> growth could have “unanticipated or more pervasive effects” on the economy, potentially adding to inflationary pressures, a senior Reserve Bank ...\u001b[0m\u001b[32;1m\u001b[1;3mFollow up: What is the area of Australia?\u001b[0m\n",
      "Intermediate answer: \u001b[36;1m\u001b[1;3m<b>Australia</b>, officially the Commonwealth of <b>Australia</b>, is a sovereign country comprising the mainland of the Australian continent, the island of Tasmania, and numerous smaller islands. <b>Australia</b> is the largest country by <b>area</b> in Oceania and the world&#39;s sixth-largest country.<b>Australia</b> is the oldest, flattest, and driest inhabited continent, with the least fertile soils. <b>Australia</b> is the world&#39;s sixth largest country, after Russia, Canada, China, the USA, and Brazil. In addition to the mainland, <b>Australia</b> is surrounded by many thousands of small fringing islands and numerous larger ones, which, overall, amount to an <b>area</b> half the size of Tasmania. <b>Australia</b>, the smallest continent and one of the largest countries on Earth, lying between the Pacific and Indian oceans in the Southern Hemisphere. <b>Australia</b>’s capital is Canberra, located in the southeast between the larger and more important economic and cultural centres of Sydney and Melbourne. The Australian mainland extends from west to east for nearly 2,500 miles (4,000 km) and from ... <b>Australia</b> is an arid continent; fully one-third of its <b>area</b> is occupied by desert, another third is steppe or semidesert, and only in the north, east, southeast, and southwest is precipitation adequate to support vegetation that significantly protects the land surface from weathering. The land <b>area</b> of <b>Australia</b> is 7,682,300 km2 and accounts for only 5 % of the world’s land <b>area</b> of 149 450 000 square km.; Over 85 percent of Australian’s live less than 50 kilometers from the coast, not surprising then that beaches are an integral part of Australian life, the East Coast being one of the most popular areas. <b>Australia</b> is the planet’s sixth-largest country after Russia ... This is a black-and-white map of <b>Australia</b> showing areas of &#39;habitability&#39; (where people can live) based on the quality of agricultural or pastoral land. The map shows the correlation between quality of agricultural and pastoral land and density of population, which is indicated by black lines. Coalfields are also noted on the map. Search by map or region list to find statistics about different areas in <b>Australia</b>. Data by region is intended for users interested in the characteristics of regions and for comparing regions across <b>Australia</b>. Data are available for Local Government Areas, Remoteness Areas, Indigenous Structure levels, Statistical Areas Levels 2 - 4, Greater ... <b>Australia</b> is one of the world’s largest countries and it is unique due to its low population density and for wildlife that is uniquely found in <b>Australia</b>. <b>Australia</b> is also famous for hosting the Great Barrier Reef which is the largest coral reef on earth. <b>Australia</b>’s total land <b>area</b> is about 2,957,431 square miles.\u001b[0m\u001b[32;1m\u001b[1;3mSo the final answer is: Population: 26,336,160 and Area: 7,682,300 km2\u001b[0m\n",
      "\n",
      "\u001b[1m> Finished chain.\u001b[0m\n"
     ]
    },
    {
     "data": {
      "text/plain": [
       "'Population: 26,336,160 and Area: 7,682,300 km2'"
      ]
     },
     "execution_count": 194,
     "metadata": {},
     "output_type": "execute_result"
    }
   ],
   "source": [
    "self_ask_with_search.run('what is the Population of Australia? and what is it\\'s Area?')"
   ]
  },
  {
   "cell_type": "code",
   "execution_count": 195,
   "metadata": {},
   "outputs": [
    {
     "name": "stdout",
     "output_type": "stream",
     "text": [
      "\n",
      "\n",
      "\u001b[1m> Entering new AgentExecutor chain...\u001b[0m\n",
      "\u001b[32;1m\u001b[1;3m I should look for the population and land area of Australia\n",
      "Action: Intermediate Answer\n",
      "Action Input: Population and land area of Australia\u001b[0m\n",
      "Observation: \u001b[33;1m\u001b[1;3mStatistics in this release are commonly known as Estimated Resident <b>Population</b> (ERP). <b>Australia</b>’s <b>population</b> was 26,124,814 people at 30 September 2022. The quarterly growth was 128,670 people (0.5%). The annual growth was 418,500 people (1.6%). Annual natural increase was 114,800 and net overseas migration was 303,700. Statistics in this release are commonly known as Estimated Resident <b>Population</b> (ERP). <b>Australia</b>’s <b>population</b> was 26,124,814 people at 30 September 2022. The quarterly growth was 128,670 people (0.5%). The annual growth was 418,500 people (1.6%). Annual natural increase was 114,800 and net overseas migration was 303,700. <b>Australia</b> has an average <b>population</b> density of 3.4 persons per square kilometre of total <b>land</b> <b>area</b>, which makes it one of the most sparsely populated countries in the world. The <b>population</b> is heavily concentrated on the east coast, and in particular in the south-eastern region between South East Queensland to the north-east and Adelaide to the south-west. <b>Australia</b>, the smallest continent and one of the largest countries on Earth, lying between the Pacific and Indian oceans in the Southern Hemisphere. <b>Australia</b>’s capital is Canberra, located in the southeast between the larger and more important economic and cultural centres of Sydney and Melbourne. The Australian mainland extends from west to east for nearly 2,500 miles (4,000 km) and from ... <b>Australia</b> is the planet&#39;s sixth largest country after Russia, Canada, China, the USA, and Brazil. At 7 692 024 km 2, it accounts for just five percent of the world&#39;s <b>land</b> <b>area</b> of 149 450 000 km 2, and although it is the smallest continental <b>land</b> mass, it is the world&#39;s largest island. For more information visit The World Factbook. This image shows the location of <b>Australia</b>’s centre of <b>population</b> on a map of <b>Australia</b>. The <b>area</b> of the centre of <b>population</b> is zoomed in to an SA2 level, showing the locations of the centre of <b>population</b> as at 30 June 2021 and 30 June 2022. ... <b>Australia</b>&#39;s <b>population</b> density at June 2022 was 3.4 people per square kilometre (sq km ... <b>Australia population</b> is equivalent to 0.33% of the total world <b>population</b>. <b>Australia</b> ranks number 55 in the list of countries (and dependencies) by <b>population</b>. The <b>population</b> density in <b>Australia</b> is 3 per Km 2 (9 people per mi 2). The total <b>land</b> <b>area</b> is 7,682,300 Km2 (2,966,151 sq. miles) 85.9 % of the <b>population</b> is urban (21,903,705 people in ... About this record. This is a black-and-white map of <b>Australia</b> showing areas of &#39;habitability&#39; (where people can live) based on the quality of agricultural or pastoral <b>land</b>. The map shows the correlation between quality of agricultural and pastoral <b>land</b> and density of <b>population</b>, which is indicated by black lines.\u001b[0m\n",
      "Thought:\u001b[32;1m\u001b[1;3m I can calculate the average land area per person\n",
      "Action: Calculator\n",
      "Action Input: (7,682,300 Km2) / (26,124,814 people)\u001b[0m\n",
      "Observation: \u001b[36;1m\u001b[1;3mAnswer: 0.29406142374831834\n",
      "\u001b[0m\n",
      "Thought:\u001b[32;1m\u001b[1;3m I now know the final answer\n",
      "Final Answer: On average, each person in Australia has 0.29 km2 of land.\u001b[0m\n",
      "\n",
      "\u001b[1m> Finished chain.\u001b[0m\n"
     ]
    },
    {
     "data": {
      "text/plain": [
       "'On average, each person in Australia has 0.29 km2 of land.'"
      ]
     },
     "execution_count": 195,
     "metadata": {},
     "output_type": "execute_result"
    }
   ],
   "source": [
    "new_maths_agent.run(\"In Australia, how many km2 per person on average ?\")"
   ]
  },
  {
   "cell_type": "code",
   "execution_count": 196,
   "metadata": {},
   "outputs": [
    {
     "name": "stdout",
     "output_type": "stream",
     "text": [
      "\n",
      "\n",
      "\u001b[1m> Entering new AgentExecutor chain...\u001b[0m\n",
      "\u001b[32;1m\u001b[1;3m I need to divide two numbers\n",
      "Action: Calculator\n",
      "Action Input: 7,682,300 Km2 / 26,124,814\u001b[0m\n",
      "Observation: \u001b[36;1m\u001b[1;3mAnswer: 0.29406142374831834\n",
      "\u001b[0m\n",
      "Thought:\u001b[32;1m\u001b[1;3m I now know the final answer\n",
      "Final Answer: 0.29406142374831834 Km2 per person\u001b[0m\n",
      "\n",
      "\u001b[1m> Finished chain.\u001b[0m\n"
     ]
    },
    {
     "data": {
      "text/plain": [
       "'0.29406142374831834 Km2 per person'"
      ]
     },
     "execution_count": 196,
     "metadata": {},
     "output_type": "execute_result"
    }
   ],
   "source": [
    "new_maths_agent.run(\"what is 7,682,300 Km2 / 26,124,814 people\")"
   ]
  },
  {
   "cell_type": "code",
   "execution_count": 197,
   "metadata": {},
   "outputs": [
    {
     "data": {
      "text/plain": [
       "0.29406142374831834"
      ]
     },
     "execution_count": 197,
     "metadata": {},
     "output_type": "execute_result"
    }
   ],
   "source": [
    "7682300/26124814\n"
   ]
  },
  {
   "cell_type": "code",
   "execution_count": 198,
   "metadata": {},
   "outputs": [],
   "source": [
    "# new way for bing and maths \n",
    "\n",
    "new_tools2  = [] \n",
    "new_tools2.append(_get_llm_math(llm=azure_llm))\n",
    "new_tools2.append(_get_bing_search(\n",
    "    bing_search_url= bing_search_url,\n",
    "    bing_subscription_key=bing_subscription_key))\n",
    "\n",
    "\n",
    "\n",
    "new_maths_agent2 = initialize_agent(\n",
    "    new_tools2, \n",
    "    azure_llm, \n",
    "    agent=AgentType.ZERO_SHOT_REACT_DESCRIPTION, \n",
    "    verbose=True)"
   ]
  },
  {
   "cell_type": "code",
   "execution_count": 199,
   "metadata": {},
   "outputs": [
    {
     "name": "stdout",
     "output_type": "stream",
     "text": [
      "\n",
      "\n",
      "\u001b[1m> Entering new AgentExecutor chain...\u001b[0m\n",
      "\u001b[32;1m\u001b[1;3m I need to calculate the area of Australia first.\n",
      "Action: Intermediate Answer\n",
      "Action Input: Area of Australia in km2\u001b[0m\n",
      "Observation: \u001b[33;1m\u001b[1;3m<b>Australia</b>. / ﻿ 35.30806°S 149.12444°E ﻿ / -35.30806; 149.12444. <b>Australia</b>, officially the Commonwealth of <b>Australia</b>, is a sovereign country comprising the mainland of the Australian continent, the island of Tasmania, and numerous smaller islands. [14] <b>Australia</b> is the largest country by <b>area</b> in Oceania and the world&#39;s sixth-largest country. In addition to the mainland, <b>Australia</b> is surrounded by many thousands of small fringing islands and numerous larger ones, which, overall, amount to an <b>area</b> half the size of Tasmania. State/Territory. %. Mainland <b>area</b> <b>km 2</b>. Island <b>area</b> <b>km 2</b>. Total <b>area</b> <b>km 2</b>. Western <b>Australia</b>. 32.9. 2 523 924. This is a list of countries by total <b>area</b>. The total <b>area</b> is the sum of all land and Inland water bodies (lakes, reservoirs, rivers). Data is taken from the United Nations Statistics Division. Pos Country Total <b>in km 2</b> (mi 2) 1 ... <b>Australia</b>: 7,692,024 (2,969,907) 7 Covering an <b>area</b> of 7,617,930 sq.km (2,969,907 sq mi), <b>Australia</b> is the smallest continent, the world’s 6 th largest country and the largest country in Oceania. It is located between the Indian and Pacific Oceans in the Southern hemisphere. <b>Australia</b> is extremely dry, with about 35% of the country receiving very little rain (if any). Land <b>area</b> (sq. km) in <b>Australia</b> was reported at 7692020 sq. Km in 2021, according to the World Bank collection of development indicators, compiled from officially recognized sources. <b>Australia</b> - Land <b>area</b> (sq. km) - actual values, historical data, forecasts and projections were sourced from the &#39;&gt;World Bank&lt;/a&gt; on May of 2023. The land <b>area</b> of <b>Australia</b> is 7,682,300 <b>km2</b> and accounts for only 5 % of the world’s land <b>area</b> of 149 450 000 square km.; Over 85 percent of Australian’s live less than 50 kilometers from the coast, not surprising then that beaches are an integral part of Australian life, the East Coast being one of the most popular areas. <b>Australia</b> is the planet’s sixth-largest country after Russia ... David Whitley. 16/07/2021. Practicalities. The size of Queensland, <b>Australia</b>, is enormous. The <b>area</b> of Queensland is 1,729,742 square kilometres, which makes the Australian state bigger than Iran or Alaska. Queensland is <b>Australia</b>’s second largest state, and it has an incredibly long coastline. Most imagine that travelling from Brisbane to ... This image shows the location of <b>Australia</b>’s centre of population on a map of <b>Australia</b>. The <b>area</b> of the centre of population is zoomed in to an SA2 level, showing the locations of the centre of population as at 30 June 2021 and 30 June 2022. These locations are in Far West SA2, north of Hay SA2 in NSW.\u001b[0m\n",
      "Thought:\u001b[32;1m\u001b[1;3m I now know the area of Australia, so I can calculate the answer to the original question.\n",
      "Action: Calculator\n",
      "Action Input: 1.5 * 7692020\u001b[0m\n",
      "Observation: \u001b[36;1m\u001b[1;3mAnswer: 11538030.0\n",
      "\u001b[0m\n",
      "Thought:\u001b[32;1m\u001b[1;3m I now know the final answer.\n",
      "Final Answer: 11538030.0 km2\u001b[0m\n",
      "\n",
      "\u001b[1m> Finished chain.\u001b[0m\n"
     ]
    },
    {
     "data": {
      "text/plain": [
       "'11538030.0 km2'"
      ]
     },
     "execution_count": 199,
     "metadata": {},
     "output_type": "execute_result"
    }
   ],
   "source": [
    "new_maths_agent.run('What is 1.5 times area of Australia in km2?')"
   ]
  },
  {
   "cell_type": "code",
   "execution_count": 200,
   "metadata": {},
   "outputs": [
    {
     "name": "stdout",
     "output_type": "stream",
     "text": [
      "\n",
      "\n",
      "\u001b[1m> Entering new AgentExecutor chain...\u001b[0m\n",
      "\u001b[32;1m\u001b[1;3m I need to know the current population of Australia\n",
      "Action: Intermediate Answer\n",
      "Action Input: Current population of Australia\u001b[0m\n",
      "Observation: \u001b[33;1m\u001b[1;3mStatistics in this release are commonly known as Estimated Resident <b>Population</b> (ERP). <b>Australia</b>’s <b>population</b> was 26,124,814 people at 30 September 2022. The quarterly growth was 128,670 people (0.5%). The annual growth was 418,500 people (1.6%). Annual natural increase was 114,800 and net overseas migration was 303,700. The 2021 Census counted 25,422,788 people in <b>Australia</b> (excludes overseas visitors), an increase of 8.6 per cent since the 2016 Census. 49.3 per cent of the <b>population</b> were male with a median age of 37 years old. 50.7 per cent of the <b>population</b> were female with the median age of 39 years old. Image. The <b>current population of Australia</b> is 26,336,160 as of Wednesday, May 3, 2023, based on <b>Worldometer</b> elaboration of the latest United Nations data. <b>Australia</b> 2020 <b>population</b> is estimated at 25,499,884 people at mid year according to UN data. <b>Australia population</b> is equivalent to 0.33% of the total world <b>population</b>. Statistics in this release are commonly known as Estimated Resident <b>Population</b> (ERP). <b>Australia</b>’s <b>population</b> was 26,124,814 people at 30 September 2022. The quarterly growth was 128,670 people (0.5%). The annual growth was 418,500 people (1.6%). Annual natural increase was 114,800 and net overseas migration was 303,700. 26,462,247. This projection is based on the estimated resident <b>population</b> at 30 September 2022 and assumes growth since then of: one birth every 1 minute and 43 seconds, one death every 3 minutes and 10 seconds, one person arriving to live in <b>Australia</b> every 44 seconds, one Australian resident leaving <b>Australia</b> to live overseas every 1 minute ... Census media hub. Providing the latest 2021 Census media releases, information and resources. After losing <b>population</b> during the COVID-19 pandemic, the capitals grew by 205,400 people (1.2%) in 2021-22. Capital city growth comprised overseas migration (151,400), natural increase (101,200) and internal migration (-47,200). Brisbane had the largest increase (59,200) and the highest growth rate (2.3%). Regional <b>Australia</b> grew by 102,700 (1 ... <b>Australia</b>, the smallest continent and one of the largest countries on Earth, lying between the Pacific and Indian oceans in the Southern Hemisphere. <b>Australia</b>’s capital is Canberra, located in the southeast between the larger and more important economic and cultural centres of Sydney and Melbourne. The Australian mainland extends from west to east for nearly 2,500 miles (4,000 km) and from ...\u001b[0m\n",
      "Thought:\u001b[32;1m\u001b[1;3m I now know the current population of Australia\n",
      "Action: Calculator\n",
      "Action Input: 26,336,160 x 2\u001b[0m\n",
      "Observation: \u001b[36;1m\u001b[1;3mAnswer: 52672320\n",
      "\u001b[0m\n",
      "Thought:\u001b[32;1m\u001b[1;3m I now know the final answer\n",
      "Final Answer: The population of Australia, if it is doubled, will be 52,672,320.\u001b[0m\n",
      "\n",
      "\u001b[1m> Finished chain.\u001b[0m\n"
     ]
    },
    {
     "data": {
      "text/plain": [
       "'The population of Australia, if it is doubled, will be 52,672,320.'"
      ]
     },
     "execution_count": 200,
     "metadata": {},
     "output_type": "execute_result"
    }
   ],
   "source": [
    "new_maths_agent.run('If ausralias population is doubled, what will the population be?')"
   ]
  },
  {
   "cell_type": "code",
   "execution_count": 201,
   "metadata": {},
   "outputs": [
    {
     "name": "stdout",
     "output_type": "stream",
     "text": [
      "\n",
      "\n",
      "\u001b[1m> Entering new AgentExecutor chain...\u001b[0m\n",
      "\u001b[32;1m\u001b[1;3m I need to find out what version of the library is available\n",
      "Action: Intermediate Answer\n",
      "Action Input: \"langchain python library version\"\u001b[0m\n",
      "Observation: \u001b[33;1m\u001b[1;3m<b>LangChain</b> provides a standard interface for agents, a selection of agents to choose from, and examples of end-to-end agents. 🧠 Memory: Memory refers to persisting state between calls of a chain/agent. <b>LangChain</b> provides a standard interface for memory, a collection of memory implementations, and examples of chains/agents that use memory. Welcome to <b>LangChain</b>. #. <b>LangChain</b> is a framework for developing applications powered by language models. We believe that the most powerful and differentiated applications will not only call out to a language model via an API, but will also: Be data-aware: connect a language model to other sources of data. Be agentic: allow a language model to ... <b>LangChain</b> provides many modules that can be used to build language model applications. ... A function that performs a specific duty. This can be things like: Google Search, Database lookup, <b>Python</b> REPL, other chains. The interface for a tool is currently a function that is expected to have a string as an input, with a string as an ... To install modules needed for the common LLM providers, run: pip install <b>langchain</b>[llms] To install all modules needed for all integrations, run: pip install <b>langchain</b>[all] Note that if you are using zsh, you’ll need to quote square brackets when passing them as an argument to a command, for example: pip install &#39;<b>langchain</b> [all]&#39;. Before installing the <b>langchain</b> package, ensure you have a <b>Python</b> <b>version</b> of ≥ 3.8.1 and &lt;4.0. To install the <b>langchain</b> <b>Python</b> package, you can pip install it. ... <b>LangChain</b> is an open-source <b>Python</b> <b>library</b> that enables anyone who can write code to build LLM-powered applications. The package provides a generic interface to many ... pydantic model <b>langchain</b>.utilities. ... - Install the <b>library</b> using pip install google-api-<b>python</b>-client The current <b>version</b> of the <b>library</b> is 2.70.0 at this time. 2. To create an API key: - Navigate to the APIs &amp; Services→Credentials panel in Cloud Console. - Select Create credentials, then select API key from the drop-down menu. <b>LangChain</b> is a framework for developing applications powered by language models. We believe that the most powerful and differentiated applications will not only call out to a language model via an api, but will also: Be data-aware: connect a language model to other sources of data. Be agentic: Allow a language model to interact with its ... Note 1: We must regard the <b>Python</b> <b>version</b>. If we have installed different versions of <b>Python</b>, we have to open the terminal in the <b>Python</b> <b>version</b> we are interested in. For example, opening the terminal with <b>Python</b> 3.8 can (surely will) give a different <b>version</b> of a <b>library</b> than opening with <b>Python</b> 3.5 or <b>Python</b> 2.7. Installation and Setup #. Install the <b>Python</b> SDK with pip install openai. Get an OpenAI api key and set it as an environment variable ( OPENAI_API_KEY) If you want to use OpenAI’s tokenizer (only available for <b>Python</b> 3.9+), install it with pip install tiktoken.\u001b[0m\n",
      "Thought:\u001b[32;1m\u001b[1;3m I now know the final answer\n",
      "Final Answer: The current version of the LangChain Python library is 2.70.0.\u001b[0m\n",
      "\n",
      "\u001b[1m> Finished chain.\u001b[0m\n"
     ]
    },
    {
     "data": {
      "text/plain": [
       "'The current version of the LangChain Python library is 2.70.0.'"
      ]
     },
     "execution_count": 201,
     "metadata": {},
     "output_type": "execute_result"
    }
   ],
   "source": [
    "new_maths_agent.run('what is the version of langchain python library?')"
   ]
  },
  {
   "cell_type": "code",
   "execution_count": 202,
   "metadata": {},
   "outputs": [
    {
     "name": "stdout",
     "output_type": "stream",
     "text": [
      "\n",
      "\n",
      "\u001b[1m> Entering new AgentExecutor chain...\u001b[0m\n",
      "\u001b[32;1m\u001b[1;3m Yes.\n",
      "Follow up: What is langchain?\u001b[0m\n",
      "Intermediate answer: \u001b[36;1m\u001b[1;3m<b>LangChain</b>. At its core, <b>LangChain</b> is a framework built around LLMs. We can use it for chatbots, Generative Question-Answering (GQA), summarization, and much more. The core idea of the library is that we can “chain” together different components to create more advanced use cases around LLMs. Chains may consist of multiple components from several modules: <b>LangChain</b> is a software development framework designed to simplify the creation of applications using large language models (LLMs). Background. <b>LangChain</b> was launched in October 2022 as an open source project by Harrison Chase, while working at machine learning startup Robust Intelligence. <b>LangChain</b> is a standard interface through which you can interact with a variety of LLMs. Prompt templates; <b>LangChain</b> provides several classes and functions to make constructing and working with prompts easy. Memory; <b>LangChain</b> provides memory components to manage and manipulate previous chat messages and incorporate them into chains. <b>LangChain</b> is a framework for developing applications powered by language models. We believe that the most powerful and differentiated applications will not only call out to a language model via an api, but will also: Be data-aware: connect a language model to other sources of data. Be agentic: Allow a language model to interact with its ... <b>What is LangChain</b>? <b>LangChain</b> is a framework built to help you build LLM-powered applications more easily by providing you with the following: a generic interface to a variety of different foundation models (see Models),; a framework to help you manage your prompts (see Prompts), and; a central interface to long-term memory (see Memory), external data (see Indexes), other LLMs (see Chains), and ... Welcome to <b>LangChain</b>. #. <b>LangChain</b> is a framework for developing applications powered by language models. We believe that the most powerful and differentiated applications will not only call out to a language model via an API, but will also: Be data-aware: connect a language model to other sources of data. Be agentic: allow a language model to ... <b>LangChain</b> is a library that helps developers build applications powered by large language models (LLMs). It does this by providing a framework for connecting LLMs to other sources of data, such as ... <b>What is LangChain</b>? <b>LangChain</b> is an open-source library that provides developers with the tools to build applications powered by large language models (LLMs). More specifically, <b>LangChain</b> is an orchestration tool for prompts, making it easier for developers to chain different prompts interactively.\u001b[0m\u001b[32;1m\u001b[1;3mFollow up: What version is the langchain python library?\u001b[0m\n",
      "Intermediate answer: \u001b[36;1m\u001b[1;3m<b>LangChain</b> provides a standard interface for agents, a selection of agents to choose from, and examples of end-to-end agents. 🧠 Memory: Memory refers to persisting state between calls of a chain/agent. <b>LangChain</b> provides a standard interface for memory, a collection of memory implementations, and examples of chains/agents that use memory. Welcome to <b>LangChain</b>. #. <b>LangChain</b> is a framework for developing applications powered by language models. We believe that the most powerful and differentiated applications will not only call out to a language model via an API, but will also: Be data-aware: connect a language model to other sources of data. Be agentic: allow a language model to ... pydantic model <b>langchain</b>.utilities. ... - Install the <b>library</b> using pip install google-api-<b>python</b>-client The current <b>version</b> of the <b>library</b> is 2.70.0 at this time. 2. To create an API key: - Navigate to the APIs &amp; Services→Credentials panel in Cloud Console. - Select Create credentials, then select API key from the drop-down menu. <b>LangChain</b> provides many modules that can be used to build language model applications. ... A function that performs a specific duty. This can be things like: Google Search, Database lookup, <b>Python</b> REPL, other chains. The interface for a tool is currently a function that is expected to have a string as an input, with a string as an ... Before installing the <b>langchain</b> package, ensure you have a <b>Python</b> <b>version</b> of ≥ 3.8.1 and &lt;4.0. To install the <b>langchain</b> <b>Python</b> package, you can pip install it. ... <b>LangChain</b> is an open-source <b>Python</b> <b>library</b> that enables anyone who can write code to build LLM-powered applications. The package provides a generic interface to many ... By default, the dependencies needed to do that are NOT installed. However, there are two other ways to install <b>LangChain</b> that do bring in those dependencies. To install modules needed for the common LLM providers, run: pip install <b>langchain</b>[llms] To install all modules needed for all integrations, run: pip install <b>langchain</b>[all] Note 1: We must regard the <b>Python</b> <b>version</b>. If we have installed different versions of <b>Python</b>, we have to open the terminal in the <b>Python</b> <b>version</b> we are interested in. For example, opening the terminal with <b>Python</b> 3.8 can (surely will) give a different <b>version</b> of a <b>library</b> than opening with <b>Python</b> 3.5 or <b>Python</b> 2.7. LLM #. There exists an OpenAI LLM wrapper, which you can access with. from <b>langchain</b>.llms import OpenAI. If you are using a model hosted on Azure, you should use different wrapper for that: from <b>langchain</b>.llms import AzureOpenAI. For a more detailed walkthrough of the Azure wrapper, see this notebook.\u001b[0m\u001b[32;1m\u001b[1;3mSo the final answer is: 2.70.0\u001b[0m\n",
      "\n",
      "\u001b[1m> Finished chain.\u001b[0m\n"
     ]
    },
    {
     "data": {
      "text/plain": [
       "'2.70.0'"
      ]
     },
     "execution_count": 202,
     "metadata": {},
     "output_type": "execute_result"
    }
   ],
   "source": [
    "self_ask_with_search.run('what is the version of langchain python library?')"
   ]
  },
  {
   "cell_type": "code",
   "execution_count": null,
   "metadata": {},
   "outputs": [],
   "source": []
  }
 ],
 "metadata": {
  "kernelspec": {
   "display_name": "py_openai_flask",
   "language": "python",
   "name": "python3"
  },
  "language_info": {
   "codemirror_mode": {
    "name": "ipython",
    "version": 3
   },
   "file_extension": ".py",
   "mimetype": "text/x-python",
   "name": "python",
   "nbconvert_exporter": "python",
   "pygments_lexer": "ipython3",
   "version": "3.9.16"
  },
  "orig_nbformat": 4
 },
 "nbformat": 4,
 "nbformat_minor": 2
}
