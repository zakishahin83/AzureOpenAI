{
 "cells": [
  {
   "attachments": {},
   "cell_type": "markdown",
   "metadata": {},
   "source": [
    "# contoso purview \n",
    "\n",
    "https://ms.portal.azure.com/#@microsoft.onmicrosoft.com/resource/subscriptions/8c2c7b23-848d-40fe-b817-690d79ad9dfd/resourceGroups/contosoPurview/providers/Microsoft.Purview/accounts/ContosoPurview/overview\n",
    "\n",
    "from amjad: \n",
    "https://ms.portal.azure.com/#@microsoft.onmicrosoft.com/resource/subscriptions/855baa9a-294b-48cd-88fe-89e90ab90ed9/resourceGroups/myResourceGroup/providers/Microsoft.Purview/accounts/purviewdemoamk/overview\n",
    "\n",
    "## REST APIs for daa planes\n",
    "\n",
    "https://learn.microsoft.com/en-us/azure/purview/tutorial-using-rest-apis\n",
    "\n",
    "## REST APIs for collections \n",
    "\n",
    "https://learn.microsoft.com/en-us/azure/purview/tutorial-metadata-policy-collections-apis \n",
    "\n",
    "\n",
    "## Catalog Data Plan APIs\n",
    "\n",
    "https://learn.microsoft.com/en-us/rest/api/purview/catalogdataplane/discovery\n",
    "\n"
   ]
  },
  {
   "cell_type": "code",
   "execution_count": 1,
   "metadata": {},
   "outputs": [],
   "source": [
    "import urllib.request\n",
    "import requests\n",
    "import os \n",
    "import json\n",
    "from pprint import pprint\n",
    "\n",
    "\n",
    "# load env\n",
    "from dotenv import load_dotenv\n",
    "load_dotenv()\n",
    "\n",
    "\n",
    "from utils.purview import azure_auth, search_catalog, get_asset_byguid"
   ]
  },
  {
   "cell_type": "code",
   "execution_count": 2,
   "metadata": {},
   "outputs": [],
   "source": [
    "import logging \n",
    "logger = logging.getLogger(__name__)\n",
    "\n",
    "# # write logs to file \n",
    "# logging.basicConfig(\n",
    "#     filename='purview1.log', \n",
    "#     format='%(asctime)s %(levelname)s %(name)s %(message)s')\n"
   ]
  },
  {
   "cell_type": "code",
   "execution_count": 3,
   "metadata": {},
   "outputs": [],
   "source": [
    "clientid=os.environ.get('app_clientid')\n",
    "clientsecret=os.environ.get('app_clientsecret')\n",
    "\n",
    "\n",
    "tokenurl = os.environ.get('azureauth_tokenurl', \"https://login.microsoftonline.com/{{tenantid}}/oauth2/v2.0/token\")\n",
    "perviewaccount = os.environ.get('purviewaccountname', \"purviewaccount\")\n",
    "purviewendpoint = f\"https://{perviewaccount}.purview.azure.com\"\n",
    "purview_url = f\"{purviewendpoint}/catalog/api/search/query?api-version=2022-08-01-preview\"\n",
    "\n",
    "\n"
   ]
  },
  {
   "attachments": {},
   "cell_type": "markdown",
   "metadata": {},
   "source": [
    "## Authenticate and get bearer token"
   ]
  },
  {
   "cell_type": "code",
   "execution_count": 4,
   "metadata": {},
   "outputs": [],
   "source": [
    "access_token = azure_auth(clientid, clientsecret, tokenurl)"
   ]
  },
  {
   "attachments": {},
   "cell_type": "markdown",
   "metadata": {},
   "source": [
    "## Search data catalog"
   ]
  },
  {
   "cell_type": "code",
   "execution_count": 5,
   "metadata": {},
   "outputs": [
    {
     "name": "stdout",
     "output_type": "stream",
     "text": [
      "0: test_data.csv - azure_datalake_gen2_path - 372.44748\n",
      "('\\tThe Customer Purchase History data asset provides comprehensive and '\n",
      " 'detailed records of customer transactions and purchase behavior within an '\n",
      " 'organization. It encompasses a wide range of information, including product '\n",
      " 'purchases, dates of purchase, quantities, prices, payment methods, and any '\n",
      " 'associated discounts or promotions.')\n",
      "1: CustomerProductInsight - azure_synapse_dedicated_sql_table - 319.89362\n",
      "'\\tNone'\n",
      "2: RawTransaction.csv - azure_datalake_gen2_path - 299.65378\n",
      "'\\tNone'\n",
      "3: SalesLTSalesOrderHeader.txt - azure_blob_path - 293.8138\n",
      "'\\tNone'\n",
      "4: SalesOrderHeader - azure_sql_table - 287.142\n",
      "'\\tNone'\n"
     ]
    }
   ],
   "source": [
    "res_json = search_catalog(access_token=access_token, purview_url=purview_url)\n",
    "\n",
    "\n",
    "for i, item in enumerate(res_json['value']): \n",
    "    print(f\"{i}: {item['name']} - {item.get('entityType')} - {item['@search.score']}\")\n",
    "    pprint(f\"\\t{item.get('userDescription')}\")\n"
   ]
  },
  {
   "cell_type": "code",
   "execution_count": 6,
   "metadata": {},
   "outputs": [
    {
     "name": "stdout",
     "output_type": "stream",
     "text": [
      "0: test_data.csv - azure_datalake_gen2_path - 477.87497\n",
      "\tThe Customer Purchase History data asset provides comprehensive and detailed records of customer transactions and purchase behavior within an organization. It encompasses a wide range of information, including product purchases, dates of purchase, quantities, prices, payment methods, and any associated discounts or promotions.\n"
     ]
    }
   ],
   "source": [
    "res_json = search_catalog(\n",
    "    keywords='discounts promotions cupcakes',\n",
    "    access_token=access_token, \n",
    "    purview_url=purview_url)\n",
    "\n",
    "for i, item in enumerate(res_json['value']): \n",
    "    print(f\"{i}: {item['name']} - {item.get('entityType')} - {item['@search.score']}\")\n",
    "    print(f\"\\t{item.get('userDescription')}\")\n"
   ]
  },
  {
   "cell_type": "code",
   "execution_count": 11,
   "metadata": {},
   "outputs": [
    {
     "name": "stdout",
     "output_type": "stream",
     "text": [
      "<class 'dict'>\n",
      "0: test_data.csv - azure_datalake_gen2_path - 477.87497\n",
      "{'@search.highlights': {'__hitKeywords': ['promotions', 'discounts'],\n",
      "                        'description': ['including product purchases, dates of '\n",
      "                                        'purchase, quantities, prices, payment '\n",
      "                                        'methods, and any associated '\n",
      "                                        '<em>discounts</em>',\n",
      "                                        'or <em>promotions</em>.']},\n",
      " '@search.score': 477.87497,\n",
      " 'assetType': ['Azure Data Lake Storage Gen2'],\n",
      " 'collectionId': '4hflys',\n",
      " 'createBy': 'ServiceAdmin',\n",
      " 'createTime': 1638939694595,\n",
      " 'entityType': 'azure_datalake_gen2_path',\n",
      " 'id': '49e0be06-4219-4b93-8a9d-0608977526f7',\n",
      " 'isIndexed': True,\n",
      " 'label': ['Microsoft.Label.9FBDE396_1A24_4C79_8EDF_9254A0F35055'],\n",
      " 'name': 'test_data.csv',\n",
      " 'objectType': 'Files',\n",
      " 'owner': '$superuser',\n",
      " 'qualifiedName': 'https://contosolakeamjad1984.dfs.core.windows.net/user/amldemo/test_data.csv',\n",
      " 'sensitivityLabelId': ['9fbde396-1a24-4c79-8edf-9254a0f35055'],\n",
      " 'updateBy': 'efd036e9-c0e2-435e-90a8-0b5e91d4eaf2',\n",
      " 'updateTime': 1684747650366,\n",
      " 'userDescription': 'The Customer Purchase History data asset provides '\n",
      "                    'comprehensive and detailed records of customer '\n",
      "                    'transactions and purchase behavior within an '\n",
      "                    'organization. It encompasses a wide range of information, '\n",
      "                    'including product purchases, dates of purchase, '\n",
      "                    'quantities, prices, payment methods, and any associated '\n",
      "                    'discounts or promotions.'}\n",
      "'49e0be06-4219-4b93-8a9d-0608977526f7'\n"
     ]
    }
   ],
   "source": [
    "# pprint(res_json['value'][8])\n",
    "\n",
    "i = 0\n",
    "item = res_json['value'][i]\n",
    "pprint(type(item))\n",
    "\n",
    "print(f\"{i}: {item['name']} - {item.get('entityType')} - {item['@search.score']}\")\n",
    "\n",
    "pprint(item)\n",
    "pprint(item.get('id'))"
   ]
  },
  {
   "attachments": {},
   "cell_type": "markdown",
   "metadata": {},
   "source": [
    "## Get item by Guid"
   ]
  },
  {
   "cell_type": "code",
   "execution_count": 13,
   "metadata": {},
   "outputs": [],
   "source": [
    "res_json = get_asset_byguid(\n",
    "    itemid=item.get('id'),\n",
    "    access_token=access_token,\n",
    "    purviewendpoint=purviewendpoint)"
   ]
  },
  {
   "cell_type": "code",
   "execution_count": 14,
   "metadata": {},
   "outputs": [
    {
     "name": "stdout",
     "output_type": "stream",
     "text": [
      "typeName: azure_datalake_gen2_path\n",
      "attributes: {'owner': '$superuser', 'modifiedTime': 1615254315000, 'replicatedTo': None, 'userDescription': '<div>The Customer Purchase History data asset provides comprehensive and detailed records of customer transactions and purchase behavior within an organization. It encompasses a wide range of information, including product purchases, dates of purchase, quantities, prices, payment methods, and any associated discounts or promotions.<br></div>', 'isFile': True, 'replicatedFrom': None, 'qualifiedName': 'https://contosolakeamjad1984.dfs.core.windows.net/user/amldemo/test_data.csv', 'displayName': None, 'description': None, 'groups': '$superuser', 'ACL': None, 'path': '/user/amldemo/test_data.csv', 'size': 78528, 'name': 'test_data.csv', 'userProperties': None, 'contentType': 'application/octet-stream'}\n",
      "lastModifiedTS: 8\n",
      "guid: 49e0be06-4219-4b93-8a9d-0608977526f7\n",
      "isIncomplete: False\n",
      "status: ACTIVE\n",
      "createdBy: ServiceAdmin\n",
      "updatedBy: efd036e9-c0e2-435e-90a8-0b5e91d4eaf2\n",
      "createTime: 1638939694595\n",
      "updateTime: 1684747650366\n",
      "version: 0\n",
      "isIndexed: True\n",
      "source: PurviewPortal\n",
      "sourceDetails: {'ScanResourceId': 'datasources/AzureDataLakeStorage-cont0so1984/scans/Scan-o9t', 'ScanLastModifiedAt': '2022-09-14T02:53:32.0557504Z', 'ScanRuleSetResourceId': 'scanrulesets/TEST', 'ScanRuleSetLastModifiedAt': '2022-09-14T02:53:23.8386668Z', 'userModifiedAttributes': ['userDescription']}\n",
      "contacts: {}\n",
      "collectionId: 4hflys\n",
      "relationshipAttributes: {'inputToProcesses': [], 'schema': [], 'sources': [], 'sinks': [], 'attachedSchema': [], 'meanings': [], 'outputFromProcesses': [], 'tabular_schema': {'guid': 'e72bf6cb-bba8-4e0b-94d9-f4f6f6f60000', 'typeName': 'tabular_schema', 'entityStatus': 'ACTIVE', 'displayText': 'tabular_schema', 'relationshipType': 'tabular_schema_datasets', 'relationshipGuid': 'a0630534-663e-4568-a8df-af25667a52e4', 'relationshipStatus': 'ACTIVE', 'relationshipAttributes': {'typeName': 'tabular_schema_datasets'}}}\n",
      "classifications: [{'typeName': 'Microsoft.Label.9FBDE396_1A24_4C79_8EDF_9254A0F35055', 'lastModifiedTS': '1', 'entityGuid': '49e0be06-4219-4b93-8a9d-0608977526f7', 'entityStatus': 'ACTIVE', 'source': 'LabelService', 'createdBy': '8cb92cde-35a6-4310-8063-b0c91bf5f9c2', 'updatedBy': '8cb92cde-35a6-4310-8063-b0c91bf5f9c2', 'createTime': 1650461719236, 'updateTime': 1650461719236}]\n",
      "customAttributes: {'microsoft_isDescriptionRichText': 'true'}\n",
      "labels: []\n",
      "sensitivityLabel: {'id': '9fbde396-1a24-4c79-8edf-9254a0f35055', 'source': 'LabelService', 'appliedTime': 1650461719236}\n"
     ]
    }
   ],
   "source": [
    "res_json['entity'].keys()\n",
    "\n",
    "for k, v in res_json['entity'].items():\n",
    "    print(f\"{k}: {v}\")"
   ]
  },
  {
   "cell_type": "code",
   "execution_count": null,
   "metadata": {},
   "outputs": [],
   "source": []
  }
 ],
 "metadata": {
  "kernelspec": {
   "display_name": "py_openai_flask",
   "language": "python",
   "name": "python3"
  },
  "language_info": {
   "codemirror_mode": {
    "name": "ipython",
    "version": 3
   },
   "file_extension": ".py",
   "mimetype": "text/x-python",
   "name": "python",
   "nbconvert_exporter": "python",
   "pygments_lexer": "ipython3",
   "version": "3.9.16"
  },
  "orig_nbformat": 4
 },
 "nbformat": 4,
 "nbformat_minor": 2
}
