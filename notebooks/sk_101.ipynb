{
 "cells": [
  {
   "cell_type": "code",
   "execution_count": 28,
   "metadata": {},
   "outputs": [
    {
     "data": {
      "text/plain": [
       "True"
      ]
     },
     "execution_count": 28,
     "metadata": {},
     "output_type": "execute_result"
    }
   ],
   "source": [
    "# https://github.com/microsoft/semantic-kernel/blob/main/python/README.md \n",
    "\n",
    "\n",
    "import semantic_kernel as sk \n",
    "from semantic_kernel.connectors.ai.open_ai import AzureTextCompletion\n",
    "\n",
    "import dotenv\n",
    "import os\n",
    "\n",
    "dotenv.load_dotenv()"
   ]
  },
  {
   "cell_type": "code",
   "execution_count": 6,
   "metadata": {},
   "outputs": [],
   "source": [
    "# create a python logger \n",
    "import logging\n",
    "logger = logging.getLogger(__name__)\n",
    "\n"
   ]
  },
  {
   "cell_type": "code",
   "execution_count": 29,
   "metadata": {},
   "outputs": [],
   "source": [
    "# get the above from os.environ.get and use provided values as defaults\n",
    "chatgpt_api_key = os.environ.get('chatgpt_api_key', '121212121212')\n",
    "chatgpt_region = os.environ.get('chatgpt_region', 'southcentralus')\n",
    "chatgpt_endpoint = os.environ.get('chatgpt_endpoint', 'https://magopenai.openai.azure.com/')\n",
    "chatgpt_api_version = os.environ.get('chatgpt_api_version', '2021-03-15-preview')\n"
   ]
  },
  {
   "cell_type": "code",
   "execution_count": 33,
   "metadata": {},
   "outputs": [
    {
     "data": {
      "text/plain": [
       "<semantic_kernel.kernel.Kernel at 0x1dfbcd45970>"
      ]
     },
     "execution_count": 33,
     "metadata": {},
     "output_type": "execute_result"
    }
   ],
   "source": [
    "# sk.azure_openai_settings_from_dot_env()\n",
    "\n",
    "kernel = sk.Kernel(log=logger)\n",
    "kernel.add_text_completion_service(\n",
    "    \"dv\", \n",
    "    AzureTextCompletion(\n",
    "    deployment_name='davinci', \n",
    "    endpoint=chatgpt_endpoint, \n",
    "    api_key=chatgpt_api_key, \n",
    "    api_version=chatgpt_api_version, \n",
    "    logger=logger, \n",
    "    ad_auth=False,\n",
    "    )\n",
    ")"
   ]
  },
  {
   "cell_type": "code",
   "execution_count": 36,
   "metadata": {},
   "outputs": [],
   "source": [
    "prompt = kernel.create_semantic_function(\"\"\"\n",
    "1) A robot may not injure a human being or, through inaction,\n",
    "allow a human being to come to harm.\n",
    "\n",
    "2) A robot must obey orders given it by human beings except where\n",
    "such orders would conflict with the First Law.\n",
    "\n",
    "3) A robot must protect its own existence as long as such protection\n",
    "does not conflict with the First or Second Law.\n",
    "\n",
    "Give me the TLDR in exactly 9 words.\"\"\")"
   ]
  },
  {
   "cell_type": "code",
   "execution_count": 37,
   "metadata": {},
   "outputs": [
    {
     "name": "stdout",
     "output_type": "stream",
     "text": [
      "\n",
      "\n",
      "Robots must not harm humans, obey orders, protect self.\n"
     ]
    }
   ],
   "source": [
    "print(prompt())"
   ]
  },
  {
   "cell_type": "code",
   "execution_count": 38,
   "metadata": {},
   "outputs": [
    {
     "name": "stdout",
     "output_type": "stream",
     "text": [
      "\n",
      "Energy conserved, entropy increases, zero entropy at 0K.\n",
      "\n",
      "Objects move in response to forces.\n",
      "\n",
      "\n",
      "Gravitational force between two point masses is inversely proportional to the square of the distance between them.\n"
     ]
    }
   ],
   "source": [
    "# Create a reusable function with one input parameter\n",
    "summarize = kernel.create_semantic_function(\"{{$input}}\\n\\nOne line TLDR with the fewest words.\")\n",
    "\n",
    "# Summarize the laws of thermodynamics\n",
    "print(summarize(\"\"\"\n",
    "1st Law of Thermodynamics - Energy cannot be created or destroyed.\n",
    "2nd Law of Thermodynamics - For a spontaneous process, the entropy of the universe increases.\n",
    "3rd Law of Thermodynamics - A perfect crystal at zero Kelvin has zero entropy.\"\"\"))\n",
    "\n",
    "# Summarize the laws of motion\n",
    "print(summarize(\"\"\"\n",
    "1. An object at rest remains at rest, and an object in motion remains in motion at constant speed and in a straight line unless acted on by an unbalanced force.\n",
    "2. The acceleration of an object depends on the mass of the object and the amount of force applied.\n",
    "3. Whenever one object exerts a force on another object, the second object exerts an equal and opposite on the first.\"\"\"))\n",
    "\n",
    "# Summarize the law of universal gravitation\n",
    "print(summarize(\"\"\"\n",
    "Every point mass attracts every single other point mass by a force acting along the line intersecting both points.\n",
    "The force is proportional to the product of the two masses and inversely proportional to the square of the distance between them.\"\"\"))\n",
    "\n",
    "# Output:\n",
    "# > Energy conserved, entropy increases, zero entropy at 0K.\n",
    "# > Objects move in response to forces.\n",
    "# > Gravitational force between two point masses is inversely proportional to the square of the distance between them."
   ]
  },
  {
   "cell_type": "code",
   "execution_count": null,
   "metadata": {},
   "outputs": [],
   "source": []
  }
 ],
 "metadata": {
  "kernelspec": {
   "display_name": "py_openai_flask",
   "language": "python",
   "name": "python3"
  },
  "language_info": {
   "codemirror_mode": {
    "name": "ipython",
    "version": 3
   },
   "file_extension": ".py",
   "mimetype": "text/x-python",
   "name": "python",
   "nbconvert_exporter": "python",
   "pygments_lexer": "ipython3",
   "version": "3.9.16"
  },
  "orig_nbformat": 4
 },
 "nbformat": 4,
 "nbformat_minor": 2
}
