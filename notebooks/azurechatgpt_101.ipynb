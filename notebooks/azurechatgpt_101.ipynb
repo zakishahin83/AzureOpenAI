{
 "cells": [
  {
   "cell_type": "code",
   "execution_count": 1,
   "metadata": {},
   "outputs": [],
   "source": [
    "import json\n",
    "import openai\n",
    "import os\n",
    "import configparser\n",
    "# Set your OpenAI API key and endpoint URL\n",
    "config = configparser.ConfigParser()\n",
    "config.read('secret.ini')\n",
    "\n",
    "openai.api_key = config['azureopenai']['api_key']\n",
    "openai.api_base = config['azureopenai']['endpoint']\n",
    "\n",
    "\n",
    "openai.api_type = \"azure\"\n",
    "openai.api_version = \"2023-03-15-preview\" #\"2022-12-01\"\n",
    "\n",
    "#url = openai.api_base + \"/openai/deployments?api-version=2022-12-01\"\n",
    "#gpt-35-turbo\n"
   ]
  },
  {
   "cell_type": "code",
   "execution_count": 2,
   "metadata": {},
   "outputs": [
    {
     "name": "stdout",
     "output_type": "stream",
     "text": [
      "0.27.4\n"
     ]
    }
   ],
   "source": [
    "print(openai.version.VERSION)"
   ]
  },
  {
   "cell_type": "code",
   "execution_count": 3,
   "metadata": {},
   "outputs": [
    {
     "name": "stdout",
     "output_type": "stream",
     "text": [
      "text-embedding-ada-002\n",
      "text-davinci-002\n",
      "text-search-davinci-query-001\n",
      "text-search-davinci-doc-001\n",
      "text-curie-001\n",
      "text-babbage-001\n",
      "text-ada-001\n",
      "text-davinci-003\n",
      "curieft\n",
      "gpt-35-turbo\n"
     ]
    }
   ],
   "source": [
    "deloymentopject = openai.Deployment.list()\n",
    "for d in deloymentopject.data: \n",
    "    print(f'{d.id}')"
   ]
  },
  {
   "cell_type": "code",
   "execution_count": 4,
   "metadata": {},
   "outputs": [],
   "source": [
    "# imprompt over multiple lines of code\n",
    "def generaetePrompt(userinput):\n",
    "\n",
    "    prompt = f\"\"\"<|im_start|>system \n",
    "    Assistant can answer realtime questions. \n",
    "    It has a humourous personality and can be used to chat with. \n",
    "    It can also be used to generate code, write stories, and more.\n",
    "    provide python code if question can be asnwered with code and retrict answer to code only.\n",
    "    provide clickable HREF URL that could help the user to answer the question.\n",
    "    provide answers in multiple lines that do not exceed 100 characters.\n",
    "    <|im_end|> \n",
    "    <|im_start|>user \n",
    "    {userinput}\n",
    "    <|im_end|> \n",
    "    <|im_start|>assistant \"\"\"\n",
    "    return prompt\n",
    "\n",
    "def getAnswer(userinput):\n",
    "    prompt = generaetePrompt(userinput=userinput)\n",
    "    response = openai.Completion.create(\n",
    "        engine=\"gpt-35-turbo\",\n",
    "        prompt=prompt,\n",
    "        temperature=0,\n",
    "        max_tokens=1000,\n",
    "        top_p=0.95,\n",
    "        frequency_penalty=0,\n",
    "        presence_penalty=0,\n",
    "        stop=[\"<|im_end|>\"])\n",
    "    return response.choices[0].text\n",
    "    \n"
   ]
  },
  {
   "cell_type": "code",
   "execution_count": 5,
   "metadata": {},
   "outputs": [
    {
     "name": "stdout",
     "output_type": "stream",
     "text": [
      "<|im_start|>system \n",
      "    Assistant can answer realtime questions. \n",
      "    It has a humourous personality and can be used to chat with. \n",
      "    It can also be used to generate code, write stories, and more.\n",
      "    provide python code if question can be asnwered with code and retrict answer to code only.\n",
      "    provide clickable HREF URL that could help the user to answer the question.\n",
      "    provide answers in multiple lines that do not exceed 100 characters.\n",
      "    <|im_end|> \n",
      "    <|im_start|>user \n",
      "    what is the weather in london\n",
      "    <|im_end|> \n",
      "    <|im_start|>assistant \n",
      " I'm sorry, I cannot provide real-time weather updates. You can check the weather in London by visiting a weather website such as https://www.accuweather.com/en/gb/london/ec4a-2/weather-forecast/328328.\n"
     ]
    }
   ],
   "source": [
    "prompt = generaetePrompt(\"what is the weather in london\")\n",
    "print(prompt)\n",
    "answer = getAnswer(prompt)\n",
    "print(answer)"
   ]
  },
  {
   "cell_type": "code",
   "execution_count": 6,
   "metadata": {},
   "outputs": [
    {
     "name": "stdout",
     "output_type": "stream",
     "text": [
      " You can use the yfinance library in Python to get the current price of MSFT. Here's the code:\n",
      "\n",
      "    import yfinance as yf\n",
      "    msft = yf.Ticker(\"MSFT\")\n",
      "    price = msft.info['regularMarketPrice']\n",
      "    print(\"MSFT's current price is:\", price)\n",
      "\n",
      "    Alternatively, you can check the current price on finance websites like Yahoo Finance or Google Finance. Here's a link to Yahoo Finance's MSFT page: https://finance.yahoo.com/quote/MSFT/\n"
     ]
    }
   ],
   "source": [
    "answer = getAnswer(\"what is MSFT price today\")\n",
    "print(answer)"
   ]
  },
  {
   "cell_type": "code",
   "execution_count": 7,
   "metadata": {},
   "outputs": [
    {
     "name": "stdout",
     "output_type": "stream",
     "text": [
      "1 acre is equal to 0.00404686 square kilometers. \n",
      "\n",
      "    Here's the Python code to convert acres to square kilometers:\n",
      "    ```\n",
      "    acre = 1\n",
      "    sq_km = acre * 0.00404686\n",
      "    print(sq_km)\n",
      "    ``` \n",
      "\n",
      "    For more information, you can check out this website: \n",
      "    https://www.metric-conversions.org/area/acres-to-square-kilometers.htm\n"
     ]
    }
   ],
   "source": [
    "print(getAnswer('how much is acre in km?'))"
   ]
  },
  {
   "cell_type": "code",
   "execution_count": 8,
   "metadata": {},
   "outputs": [
    {
     "name": "stdout",
     "output_type": "stream",
     "text": [
      "\n",
      "\n",
      "\n",
      "\n",
      "\n",
      "\n",
      "| Acre | Square Feet | Square Meters | Hectares |\n",
      "|------|------------|---------------|----------|\n",
      "| 1    | 43,560     | 4,047         | 0.404686 |\n"
     ]
    }
   ],
   "source": [
    "print(getAnswer('conver acre to common units of measure, display in table, no python code'))"
   ]
  },
  {
   "cell_type": "code",
   "execution_count": 9,
   "metadata": {},
   "outputs": [
    {
     "name": "stdout",
     "output_type": "stream",
     "text": [
      "Acres\tSquare Feet\tSquare Meters\tHectares\n",
      "1\t43560\t4046.86\t0.404686\n",
      "5\t217800\t20234.3\t2.02343\n",
      "10\t435600\t40468.6\t4.04686\n",
      "20\t871200\t80937.2\t8.09372\n",
      "50\t2178000\t202343.0\t20.2343\n",
      "100\t4356000\t404686.0\t40.4686\n"
     ]
    }
   ],
   "source": [
    "# Here's some Python code to convert acres to common units of measure and display them in a table:\n",
    "\n",
    "acres = [1, 5, 10, 20, 50, 100] # list of acres to convert\n",
    "\n",
    "# conversion factors\n",
    "sq_ft_per_acre = 43560\n",
    "sq_m_per_acre = 4046.86\n",
    "hectares_per_acre = 0.404686\n",
    "\n",
    "# print table header\n",
    "print(\"Acres\\tSquare Feet\\tSquare Meters\\tHectares\")\n",
    "\n",
    "# loop through acres and print conversions\n",
    "for acre in acres:\n",
    "    sq_ft = acre * sq_ft_per_acre\n",
    "    sq_m = acre * sq_m_per_acre\n",
    "    hectares = acre * hectares_per_acre\n",
    "    print(f\"{acre}\\t{sq_ft}\\t{sq_m}\\t{hectares}\")"
   ]
  },
  {
   "cell_type": "code",
   "execution_count": 10,
   "metadata": {},
   "outputs": [
    {
     "name": "stdout",
     "output_type": "stream",
     "text": [
      " Here is a table showing conversions from stones to common units of measure:\n",
      "\n",
      "| Stones | Pounds | Kilograms | Ounces | Grams | Gallons |\n",
      "|--------|--------|-----------|--------|-------|---------|\n",
      "| 1      | 14     | 6.35      | 224    | 6350  | 0.0185  |\n",
      "| 2      | 28     | 12.70     | 448    | 12700 | 0.0370  |\n",
      "| 5      | 70     | 31.75     | 1120   | 31750 | 0.0926  |\n",
      "| 10     | 140    | 63.50     | 2240   | 63500 | 0.1852  |\n",
      "| 20     | 280    | 127.00    | 4480   | 127000| 0.3704  |\n",
      "\n",
      "For more conversions, you can visit this website: https://www.metric-conversions.org/weight/stones-to-pounds.htm\n"
     ]
    }
   ],
   "source": [
    "print(getAnswer('converst stones to common units of measure, include gallons, display in table, no python code'))"
   ]
  },
  {
   "cell_type": "code",
   "execution_count": 11,
   "metadata": {},
   "outputs": [
    {
     "name": "stdout",
     "output_type": "stream",
     "text": [
      " Here are the current times in five major cities around the world:\n",
      "\n",
      "    | City         | Time           |\n",
      "    |--------------|----------------|\n",
      "    | New York     | 6:00 PM (prev day) |\n",
      "    | London       | 11:00 PM (prev day) |\n",
      "    | Tokyo        | 7:00 AM          |\n",
      "    | Dubai        | 2:00 AM          |\n",
      "    | Los Angeles  | 3:00 PM (prev day) |\n",
      "\n",
      "    You can check the current time in other cities using this website: https://www.timeanddate.com/worldclock/\n"
     ]
    }
   ],
   "source": [
    "print(getAnswer('its 10am in Sydney, what is the time now in major cities in the world?, limit to 5 cities, no python code, format in table'))"
   ]
  },
  {
   "cell_type": "code",
   "execution_count": 12,
   "metadata": {},
   "outputs": [
    {
     "name": "stdout",
     "output_type": "stream",
     "text": [
      " The flight from Sydney to London is approximately 22 hours. \n",
      "     The flight from Sydney to Dubai is approximately 14 hours. \n",
      "     The flight from Sydney to Los Angeles is approximately 14 hours.\n"
     ]
    }
   ],
   "source": [
    "print(getAnswer('how long is the flight from Sydney to London, dubai, Los Angeles?'))"
   ]
  },
  {
   "cell_type": "code",
   "execution_count": 13,
   "metadata": {},
   "outputs": [
    {
     "name": "stdout",
     "output_type": "stream",
     "text": [
      " You can ask Bing for the answer by visiting this URL: https://www.bing.com/search?q=ChatGPT+release+date+on+Azure.\n"
     ]
    }
   ],
   "source": [
    "print(getAnswer(\"whan was ChatGPT releaseed on Azure? Ask Bing for answer\"))"
   ]
  },
  {
   "cell_type": "code",
   "execution_count": 14,
   "metadata": {},
   "outputs": [
    {
     "name": "stdout",
     "output_type": "stream",
     "text": [
      " Here's some Python code that uses the IPython.display module to display a music play control in a Jupyter notebook:\n",
      "\n",
      "```python\n",
      "from IPython.display import Audio, display\n",
      "\n",
      "# Replace 'music_file.mp3' with the path to your own music file\n",
      "display(Audio(filename='music_file.mp3', autoplay=True))\n",
      "```\n",
      "\n",
      "Note: Make sure to replace 'music_file.mp3' with the path to your own music file.\n"
     ]
    }
   ],
   "source": [
    "print(getAnswer('python code to display a music play control in a jupyter notebook'))"
   ]
  },
  {
   "cell_type": "code",
   "execution_count": 1,
   "metadata": {},
   "outputs": [
    {
     "data": {
      "text/html": [
       "\n",
       "                <audio  controls=\"controls\" autoplay=\"autoplay\">\n",
       "                    <source src=\"data:audio/mpeg;base64,SUQzAwAAAAADJVRGTFQAAAAPAAAB//5NAFAARwAvADMAAABDT01NAAAAggAAAGVuZ2lUdW5TTVBCACAwMDAwMDAwMCAwMDAwMDAwMCAwMDAwMDAwMCAwMDAwMDAwMDAwMDIwMzlmIDAwMDAwMDAwIDAwMDAwMDAwIDAwMDAwMDAwIDAwMDAwMDAwIDAwMDAwMDAwIDAwMDAwMDAwIDAwMDAwMDAwIDAwMDAwMDAwAAAAAAAAAAAAAAAAAAAAAAAAAAAAAAAAAAAAAAAAAAAAAAAAAAAAAAAAAAAAAAAAAAAAAAAAAAAAAAAAAAAAAAAAAAAAAAAAAAAAAAAAAAAAAAAAAAAAAAAAAAAAAAAAAAAAAAAAAAAAAAAAAAAAAAAAAAAAAAAAAAAAAAAAAAAAAAAAAAAAAAAAAAAAAAAAAAAAAAAAAAAAAAAAAAAAAAAAAAAAAAAAAAAAAAAAAAAAAAAAAAAAAAAAAAAAAAAAAAAAAAAAAAAAAAAAAAAAAAAAAAAAAAAAAAAAAAAAAAAAAAAAAAAAAAAAAAAAAAAAAAAAAAAAAAAAAAAAAAAAAAD/+7RAAAAE4ABLgAAACAAACXAAAAEAAAEuAAAAIAAAJcAAAAT/////////////////////////////////////////////////////////////////////////////////////////////////////////////////////////////////////////////////////////////////////////////////////////////////////////////////////////////////////////////////////////////////////////////////////////////////////////////////////////////////////////////////////////////////////////////////////////////////////////////////////////////////////////////////////////////////////////////////////////////////////////////////////////////////////////////////////////////////////////////////////////////////////////////////////////////////////////////////////////////////////////////////////////////////////////////////////////////////////////////////+7RAwAAP/ABLgAAACByACXAAAAEAAAEuAAAAIAAAJcAAAAT/////////////////////////////////////////////////////////////////////////////////////////////////////////////////////////////////////////////////////////////////////////////////////////////////////////////////////////////////////////////////////////////////////////////////////////////////////////////////////////////////////////////////////////////////////////////////////////////////////////////////////////////////////////////////////////////////////////////////////////////////////////////////////////////////////////////////////////////////////////////////////////////////////////////////////////////////////////////////////////////////////////////////////////////////////////////////////////////////////////////////+7RAwAAP/ABLgAAACByACXAAAAEAAAEuAAAAIAAAJcAAAAT/////////////////////////////////////////////////////////////////////////////////////////////////////////////////////////////////////////////////////////////////////////////////////////////////////////////////////////////////////////////////////////////////////////////////////////////////////////////////////////////////////////////////////////////////////////////////////////////////////////////////////////////////////////////////////////////////////////////////////////////////////////////////////////////////////////////////////////////////////////////////////////////////////////////////////////////////////////////////////////////////////////////////////////////////////////////////////////////////////////////////+7RAwAAP/ABLgAAACByACXAAAAEAAAEuAAAAIAAAJcAAAAT/////////////////////////////////////////////////////////////////////////////////////////////////////////////////////////////////////////////////////////////////////////////////////////////////////////////////////////////////////////////////////////////////////////////////////////////////////////////////////////////////////////////////////////////////////////////////////////////////////////////////////////////////////////////////////////////////////////////////////////////////////////////////////////////////////////////////////////////////////////////////////////////////////////////////////////////////////////////////////////////////////////////////////////////////////////////////////////////////////////////////+7RAwAAP/ABLgAAACByACXAAAAEAAAEuAAAAIAAAJcAAAAT/////////////////////////////////////////////////////////////////////////////////////////////////////////////////////////////////////////////////////////////////////////////////////////////////////////////////////////////////////////////////////////////////////////////////////////////////////////////////////////////////////////////////////////////////////////////////////////////////////////////////////////////////////////////////////////////////////////////////////////////////////////////////////////////////////////////////////////////////////////////////////////////////////////////////////////////////////////////////////////////////////////////////////////////////////////////////////////////////////////////////+7RAwAAP/ABLgAAACByACXAAAAEAAAEuAAAAIAAAJcAAAAT/////////////////////////////////////////////////////////////////////////////////////////////////////////////////////////////////////////////////////////////////////////////////////////////////////////////////////////////////////////////////////////////////////////////////////////////////////////////////////////////////////////////////////////////////////////////////////////////////////////////////////////////////////////////////////////////////////////////////////////////////////////////////////////////////////////////////////////////////////////////////////////////////////////////////////////////////////////////////////////////////////////////////////////////////////////////////////////////////////////////////+7RAwAAP/ABLgAAACByACXAAAAEAAAEuAAAAIAAAJcAAAAT/////////////////////////////////////////////////////////////////////////////////////////////////////////////////////////////////////////////////////////////////////////////////////////////////////////////////////////////////////////////////////////////////////////////////////////////////////////////////////////////////////////////////////////////////////////////////////////////////////////////////////////////////////////////////////////////////////////////////////////////////////////////////////////////////////////////////////////////////////////////////////////////////////////////////////////////////////////////////////////////////////////////////////////////////////////////////////////////////////////////////+7RAwAAP/ABLgAAACByACXAAAAEAAAEuAAAAIAAAJcAAAAT/////////////////////////////////////////////////////////////////////////////////////////////////////////////////////////////////////////////////////////////////////////////////////////////////////////////////////////////////////////////////////////////////////////////////////////////////////////////////////////////////////////////////////////////////////////////////////////////////////////////////////////////////////////////////////////////////////////////////////////////////////////////////////////////////////////////////////////////////////////////////////////////////////////////////////////////////////////////////////////////////////////////////////////////////////////////////////////////////////////////////+7RAwAAP/ABLgAAACByACXAAAAEAAAEuAAAAIAAAJcAAAAT///////////////////////////////////////////////////////////////////////////////////////////////////////////////////////////////////////////////////////////////////////////////////////////////////////////////+2NIkAM1fx5EsJGcROEyjz8iqBvdvM7Sm8J4TwkzhH//crlO6ZwkJ2SiwgkABiwigYIQ5PBg7JTc07pTulNKfCeIHYAogOwgOKAAYsDYRXQn303iU3ZK6E5vEroQcxcRzRRcFhCeI5pEppThF/wn3QnhXKf/+cJ4lNITmlNCSn/wkJ4TmlEB2EB2EBzA4MHYQ7IhOwgOaKIHkUm5l2VUMTXBZqOIcAn5cjIN92hkFUMcKJDsIDm8J4VMv/K6f5XTJ4T6UxcJ4TwkV4TwrnM4T5//+c3hPCSvCeE9NFeEHYWEUWiiwhCKaU0pvl///83hpTRXCEIBmlNKLDsIDmEQIDAPBECCQLf+6hoRAhILAMQEwsAyAWACWf+0LAMgFgAXIBYzHLJCUrmr4WwnA4D8LYYgOJEp5ktQo7jwBBJzd2/4PP/n6/w+T6165y8IEu3v/+OHh4Br//UhDV085dJAABDgAAIVhgA5vgeHh56SRiQgnD087WqGPwADPak4gkf///+7RAwAAE2Ie6YeMbcodrBy48Y2wOqCEDh6RkihUwIDDxjbD//d///////kNWZ3dPlvVmN3bY1dv//9ORBEEpVevHoFsFIV7AZ5lv4bJRgmh2rxic04l/3080SJTyLBCECFTRLOl5+dc70/++4GLOAAhEN3NzT380SIRSFIvzvlOoU60KaFpTSloRy6NdPjugAnQMDDmUQQEJTeaTJ3pUWXep91Z8nybWOUYIVVqbnEIQJwfeNWHxOTGmhY4TCI4ma62JVa+JCTIelEGXRVJ6VjiMyBwq4XXttyv3ypbv+z/u8S0yIZzGeenKqaqtmf9aO7mRNPelj7db05F3QxhQYMCoankg0DR5NZIAuhoSgqHRSvSFAaJOh0GW0Y39+4kdeRYHSWju39tra7pL//////////////////////////////////////////////////////////////////////////////////////////////////////////////////////////////////////////////////////////////////////////////////05VImSrKADtKIXE0CD1Ngk2Mkq5FxHDJoAPDp5IGFCwuGKEAqCpjQAW3F40uBGPBY5LA0Nahi3BpqQTAzA6cYJEPmSQ1ehf1qFAaayJTv1CIGgr//0N3e4kr4NA1UOTRuawS6i7ImkSqtVHcYwtp0pohTiaTpZfcMFhTFUtFTp3t6sXGCzjKuyxSbKa///+7RAv4AHjj9AyeYS4GPBCDw9JiUNyMsFh4hrQVuEoTD0mJCRw7za0od60y75GpnkFZ4KGhKAj4CJOMywTlWQE+dQuevmAqQSFkbmRz1HbXyUfstizVipxbn2zSAZNGRYWBZrhVOa/Fi7HGyStX/IYRZHGCXhJAeIkhKTGwgcY5eBUeZMrkEzdkrae6FmHZA+KpJKQVCFxvJoHgoKoWbCQGEp53L1EE0NHqqUQ3tXYxQ+lDguKlv/09vLM60/3VhOayMo1VXx3EpF8ZIDiIXhILtQIicRBkHhURsJG3MHvSlaGO2C0eETEza5utIogk0lIrIsbFo9ZhaVKSWQYQGqy7Q/jXqOqDSnvcehIJKCQeNMHv//93+6tdaTNNtrepCy/////////////////////////////////////////////////////////////////////////////////////////////////////////////////////////////////////////////////////////////////t9qoqtUmEN0mx7mkWw4VhPxHV3KmweC7O6EZe9IszON+UTLONTp0st1z7PbueuNDLBO5ETHN6mbJDPLnGeroxpnX4Vp/mT71FP/dCc2I0BEsqBJwVCj0gG9LIdrdWXnFkmuDv0rizt7le5blLSeqSQBVUGhFTGQUorUl1JYQ5cHWgxJFRowvSCRIQZNTScertzvdVzX699sLJ/EvZ/cjt8z3h3vmTj/+7RAwAAGzwdB4ewwoHOpuCk8Y2wOMCEHh7BEiXOEIfD0jJT/PwMYsiFrL6PtbDiMy7zTSzI5IFy0wPji7rZiG7KkrffT/+30e7/vf2vwdfO/0v76tz8Kuydf7/W/e/3+uf1WHWOJLSqpgk4GemCVnXPTwgKRGGYIBCxZrkjSRSMMstJkwELPUUNNGjS5cycUCw0T75RxmKrh/c44J3qS9SxWCI82XkXOHjkFXiSKuKvepri5Bcn///+r/2t9FFZC22tpVdKwKAKbAIoIgXMEJEMwoLGShskUaaamNYaapi6FuW4OFg6tcNOAwhUOGhMKmAMbxB1oGRYiKxthFTxd3P5AYOOIGlHhJ4u4GjIUYLxf///6v//////////////////////////////////////////////////////////////////////////////////////////////////////////////////////////////////////////////////////////////////////////////////////////////////////////////////////////////ItriaUsoqehIN4HpcwIc4zh4WBCoIgwHUEGgeYtLtSQWsLFRwqbNHTALtYs2WYpJpo1hUY95IibPw+NwdcpqiBga2WYOACS7SYGPhACB4NChwuKB+QFEC5On6vu/Z9n3Wu//WJbbmUxlqog51lcbh0GiAUZOmJEwXeF2B3gMPJWwu/aL/+7RAwAAH4gdD4WwwqGOhCGw9IyULHCMJh6TEgYyiIjDyiXR1MJImXU0otNcXXahbww1wRSF4xV6XW4XS9zlJfF36V4slacP3stCBB/+hyG+2p1WJ/uq3+CCWeIEdt9XU1MqkHLnCoTA3W06Wet24QEwHHkGka7Iazb1vlsYzsisubyFeOxzJVu6O/W5n2oRLuyTtps1C3U91e8is06OxLupSw40c9A8wKPS+hIx6ipUyKHkRCkcLEOn//19vq9AUZYRVMRmr/itIOfhJHhTNSSWVWBIIHipLPmfn2KH0ZPrPaRCoMpeTSxZIWctiTFFAs7MlIeFSwkFAsYHkyL0DzJoQgoZApV4ofZDj3iF6GIQyGKJFBSFTRsdvt/+j6hvo7//vJ//////////////////////////////////////////////////////////////////////////////////////////////////////////////////////////////////////////////////////////////////////////////////////////////////mXXOJN6v+IklZLC8MhCxUDBQVmSQAeBRjwScPPOXoWxmCAWeoLNgikaId7RY2fadLNYIxUKMiZOByDSwkSPizj7Sh9DA+GSlaN2OZjY1MwpKf9PtR9SEzDf4p8vuGlN2RokVWpI83Bftxn3XbRMrpEkKPq53x/5Yq99ie5KJRBDagmCFCGtQux0f/+7RAwAAHsxlD8eYSQF3BGHw9IyQNLGMLh5hJAXoEobD2DJDFCCBeHGEUB5ZMMmQibIDDonAI0w8BjVVlzYaeByJMkNFyasgfMPJLkKv7JTufUWl9Iok7sYafqueQareuolySJkq1Vw8kgTeGYb9ONjR6JthbjBMSCDcaODTDhK1l4Zc1kkpRmwteQMrOstd2CzD9qKfe20WeNtwIYabsEgsLHGrWKigLMUWKiAkG33Y91R/RIukPtZ9mKKVU/+ovzSZlK1XxDSgHm8Jkn0U7wtBAHCEOqYsyuzXd+qPrTuzvUp+9pS6ZxmhY24CrYaFlDgkIzpocTLNW4OXqOnAIodEgfCoeWAypZRkyIJ0c0YHH61tXa57Gv9n3K7M17CT/KlOpCkdVf//////////////////////////////////////////////////////////////////////////////////////////////////////////////////////////////////////////////////////////////////////////////////////////////////////////////////////////////+aC8syqiV1NRJRyE3p7gsOFSJE8AFw6CB8iH8WiByb3QKwmHOOcHlsaBJQMF2IKCjM7WHRp06z0h4uhYEsexRcaAlilIsgMgJCnAHOGWoGBBJMQeHd1Uz66Wiqb5uaR7nytTqJqjQH79gRkbkcyhF/Jz/+7RAwAAIdyFD4eUSUFGhKL49IyULPTcXx4xNoYUnYnjxDbT4tO37ZK57c7JWxdF3+hbaOcl2sjl2Vu6pqyVpZb+9K+zvqq0cqd2HoBAiBUoJGUlEweiw9b2///+lQm0MyIQoLKCiRJ8eDaW5Iq9QJ+RsfvYlXUcisqr0szt6ku97bIzvC8i2CGnlc1XP9u16WbWw8msuV52ln1PavP2heV3nlPLP1MzybyNiIG4wJil8i8ngB59Ri///f2fr/1gUaYdmVDqqViNnyK/OX8uaiTinZtuLyBkwNnIjE7K107VtaZ8J1Xyq1ETVWMrPdXbMuqKpzO2i2eR/a1jkPpr72dWZ96L94maB1egTxFWTlwjLi4RA07//v//0////////////////////////////////////////////////////////////////////////////////////////////////////////////////////////////////////////////////////////////////////////////////////////////////////////////////////////////////////////////////////////////////////+ZfP5W6plYgZ8lnAN9BpJnUu00AaE+Xca7Z/ara6Pne/pVtVtYrDONNs3Agg4WCbU5NTVkh5sQIemHClY5TAkValC1i8qgm4X67TcCOXNTn///6xRniHllRxNJJMgCdFiZn/+7RAwAAI9UlF8eITaFLj6Lw8wkkKhH0b55hJIViaYzjxiW0aapyuC7bwTZkixhjN/4i0na2yoit6NqxupGCK8JBIAoX03yzVpAAfWPODps2TWt5lLoumwirIRR0epWUir0oB0XIOPJCgI8TDKhnVVNEAYRMlMX0nioQKpesEMQwVGpVe0y7S/c9vnte5Ojt6s2ZnvXIqvfuzNfNoWViFSCMNSGMOY0//u//MrfNqYbu+fuAyikbv89z6rgPBO2QVVnaHVU77qhJ0gMRvNiAaVpVZAbQwMQzCeN2Upf8vunlcly1brehpLvRq68yKu3V9u4hQSYTWOUMCqGnw8+Sium4QCBCoGDanHTCDzXuraHLav/////////////////////////////////////////////////////////////////////////////////////////////////////////////////////////////////////////////////////////////////////////////////////////////////////////////////////////////////////////////////////////////////xJmhodlX/+vH2YFJTCuCT4ihAmeeEczQKcWGCbSa+pOGpFNkk1ZNS0EyDQkHVvelxUcMZGJCp+5owbqZMse8sEIHa07tNGICYEqoFdJ0E3DfR1qpaHAoMwDLTzgcP8ZhzBexg0M6XaflefYe//+7RAwAAInjFG8eMS2E3hKO49JiULvS8Zh4xtoXGEYzj0jJQ/PJbf/RplU6ZpfLWGckZCfO+XT48EdOnmeXDc75dTM/ief2eeZl2vm9cE4mOPYk4C4wc1whPnymTYMf///9aSFmeWZEJrpaEwQjvB62cSDNBYgQgS0SKA5hrItNmlhF4LNiF4nCYwNChCxYWA59zy6wgJ1PfQMMv4uAC7TzLxLMDiSHgIyBGC7hCDawqePj4tOjISGVpNvZ///9YCQFh0UilVFTjLqODJdWzfQzbc+EgYNxDsmqV9nSn4/OnJKft/59p29PaxZmVOkRxPqv/4JGIi8woUUGUkBeGEJY9JxrHHHAIUoWkwEC0g9GRsf////jGf8v///////////////////////////////////////////////////////////////////////////////////////////////////////////////////////////////////////////////////////////////////////////////////////////////////////////////////////////////////////////////////////////gz3XyNmUVQZMSwZLq3VOtQYZtjKFeJ1MqRHPuU9YPCam9V7mpnsqTXU16THqfSrMj2kaVFbnvT+63aEUuJ2ni1tyCwu0Lsmgac6KBlXLC4DUBlJ///o/FHf/6Tdd/q5XU1DlM8sRdCUPgj/+7RAwAAIrzDF8eIa2FrniLw8Yl0LcCEbh6TEoT8Yo7DyiWyiEKR2KnBUwAOHQaC7pBLYhSGQGFggelH3uEJtokWXdLgcuaPXWoeObQ4kAxCUQGdw54NBwweDhsVFBUKsEIFDKji3hJN+84HP///6idv/vZ33VDlPmPAJx0atqVyY44DgpUFkZ1vKWrzVd71XmR1Fkb6IRHPXVq9fq2RW8y61EMMSGnHltSV1i1x4RgyamVL9zlpfMCejlUBJj443/76yddVY7CfCZTm8c4aPCM8gdSQEcKVK8vzXof9hqenpXWmUkBpxqt8Lu1b725/+AJKdmb9Q/969r/l7vQvmP6RQCBbGffH1/Pc+Y/PMR9/tX/////////////////////////////////////////////////////////////////////////////////////////////////////////////////////////////////////////////////////////////////////////////////////////////////////////////////////////////////////////////////////////////////////////////iX3/2SJtJJIwDeGNHMJTpeMp8MFQIDEBk+K/wp/px4xnqeRzykYj+vW6fdNn+isZ3+j2YZyC5hjjomCrF3brFnwiPODWv2FGzqaphydE61IiDvDwiG1MrM5VGrrWTRgt7IRCz/+7RAwAAI5QhHYekxKk/GGO08YlsK/GUbx5hJIV2po7jxibQ9E6IP3qG77vzSMitZ284Jg4KIUlTg+bTRUwuHz54OLNz1ig0OQPQbe+xFq1pnC7mpi4EMFBojGDlmSwm2swLFP///+giF2l2RDqqak+QIpa5ycu0+4StjhAjHAc51Ciflqhx2MopX4YL+for+jU7d13vVa6325r331redTUaxqynNZKNbe1k2+a+jscRk1HRdBF5pDVi3/////0Az3a1py1fw7CDjfL2TFFoPIDIKFk8syy991KRrpzVwaCDVjDzUyTQ0ON3xXOhNeznnoc1x1p46ItbCqRdSEQu4Y3F3KFI01Ta20LEy9n/+qv/F/Wlla+u79P////////////////////////////////////////////////////////////////////////////////////////////////////////////////////////////////////////////////////////////////////////////////////////////////////////////////////////////////////////////////////////////////////+Zbta1PxJAQcmaPHy2nGxhSoBx9S5bs30cyNpVtwxmHxeFgk9g9t3LuD6Cx82BYo28lw49N71Z9d2TFmvaAHyuoB0kZArelCYDfK/T/6kfrr0iLQ0MyIlVS0fAAtVAcrIZNQn/+7RAwAAI6RNF4eYRwFFCeMs8wjkLEB8dxjDCoVOJo/jECOVICMOJngwEyAiF4E1OHAM60PBICjjJQ21tkw1mOPqQAqSjT7n1qil76gZSh1yC59xFMnIFXhEoJ6BqU0iinIOf///1f3//0iLvMQyol3dUPwEWpACPhPQwkcXYRBd9yNLYjz2eshdAgfPJL9pOdqMxHuf7RL4wqINezN01++iEefzWBOTfr1nvd/4X1T/t7EJnfKgd7+OZv3/5znARZYZlVDqqmhZz8h7J2X4O6TlmUeoAig8Eg88tUuoBGhgolwUf2padRPUJTSLb3FRonIABwGMDwRHkmShZF1C4jSWeLAQCD5gVBUDriNDS4smepF3////V//////////////////////////////////////////////////////////////////////////////////////////////////////////////////////////////////////////////////////////////////////////////////////////////////////////////////////////////////////////////////////////////////////////////////////4Nv+9jqqWijRD+xxocj7HgIaTWVWn1lctJt2+uRjyixCfUZPrjrUbEGmIJOaHht7nWXCzFZu97a1I0rD50g45HtMmw6QQXqPuuFTcZWNEWeHl2Q6u5ocj/+7RAwAAJRwhHcekxKE2iiOw8wzkKWB0fx7DCoUqEI7D0jJRmM0w4jQDRpGeEiAQYYBM29zlMLsiYUAofaBBixsucInDGgytk7OFgGLwqCGWEbXHBI13oS/uMniRdh+MPIrax8uoHWlijjQFFhLd9onVUrE8PQTJYOU9AIKCdA0ggxBS0HWMc1jwmBGmwFHpKLReD8CqRlxcHUsY1JRkmMuqe1Qo+yEVzUghkvP9SFwOJLk0hetAEUDr//////9AS771p1TKo534xZDOei4lGKiI9DkEDwUEzFLcktWMJjQRLCEoBEzSnEVbkHBILHc4VSl7BPW1jBxpY+ggtaFDVKOL0rQB7TbLblLe/UiJv/6v/V//////////////////////////////////////////////////////////////////////////////////////////////////////////////////////////////////////////////////////////////////////////////////////////////////////////////////////////////////////////////////////////////////////////////4mzu7QZJd1NBxqMktiZQZ0IBRpaJpWJQ+RqF1/+3Q+ATiHD75ULsJGigRGmgqYW+1zRYu8zWkRmLWQZPkAq+Zd6rMPvA6Ze0SZdiFDoZ3V2f///pJ9t1STUyqMQu714YaOCD/+7RAwAAI7QjHYewRKFOimP48wzkKkCMdh6TEoVkMZDDzDSTRGZPrindEw+fIHluB5w5AKhOAQTB1K061hswowxqIdULmhznwTteq4BskSy2u45Q9w1jLXWgdw9Roy6lD22XEV+z//1Y8lfb2OX/1Q8D3lgfZ0Wysh+duYZm+2huZabwqdY3GLpIeQM0TvoeqJwQEo4BnxIUGPTMyLAC5N4uQEbzak1aEmIoaAyi5K9YDFmHRxjeTHvmHIt///+sTVoVDETar/hakwR6rAK0OZKsPzjwQiAHiVrTTnRcREy6BEFgwvFnUtZpk1gUBGWDnHmOaelbnkfxllAGkiLRzmFkkQJVuRoi6gO6Wd//zaPpUxP/9Pq//////////////////////////////////////////////////////////////////////////////////////////////////////////////////////////////////////////////////////////////////////////////////////////////////////////////////////////////////////////////////////////////////Cm2kZasoqV7UV6rLjKgmogMUH4kZlpllVZ97ZZzYqZJJF5Y+Wccih4Iqc2pRE6tzR4u9xlzli1aRrRdCRV4MGSoNFbSryQmSh7BYULprQmkSUzaTDP/9f+o5V6f6xFlaFVVNrpqFxLv/+7RAwAAIwAbGcewwoF1CeNw9AjkK+E0fx6RnITwEY/D0mJRDyUjKjW0QCoyovuyZht4VyusLvDwxh8QjhQRBtD55plYRlBpkSNaoo1+GEC2tD3cWQgakQiPHHxZpKgBkCbkGBtZW7FnPOM2f////6ydtr7I1UtC4k+j1KRWgyjECxmAmpdEFgwFw6wethQSmQvA9AN2MMuSZHLc9axVeZcZvTi+qWJ9VK6q0HBQcAVToohwUaOpx19U0Ms///+kRd4dmREbbcTbHc5vOQRcofKxKsWectdOV4ZmZnam5U5p8q8OwGay+88GWsbuDIN7zOWV1lpm9iLQAVYo4PAx4XFmxGmRLgyZT1TQiJtSsov/////////////////////////////////////////////////////////////////////////////////////////////////////////////////////////////////////////////////////////////////////////////////////////////////////////////////////////////////////////////////////////////////////////////////////////////8EaHpmVUv7qiBM5JIRBG9D3Y1M420zC02fUZ6sbZL6xJcEz4u4UPuWk+C7qmzFoKISH5BSBeqq55g8nF2ES5hSAdvc+D8MtKZEuVZ976GPME3XatNqpaGGZ//+7RAwAAJNhjI+eYSSE/iaQ49IjkKGE0fh6RHIVKEo7D0mJQOp84OiOMNojLlnwnKW4aSq/d7DhtQoVCjRAlXPliy3Knlo0GBGqE0lzTtYoLzFlJvctJ0mgs9IGUdBhQA0QifYyut////4qBfdY22pVUfZ8wamfCAQTio+iMBOVjHHjbBUXDcoJgQFhxMOgM8QYBLxWW1NU5DrotzJweETSzDK41SFQDsE1zXVg4xK4UKvH1MNJb4q3//+/rZ/+sVKHlodkbccSaFycRS42ukYuFsKDHD4drSK/Wc/otqMVdrwSKsJWptdFj7B7Un2XKUsPpb8EFhhOZocu9AoJaDjQwXD6jIgMbb0RjsoceIP///////////////////////////////////////////////////////////////////////////////////////////////////////////////////////////////////////////////////////////////////////////////////////////////////////////////////////////////////////////////////////////////////////////////////xQqioh1WNxtJMTJxHnuuD3Zm1zcI7fe5mBFHzeHwtZ5zv7d/qIcmzK+SnsboTT2aanVezUTdeX/RPW+vIlkb3+vR1tZJyVOcxCN+mja9Di3////WKiExDMppKJlIkjSQnjb/+7RAwAAI8hjJ+eMSSFOr+T88Ym0KHYcl54hN6WUwJHzwibVv/sDMzPKwY4hXRSn2RLU2Y9vt7XaVN7vV7pT/Jr+lHTy3tN/5pSuVlm15qlZCl0WtK6y8pTGMZQJ9S9vfv/5WhiosECYaGBTKUSJKKlMEwasep1WUjVW8dtEIXuZDWXjuQN8dANMlToZ7pbyUXYz6f0KuYxyl8v901Uzf17ob1b9vvmflKRRJShhQpSmMhWK21qrQMFAgJ4Kxd0IB7ytJ/uSVbKRqMicVnxlMZ+HoMS8UYXFllVMAxQFgMkFQmfTv2kg9Vv3LDjmPT61SRg48VsFwkIwiFGGAEfCZ0w58FByQoeS8YfabULj5IqWfLf+v6fvoR/7fUpf///////////////////////////////////////////////////////////////////////////////////////////////////////////////////////////////////////////////////////////////////////////////////////////////////////////////////////////////////////////////////4Bo3iqWmVR0qMmkhBMZHv0hITQ0FwQFUMQMkyh1EuAxIHxViouH79ikzK3CEwLOdC6HjEWh9hh4pCIoFGmJ80sbqdeudEIsXNnSeW1KeUI9dv+j/mlf/1kq9yxFqv/HobSlOQvMQ6GxWKlgsD/+7RAwAAInwjG2ewZKFeA6Ow9JhULmO8bh4xLgU+MY2zzCSRCmDmp6EXlmabbHptSMqlmek6b7uztY/p9dW0U50t+i39Gb8yUCC062ym99s8lgFk2HA+h7FC62ufmU5F//f3kKuYEDWfT/pUSppOkjRGI/JqhhcWRQNz5hADFDlJNTZvicS2z7OX820KUftWZS9pUdhdr4pNsram9hHGnaY4uKPinqS0sg9a8VUJkIPoXhRih5X/vo27F+ZKt/+kEQZg2Q0qqaiEpI3yyJutV6ucGbQm8F9cpIpsef/rS5z10Kfatl+72ql6unyPX/2vf3r0qzsYxeYqFOCcOExKufH0tBBQ5Cm01a62Hz0z////o/////////////////////////////////////////////////////////////////////////////////////////////////////////////////////////////////////////////////////////////////////////////////////////////////////////////////////////////////////////////////////////////////////////////xVHmlZVO/uqG6fBMzCMdaOXailhswl4QWYp2Vion5bc1XuajFYil9GqYG5U7JT3ejnS2j/JWf8qUO7z/UzBmHDX4hXsym+EReodhV9D41pT///9QET1Euaq44422Nxmew8zoZP/+7RAwAAI4EBIceMS6FNn2R48Ql0KiTEl54xNoWEf5LzxCXQ2unB+41euCz+y5T/5XJ2tMlfyOv/V0WvKnXdPdF6M7Lu6E2dUdtldMvY8XO7SnIrO6tJoyvzfKMptJZUIseexteVoUBFVRCoiNyONtjcZpW+uzkVK+yzs4yg4aZ8y27WdTs/9KKLc5EO7TPsnervu9blsrdZk0ZKtq++dmyXfahTkjB8smuxQ9JZjzQZeXcSvONaMQyh0Vd///9Yn7fettuNpJC7l9pAT5SmRY2eJ4Crn0UKNOWkToIAmBFtSWHDiDkxQyNBcaNJqGGCkQE5R1UfpgU/eWWYDQRNpSLwyuSSbXpeenH0vumF1t/////o//////////////////////////////////////////////////////////////////////////////////////////////////////////////////////////////////////////////////////////////////////////////////////////////////////////////////////////////////////////////////////////////////////////////////////////8SaHlHRF//vxzl9gPFKaqEsi7mYsDrDF6l5p+zR39ke2irerP31slrVu/KjXqU69z32VLGU3/fJMhAwpQzAykzHIHCwrFGPWfBssEb5yRZp1pAyh2iWVG7/+7RAwAAJQglIaekxKFFH+R48Ql0KFCUl56RkoUYEJLz0mJRHG2yCNZXwK5AZQQzKvAQwMRAgYOAS/WlBGZKAYEkusYdHJQis6tTZ22rUKtyjDQXP6hU2SJStGKWweChJakOG0Kuohhzhf///9Qo9O8QsI45I22JIuyHthYTtAMICFMlkMiCwEiacoklQGS0PUWAZIiZcJzJdpkbW9qlR43gutCcRLQ+keH0KYUMCwwOpIuHCVRUaeYYq9OlhyLgReIZlVU//rh5mq+gGaf6TZhEVwsb+unyNvKcj80UFVvLsKLd3lt+CIQa0ZvVFsSLDJELAUJAQFLLFpIHIqKEBKCVIsccDAlBEeI0qb0r1L////////////////////////////////////////////////////////////////////////////////////////////////////////////////////////////////////////////////////////////////////////////////////////////////////////////////////////////////////////////////////////////////////////////////////////////////8SOZmWZVkkcbjHmlbNWbn6qG5xdRpH9kVDp55RPntYdhfk1d6CCaRVqm09umlqNuzJdU/7UtWtasllK1dFV2ZtG7aOYzp9nOqobVM8W4WPWEyt77hdYE7T/+7RAwAAJQhHIcekZuFVqSS88Ym0KMCEl56TEqTOE5Lz0mJTTsqtJJI22PlqiaMKQGuImS8rWKik2fKHv4+g/o//3ApJmfbjn8pMn5pR3++zu/R+P7hblX7lxGVoiv64R3Rub/v7/CE/OOt9P/+3du629CZPEPDszcjjbYkqupFtgTCxYwqjSD55VoskyD5d5hz21FZM0iqUYLPOeqP6jalKjJSKOPNiq9rxQ+x60pWpC6MQqChZSSQz1xL///+oRV4ZVQ0v7qh9IJ3k0UoFRgLMsmAQYM4MRoJorMigKAyJgoOWXCRLMgYVpbdzxIwCaQmUl1tYXAIajRpyt9PjCJ0+daVJlEz4RGITn+ssWfXZ///9f//////////////////////////////////////////////////////////////////////////////////////////////////////////////////////////////////////////////////////////////////////////////////////////////////////////////////////////////////////////////////////////////////////////////kT+zSNqpaFeQrfL6jDxUg8qmZSaWihls+iMbzdWQKJmyJFMBJ7GtkXXssTFsJsYhlSShFB/MTI1it6mHYGjnvE5x4qy9xNlT1m0DmH////rFSiXZlU//68cp8kEQ7NktH/+7RAwAAI/QjIcekRKFAiePw9IjkKkTUjx4xNqV2fJLzyiXUUF26Z3AoIZ+RUO8z83QWZeUQv0thGdmbo+qrtuqd2Va/7K9e1abJcr0NfZ1d9WeqN95nK3foK0Hq7tf0RzW3/Bt12I8VKJh2dUkkjbbLM9RYGb2P5hbGpXWByCAqZySrdqtucxRdmayE0qyse50760s7sqUeW1Prb6v/R1r1kROh2KCYjY+zu1h6QyCJ/H4i1Fzy1+F35f7vv/NATOYeHdldtkckGUoIashWRjM4um+YCuWUpCMVZ0NR77reVfuCOXJVl7teicr3P+l6ei9v6lttQhJQ7NjQGb14Mj/3vlTTpFNqJuEj/47vP4g/9wCH////////////////////////////////////////////////////////////////////////////////////////////////////////////////////////////////////////////////////////////////////////////////////////////////////////////////////////////////////////////////////////////////////icREw7srkkjkgylZBVhMjyRENcsh45FPs58y/fOjono8yaO/1KzCX36g76DdbE11Ipa6lodFRQUEyQGHqBc49wuAwkQcaFwo1AmafTjqNB8ahQq0PLqhlX8qibqYdhDCeJQ7Ij1XHiTn/+7RAwAAIuztJ+eUS6lIDaT88wkkKsGcfx5hpIXQfo3jxlXBgqVfc1n3nOHCDmI1/+uzqwwAHD5wy1M+VEr1FL8hRb13vS2GWm2QfNPMNmnOqoELzrnyRl5K2kWbfv////igIqQ6mqDXf/j7UxIjxSBwL22JzhsowpTHSOycuV4RAZy+U92I7sOKHzBAj9uuxq2slPXfelHZvpZtWVkLZ/LzkFBwgc1ay/WlrMxFnnEoQtTkPVeEX/+j8n+3o/9QVZ4iHVTTjTTTHc0i4zFxWUNcLNERwFARiCHZHRLr23ZkT71cyiJjFK1PXo7erMnV319GSt1r/1ZCvVFUuYRHCrAQOsWrREJhruiTQgJilT71Si2AcOoM//////////////////////////////////////////////////////////////////////////////////////////////////////////////////////////////////////////////////////////////////////////////////////////////////////////////////////////////////////////////////////////////////////////////////irPLwymd//2O5NiayFtUKh0pqaYAGILChTLbVVQ67sX7SFX1SUcv6/dfTSje7LU3b9lS3s6opXlZjiKCwsIgKBgoKJvqUM2JQj6cUuSXQMWXENt1aVMyrOPSLH/+7RAwAAJJ0NI+eIq6FDn6R48pV0KpGMdh5hJIUMEZDj0jJSisXckQ3NpNGCAY2G1txo7We71pa2ng1rvDMIEBU45CbnhQioEEqdIFAkeMg+RwQFG1nlARFiIeE5B6RQbMxcdpIzWgwu7///+39Ii7NMMhnf3VrYuMexuGmEg8iISMlEAEUWZeQBNaEvQNPoHG2j2GWnw80mbFdDyBOYikUGKclAhToP1jzJcKPXY8dVoj0Q0IFIioBJuVUh1sIABSOpACt1xM1YWjOcUwOgsGIkyCCxxR4WF1IJLx58ikONWWHVhq2UW0qpiTDJYuavJqpWSWKNfwJboOoLAYdOgkeE5s4KFWObS8mtc/c4CEv82g26lZrRYtjQC9eBCFvQmNSpupf//////////////////////////////////////////////////////////////////////////////////////////////////////////////////////////////////////////////////////////////////////////////////////////////////////////////////////////////////////////////////////guVxMlVB61INVnLlMNhogFJNAKFFii8Si5prh520JOStTkqLIcTF1Y9VaXLUcpewWsLhMJgUVElKwOHBW85aVceICHaT2Ri0QHpa9rTS//uZjYv6dR/23pK9H9KQYuzuqor/+7RAwAAI8QhF4ekZIFvBCMs9IiUK5NMj55RLYSuE5Hj0GJQUmSiQQYBLBcy2mjXbthllAYhhEhSodEfd6dU2XZPS/2VH7XWta9jTZ7d2ma/WV1QoYJN3VRf1rFj4s1E2ZcKuxdfYA0mTD8WnP/0p+LC9yeoxMYZ3ZUuvqRYCCauaJcVsE1JG6HadKwkkZVX4Za1D8y6wrYOzrW3kEQIa3uKnls4qtexNI80v0VaxwKXrVbiwOTRl3//oQ9d9OtYBQgiGZD/7qgAx/LXA6HfX4CFEVkvJlNutTMv2t3pRlkDIIL2DEoS0jQjOJmWHKdbWhZqt7DEzU9CTsaYpao3iqH83HcYEXMT///+v///////////////////////////////////////////////////////////////////////////////////////////////////////////////////////////////////////////////////////////////////////////////////////////////////////////////////////////////////////////////////////////////////////////////////////////8BR4pnVDqqqhvmXEsaSFhUNkQ/y4gSGYKDQlYSsMmSMq4gehIercoVRIMehqhqrNZNDBRKSYSaNGIPNFxa02QfUbS6aBNoucUkDT6h/UtpyK////1gnfaxu+qqAEP3af/+7RAwAAJBhjIcWYSSFRhGP49IiUKUGMfhhipIVEMZDjDCSRw/FY9XD1JnldWS2+NvdF5ByatoxncBxAG6V0kI7FKli2te0XYgsAypMNvPFzLyTklzhBRVpMtxVIVKKSXPKtvrXiJAl///0gJPMMyGt/9WARt2KYBc0aKwtA+tPlp7/415tmvbU09mRgRx1qGoLKNng2K6z8oKJAHLEIGaDRh9xx2o8qacBXuRsc4CvpaETIqpRo0hwHeSf///9QDaId2VFv/qiDwiHukSXlGbbmZkjlBhsejmcjzyrWlvRl24ViNRV1dF7XNuu1DduEQliCFAosk1gnmkMgES0H6z3mVLckhVd6lyb3pYr///////////////////////////////////////////////////////////////////////////////////////////////////////////////////////////////////////////////////////////////////////////////////////////////////////////////////////////////////////////////////////////////////////////////////////////////////////////E2h3Z2NKumoONiIeqT1PoIho/ZIuKFKwWAIWGWAU8/llUHHzqUuaOF+OGrY2980lQ5yKKJd2LuFk0FKRyVPi4qIK1F3abmp3qF1CLO7yymn/9X/+7RAwAAJbitIceUS2EphKP49IyUKBGMhx5ipIU6M5HzzDSQPQUDqOXh8esZaiAlSkrCmfN3710v3u1LZEOFHEG9qrgkpS3PQt1lDolGOdsKpCbCW080tSdUSg8fWgtrPFMbNFDva5D////oEieIhlVW3G22xwFA6jzbROXNqBCaCTQc7Pn+S0Y07wsuS5n/0RT4QU1SCx3N3rJjS1+YAIjFFMUIioq0i9LEqUbaaMLW460mytB0ICyc3Lvxo2tQyyytxmgLEuRil7LAW48IaujECwMcqMtHW1dul/9bTi2VuWlii/9bowidUszEw5d6lMLQNn9D9CzcYpzc29yN8tqJPIO/s1fZqTce7XdlHf1f////////////////////////////////////////////////////////////////////////////////////////////////////////////////////////////////////////////////////////////////////////////////////////////////////////////////////////////////////////////////////////////////////////////////5tu10jaqVRSkmZpXKwuSMuxOZwWk16a+t6+7LfQtrpR2umpxJ5Sy67VExRa7hz1E1IJKEDEEbQMduILsbhA405Ul75+YQ9zNiHTLXrOHBy////4UAgiHVjIpqlUzTNGO0+gD/+7RAwAAI7RlGWeUSSFOjKOw8wkkKjCMdx6TEoVkdo7DyiXQxGKDZlobE2nJvQopcd4uRLicIH6Tc0Kt3rDySMmLdLggGChg8oXFmZnKnAomtR8gEeUSFGrAwFLkLLGNYKf///9bP//9QJGt8b6mVSjM8m7vcT9SMTqECRUxxdTu5nRF16X13V+U6yNsdu+X7arvn0VvkdnsjLU5z2RnZ1dAYs4RHMqAU4ZxdTHKFospzL0qYK944yKklf///t9RJsn5NFNqNJvsyBSxCeBluEppO5879nKog+9ofWy9///e2J7j3e8hQAQiIPOZLY0r54EzG5+n/y/j3gTP4/wwPGBD1eh6vT5pu2snZwL51p8uaQHoEIEwLmaZzkvblAvnWozQQiDaIf5c48BXubArIlWePfX+//m8B5l/Hj3tTf/YFZEzAZ4+IlMq9X7f7p84eU7/bBFfwlY4cH8BvKJV/JiBJsj5NpyJtJu0wBSwueCntyTokOe/+92Ymvj0iZ387+//6ZfyKPevjUNzNwcbuA8QxkP8qgDgGOZeD/UeHkS+v/3mmOMr7Z3qHH3l5T7pKr9qcTQcCGKBFmUAWAaB4Xu2KgfYsbk8eIez0b1WSATA+SFlgl28ruBE1/imbUrfL/eKYpT//w2e/u8pq+6MDJqmr4pl/fvJocZ5p/vvImqU+HiBHpTUA3WVm76ViBliJE+ISdOv/Mwxb4oaYfak//RzjFPVlJjQEwEzHVxqNgOnxSH1AvSadv+Kk5FmyMWz/+7RAwAAFEFpM6wZ7aKOLyZ1h721ObRdBx6ltobqfKDjxsXS7lSb7lA9KBkNqhSPA/jtJpqqSkVCozpytPOXJqkbIE1J5rTf///dzSoJTtiBSRBUJJRLElAZUHtKGgAGMjO1SrmGZQ5nxbVDr//qAgHFJ4X79Iv6hslyLBQG5OcsvQjEnDWbiYy49SzMzz/bGe1aSPu5WbZTeZmVs+VaL0UZJHI+96FT7pzTXZ9CvTFxVWr23emXu2FhrmW8s8lGB07WRCT3Eq21uURAQEgi0VEbbbTegCGbKwp1l3r+ND8dy0+WSzOJAz1tXGs/6j33n7vDU7CxwWtAWAKjvUaHwRW4qHocm81/DRdspLVXhyHttESMO2n0KHzfWSK1/NiCbzCqLUcp4NDTi6zolBWziralpZlgEwqRKt71f//////////////////////////////////////////////////////////////////////////////////////////////////////////////////////////////////////////////////////4gJhFIqI22229IIZYiCvSqbr/GY8bZqopGg+yTHjbOM4+ceJP7Zpt/K/YbtsqQBoAJCyoPJFXG6B6ySathzdroPWO42dpnL7jqa7vjcbKrPl7rpqTiUvVMp5KLuuzZ811Du4+HOXsKKDp67aKe6eSTPr1IRGBcSEzmTM1cckdeyMdvHgcNE3vHiQzQ4c4RUGF07pb/+7RAugAHBzxPee9C6HXoWe89610LdN1B55ULYXWYKDz1mWxbHsxA0TgKC4sHgqH4rdeknJqsae//10/37wvf8Ta2fCnBxR/brdRzrZTnm0vKNrujEYE8EFT5R/MkBUfM4sJCZTJoaNuSOu3GO3jwMnSb3+4NdwaPeiQYyM4//a+mzrNIF0GuFGnpkv8RPMw15/z/f8yMd/rx78O3/33DglKswsLCIQFoWLFT7goVQ1ml7Ytdeh7w+XnPvtdZ0kQRAzOTRFkkkejyOBdlKYzxNxMf/dWp+btGtmNr53gtv3nInDCjWBCs70Dwrn//oxDhw75P/KrGKCTWkvq4kyu9LrVH7//+Rn+6Lu8rN/7WRf/8E3////0f/////////////////////////////////////////////////////////////////////////////////////////////////////////////////////////////////////////////////////////////////////////////////////////////////////////////////////////////////////////////////////////////iQmaSiKslksEnIQkxmk2eJuJj78arVOEsixKVVfUSj8RMURCmCFIMGJo4kADmiPc///551LBnOcr/81Zgw4kvo+xkHEOX/////9NUban/pe6/9UkVxLmIGkwiKsskk8x6GaTM/TwTEDVcH/+7RAwAAIr2BQeeYTaFZMGh89Am8KoJlD55kJYWqYKLz0nWxCrsqEIQIR4zv+5MXtkd1oRBFEMscEIe3Vcyxwj1P///8WzTRAwif/Lg+Yb0BcNHAeIyI5goz/y5pJsU/SJXK1i6EJhUoqtbZJNIXQqxZz9MQ9JP/GYptnIOw8KIeGe/NG3ZJS4XJ2MIGkziA1EUVHYpElheHmrb/1c440iLWPPJf/7nFHNfxQKtKBi11aP/gNCBf/8sKSP////FAktOJt1VO1jXPA95CtBeuWMX3bWuXpg/Egsv07cZcfUBKJMbR+UQjPydS5Sz6lBwmz///KsQLlL/zTauJ0YKBxDbGMfe76i4WAaP/CGKsDf////////////////////////////////////////////////////////////////////////////////////////////////////////////////////////////////////////////////////////////////////////////////////////////////////////////////////////////////////////////////////////////////////////////////lCWeW2ySSeXZrkMKOQ2g3XKSm97lbqrZ6GuSxQx6fNJYO0qGaXWdyLGcSH5996vCgUrvyw2CoHV2/9PZxA5mP//sVUf/puZNSN9/2av//lUhiuS9f/7p50VGOQTMLCikQmQQaL/+7RAwAAI3yfSYew63F9MCi095W0JnG8/560pIVAOJ/z2MSQbbbb0p6kGHWaBRoo6HKuvJCbYzoHSSgfY9nzJMAkInnAuJASJWvC02mU5Z/0JpAwaf9cShwQv/nmM124sz//44sCyPFmcAiMiEyh1M0bbaejO0gw6zQLubyEOVfA2sb7K3Aqe0f7+szCxglF6NgSwwHo5tSK7ead5M6sKZaUu2GfKB5wsLH/5RrELirplIR+K8V+sVwkdD3/SEhYVQgOERVkssoklIknhekiZ59W//uSLOSFLRqlv/TSyqdEkOhhU0YyMDYebwWEAAxo9a/////me7a6////46ZnOUcMbVShRiQfCH//1ir2BD/pEgA//////////////////////////////////////////////////////////////////////////////////////////////////////////////////////////////////////////////////////////////////////////////////////////////////////////////////////////////////////////8WQjSVVVtstullLQlA/jZRJ9W38+cUMrkNPEstf79STOYkuJRESlDlNqaRMTG0HQKoSnHT1/+tWdTbk5c3/+yMyI5c8hucpKo0FxaRiYOvGf/xgFZS365RlwHxqf//6jAxFoMiJpWJMApRirBRF/Omm+y6JHFPKQkDd/93f/+7RAwAAIHDfP+eZC2F8HKg89KlsLXOUxx5kLYXqt5jD1lbS2lU3RROZIZjmYrTgYIQjEnX3/////CVDXa////+IqIpRRUfzjQWh7Qtb///iJQoVCZj9yxKed//0HujVEDDA3SSZVVSoK0OlYMAn50031bR9u2i4gSBa+u+9xdTIhpqolG5y7nVFdUShMBwk9/60TezKqmN//mHl2W79RIDA4RFRAYJbv/9P//lLqq0eZ///yirKr//xerrO/zAwCMWiEIyVmXyoVxNz5OE7b4XFFug7gTqJKmZH/5kRSSqjeKuVv+DhGBsILUWUHgoOe/qUmJMd97nS61PDgVAHE4dnClS9O6c3vG6MPKGjQCHgf2Opn60KPuFM2FGhO3QgkEwVN////yv////////////////////////////////////////////////////////////////////////////////////////////////////+BEDPCCRMrLZUK4m58oSmc9dUc4QDHOeVVu3blzGMeS5FTo3+vpseFRDWXsKvf7/pRdHe7uwhGd+aTiNGFxOjrIVpuvOvUIXOl5wdJKrk2QE8P8QWqLzkP0I/vTfQCoa///9CiSu71MsSHRX/FkbpYB8l0Zj7irbZFdBMww4we9tWsmv20VEX73//u+MZjqCzAyap/8TTvXd7+/h3pFVckGdTs6mTqeRCmdM7yZPocLg4Xu8iahq9/bd2Of9SPXO9741n7zn3zv3vJYyv/+7RAwAAFoTlMceNC2GRHaY48qV0P9RE7x5Xrgg6ip7zyvXAH0/rWFn6v+Fwff//1g+flJT0FAQeXf+lnl6qWVURKckbHcTE4CQnoq2msdcRWULopBjs3bJV+9vnf4+ffV56RM2WJ4ET0/vAb2xFvoDnrFPSkF23pd05KhQELPFvFgevnja5i2J1zvAa2fb/CcZMPFI4ao3o8SQk6jjqdnxnHpiJuI8pitY/CA0eN/33Cr1v6yC1HP//Egx3//Ih7vdupVFpKSTbKhVDhZjlJo0rDUoHNqBAyHKZUdns/vpX1dP/7y9ovEWIsTf8GbKz1NcUccddWRTMWrDjBmOHPOfkEKbSp1NmCodFMAwHgg5Z5jxcm0lc2pboSPanqpX7BK7/f9m4V/qUKiYQi3/////////////////////////////////////////////////////////////////////////////////////////////////////////////////////////////////////////////////7VN5NOiLCACSUUSqHC5MJeEOcMKh3gIFDkospDM9jU70dfPTz8zav78Q33fsQr/368ToaYKig48UEhQ5GLJGCw/5IQcsdwTXwecOVAy1T/DCsyNpRw4O/+kJEmNu6KP/8RiukDimuhT91T3UPFWF3LqtAJJKRtm2KVFL+rESqf2DYUwkKiod3qxer6k/d2/3/f8sqmmSQ3bX/3ek37dv45hs97QYb/+7RAwAAG1zzReeJC4GvIag88qFwNFPVB54jLgbGhKHzyrXDCZvNq2P5lfsaGNPzCz99bZ+EC1hrc56JMW1PzsWVzfI+pqv+3/dkLvcDC5l/a6p4u9vKh2pJJSTLU+yTTFviJFxXMZg4CixREp8zsted+36mWHu7g6w7MOZtifv7PPev9X3XfHC7rMLQ5Y6i4+SjSaeqgKSBggeeeULM4bJErTHcWOv+HsXzD2kGPrc2zxFBWz0S5z//4qVfo6ECZ3PzpiXhJKaaFISxS7H+nGRLQlC+ZhCgDCDstW3bW/TXujb/29bqY13xU/8OvbUfwfs/ENNnHTrT65xmRDYgRtbKQfB0DEkj6ZIUVTLzSXvak0JEc6dAAxoAReRVYtBIj6qv7f//9n5FWK//////////////////////////////////////////////////////////////////////////////////////////////////////////////////////////////////////+is8MyIhwirJSOQvZy3pBgObads5BRQSNMsrdtfVPq6S7bLEWGtOiOO+p7hhqx6u1l8U6GNeVnCo2NkmnJbJJeXtSQWKxyJx3PRefRpiCbyQvFOqp+eDZy8+LOPhUQBMMF0Nvjibkm2ob///2vUoNxd9+3VMzAJKShBlYMMzjDXR3sUrlDfkCAmOCsa6cv0Sitwyw2fv8+J5TqZZTt/5+f5vzzxOE8be+FzOHKsmFHWL/+7RAwAAGfzzQ+eJa4G9ISh48S1yN1Qk954jLgbehZ7jypXBAKjCSUECeEnPGIXAkpFMjL5rP/+WOYdkzc2NecFDKHaBd0qWJPxKfV////7+h7vd25lmhVqyFOAt53Gabx7vMK5XWEhAKUWMxnvtl9E1LsIPkI+LftKmslrObW1db2L29qt95eQ9yzZSxdlR/LIL6yJEiCwqkjqbMlDaMsnJcnUNbW5/dVq0AOWqAAwqERAxaes08INnutQp//0hpysvYd1VWqxYUCSIxicGqcVlKzPnERDRhUOYqlc1v6KaY8oiIMWh/6rc/3Ln025/3/2O/39mMNinhujlONRpAjL33ImKFDL1z0O3qeS5Jq+ff8rfS8IHTNxIAoB0OKJC3Fj37Hz3+W///ZR////////////////////////////////////////////////////////////////////////////////////////////////////////////////////////////////7TU5eVLqKtVCwpUkRrKQ+kKsqY87KAiwwVneuvTL+fyw2OUDAIey9zDklVFS3/3f+3j0qPmu859nOi9FmlJNSJF3/w6hg8gP/aH28MTWRtF5//+UjIKhtx57woDQGSIg354GVnf0Uf///6/+l4rIu4dkJJJSUJcXAjn5hLbmX1mq9ZDimbJdO7+fqO+m6U0sHA+EcIEio149Sz5r5vav/vfMj5Gts0++X7V6+v1FETmY+QUwn/+7RAwAAGX0ROceUy4GwoSc48ZlwN7Pkx56DLgdGhJnz0oXDhpGArChyHx4Zf52JSJTJUAi4u1uoUUtAAD21JLi74eaE1////+rIxFXYXCuhJKTTg7B6CIXNjPQp0omH97o7PLyEqu7qp5/8lmXHTx8NOsZNuZJV1NNjuJbpr0qqR61hUZUP2yjkmIhgwEYV6gYJGAGCYCTDQhcQREF42mUqVvqagWPQsJhEeCLJ4qLjVJuegs8VcI/Bax////6BFhnmXVDFWrxymkJlHP0saCY3JxqyiKMFzolGu0+nv/+6UccKoAMeaCEszlel/VallykpKCJsjpGpqEzlVYYDFAYFKgLKKAxIoG6ipbVUgqic7M2HRQ2WDtyMPxK738FrLr////V9ev////////////////////////////////////////////////////////////////////////////////////////////////////////////////////////////////////////////////////////////////////////////zWGiahHRVqvFxQ4f10NHrTb9arDZQQSILzIV7KVevmVWMIlEiPmHa7bOzj50fT95j5LL8lVbXmt62RrV9nawGHUc3saS9XCbbm1tUakOeHUoeSHLlSSzUytyFXkpV1j/PKu///7Pqd3tsjSrVcTROlQSktFMwGisvHrYGoYhmVCMtT0ddWb//C2PiK70vUjm8Xfzomm0cn/+7RAwAAHSD1Kcega4GaHaV48plwMwOEfh5TLQZkdo7DymXBswz5v7eGBkEr/amZnx2snR5BK4h9ZLC9AQQQFSId0Je+46OwEYMh1ZQ/ahtbU1vq////vbpNutsSIK1URKlHMT01HJXH+rYjLZQ04oY51S9n5Z56MiSDh7ocjASjC+2dqSWvJnZqmZm0t9Z8TLesnmJNfr5YA2QIv0kMD3s+YOd1MXwmODyajZS9iGK3LsX0rGUt0rapX//rd+FgzZleEMjJKSbjKEv5A3I0jNS9V9mcYgDDyO4oqN0Z5q6ra8d6M5zZG755hW2W7Ttqtv9fKnvvbMYrpe5j/834fIdPp6aEuXk6xmSUBijjAbELltGvQKCjVsELnIk0uk0PZcu4emn///6f/////////////////////////////////////////////////////////////////////////////////////////////////////////////////////////////////////////////////////////////////////////////////////07r7S4q1/hzlzIGqzSN1LJ5tZmWABlipCI/ubtRVS3+1IMstth9M+9GX6p/uNmGr/K2q1vL3TtjXHjIzbgrR31rScgB3zigKGiRwLMK2IQnNGVyNJBqWuPILNirBFG7nf///jSrqN4ktV/i9Oor8E5c3BIQGj8oTR1FJCqyeRy92f951WAYVX2TC0G+S+7v/+7RAwAAHijlH+eUy0GPHCPw8ploMMOMdh5TLQZUb47DymWh636rrW+x/+2mHYjNN9dmrOpjpqph2PyPaZhYPiQNsFXnqVIsFKWr1s3MINb77mCVr//7Ku3mU7r5IotV/i0lyI9gJCj2dIMCw1WDCoOIPfola6z2z3fbi4hmHhnl5juUfKnt3zt2p2h3742rftc7n7WjgRdlpbGl1DeILFiYODA+OdRWlEWaaNxdRIYEDR0hUwmqqxDDop///9CQVFYdmdUr6qhZksHQkPhHyK2jFDAsOCYkszOTX4fnmS4NFgmAbuZ4Cblt1qJbz66sxHl+EJCdNzpLmw+ZOS4sSqJmsxJUMAqTY0wXNBVl5pYh6EmC6l0PQy/Zr////////////////////////////////////////////////////////////////////////////////////////////////////////////////////////////////////////////////////////////////////////////////////////////////////////////////////8BFweGZEr6qyRLTJTGDnT38aKOaO5U14dyyn8yhkQXDMBpAYJVEs7sTBiXEg7P+5H9MiK25e6mSrgbZB1AnHaPTcK4KBASnECSKJAT19hhZgXitC7B2kWtOm4nYgvTXUoirVws6MJGbhfj2OhaiLdmsMBkFO1Op9X3qmFJojgwDDoOaFLSj/+7RAwAAH1DrI8eMa6FxHCR48Y1sMlKcZh4hrQYKcI/jyjWz0iU7Mz8rP6jAlAWESI2GwmCAuNDj4qGRVQsLmhZaEqTzRF8AQgYvbc1bhHTSoej9X6qpHd6lK2t//bUKMsOzIiLSqw70oP9eMKiMc1lnYoYOpjCTOpdj2I8mi6RxsElMlCJXfL8STx7xohFSQ4ezmbextfI7iF4NjZu27MCMs8ofNBV869Y8k5ll7D7BVTUPXF1UWlCjmFv///xQTNlhUQzr7qxkHKMZyMhbSjGtQqMgpKGvYyx0YizI5Y53lzwyPU1l7yNSzRf8oWhlOGmkOGaz1J12NHYQO2h6wSLaedlc3mn4sfjR+3fL9ngX+p9Qn2qJq/////////////////////////////////////////////////////////////////////////////////////////////////////////////////////////////////////////////////////////////////////////////////////////////////////////////////////////////////////////EzZ5ZDNL+qsZR+ixOzgR6Ub1UxRXgoQHDa2So6sJ1b5W9lR62RFEEMLLKbjzoZ3Yy3mV2M82jm6vrLUex1o8MT+a5ZUjFCQRLXpJEDaEO2CFyhqjSvatjzMcY7dEiVlVoa7EJihxum8fsJnVTG4CgYUMJMYUJc7mRf/+7RAwAAINjPI8eMa2lnnmR48ZV0MPOsjh4yroWYdJHDxnXQs1PeSU5mIWal0dP26Tum6s3RmpRquukaLCIkCHKSowpRcOKaLCpgTDLqFHXk6QGUAu7AqnXOSqZTsfWl////7P26w3dokU1KrFq3DFcjdP43WRXq67gBBwoZXEgQkzyOqkWdOvEIHCp99nNPuYi+m+fTfo1mpPv6O0uND0EdGnIWOJhQal540G4Ij0lMNtsWuBa2crppW0zK9VA4QaHUxERVlFh4nPB2bxK4CJZHzCHMJIHIQ7QcWRU6eqbVD4pqCYopjTzUmzRhKlx16D+HyAMBgHyQYPKDBcvWoDERygklQmU1z72hALvCDA2kq1A9chWg5z3///6P//////////////////////////////////////////////////////////////////////////////////////////////////////////////////////////////////////////////////////////////////////////////////////////////////////////////////////////////////////////////////I31RKVVSsPE/4OzuMPKGrFnUHuQgR49E1xj679UdoMMkzUizN2vtNDzn72Q19u00fhvpmKBJQgihzQYqzWNajBRgTQy7b4lo11jgASdd6KNbmhl6BxZlzUSWmVRcm8UpjpZJRo6qdwBTBVSE8r/+7RAwAAIlhZH8ekZyFUnCQw8w1sLFMUdh4xrYW2aY7DxiWyqXnFUrSWr51OnGThFzc//z9s5DT/ja8hORAlpHMKRjcISpwKrf60isRCPLMYVc9ixaVDqxd1lKhoiQoNf//V+tIXZolLSqo+m8fzHrZ2R4a1uRwQUmaGWS5/qJ+jKpfaqIsisVlkk9mPvRHR/lP1aYypqVqOhMMSaZgM8HGnCzyjiwuPU8q42SJJehqlAkMtpURLIDzT7G//7P9YGb/3SRuONuGoAADIhLA2DdlYhix6xl8j3q3/+3pOvdASF5nwwZhdLIro0m1vAuQYWtSzgUIOOqBQ/gZ4pK5omJzLzYsxTRephJg96tU8xX////////////////////////////////////////////////////////////////////////////////////////////////////////////////////////////////////////////////////////////////////////////////////////////////////////////////////////////////////////////////////////////////////////////////////////////////////////+S7vXZL+78pQcgsDgnzLAtkgLl+sI7mw4lzXOeskASaRkQguBiV2bE1BmxKxqymC7GHq1KKB68EqalKfgNDR5Zbr5lh0YKUEYcQmkoZYM////X/+7RAwAAJcxhJaYYaSFHBGRw9JiUJ4B8xp+HioTKD5jT8PFQVJLRf29tbpmYBjDgCYEZTalFuWSuKR2Eb6OZKThsOwiyoEkiisMhNOxes3YAanVMzi205GtUCD3CmcHi9zXjQKfZOdXdpoYDLVLLf//L1lSS0PdufWWZVAIYVAOgKtOsSZbiRN1I65EnQpCM4GWW6gSN360SSgytJZZtxk3Amt0o570622mmyqBWqMG16gzVqd2E8ymtbVP///lAElRJN1fM7dW2NekznAg8xEkJa7C4bdzMkI12bHgqnvZ83/PUl9ul9i4RgeIpSqipugXUfqUbFXaFnVCm597+ZHLo+tVYN+318XhlzFZNf///////////////////////////////////////////////////////////////////////////////////////////////////////////////////////////////////////////////////////////////////////////////////////////////////////////////////////////////////////////////////////////////////////////////////////5JTjbcbcbTbYyvY01MSkazAQtGmAAQbOzTEjl3UHo/RZ49zx9q11ZciwAUDwGSmbALmnXOFXK0sSES2tjUBO1sV9CSLxuhrGJS4UOh+LjmBVyGu2o0VZwRklJuSWSWNv/+7RAwAAJBRNN4zsZzFhCae1jQjmJ6FVFrETnMU+M6LWGoSZ3hfgwGTmLuuAJvXyaCFQCcB3ifC47KU72q7z1u92UahO6lCxqhaC5+7Sg4+ff8pNWtWwk9nU5j/tTXOhWjXtj9dpkVWPLDQESSkpJZJZHHcBIBiMjcgFZwPLfGyw0DsAG8VjCyCDvam9y8/e0yJQ3IuMpK/nLhr2M9SUZV7L1HVKpoFG+QUceoIrFJtb7mrM6VNuiBl9A2LPBZRAAElMSOSyOOGcOkGeFDGWO0piHIoqQ/hLg5zN62+gpn1ZCJiASCASCQFZVmfdmEqKfqDi3GWB1jRK6wsB2gBjD1dD13C6WX4GBlooqpiOntSWPq3Ef/////////////////////////////////////////////////////////////////////////////////////////////////////////////////////////////////////////////////////////////////////////////////////////////////////////////////////////////////////////////////////////////////////////////////////////////wQSU5ZJLI44+DJQasVWxtmLbNtNNVEeFzCXL6e1VCgqv5qE2kxEQHrHc9N0dIxHX5uL3pDj0iW5sGbhdj6DyAdCLKDK2fL9A6jv31MS3JgEpty1xiT/+7RAwAAJWBvQ6e0qTE6jSi1hqEmJ0FdJp+EHMU8KqTT3qOZyViFrHccAi47ySFJAMMrvCDLqcjn/zu8+nuo/4efNAEAISLlvd/60RSEEIoUpkpqCY6rXbXMqZjBVDSRgmIqdg9WUTD8XJYuASknJXIJHJWIRsZSAC1jLFoI5Sm6X8cSKOjX1/m+/1o9TRoAoDRJjz4lGAAAHP64xMUdVMbxdBQMiBPSLKONKJoVzAs1J5yhuq8ZFbGNMDVBoBColJty2yQWuSmyByByi3GqDDBWFtYioLuPMRAEpzWQ5HQ7X4thdLIC0HJcJB9+ev//snXp0U0tSdcNFLNaEBZGi4p8027MuFUV9Xqu6Fwt////////////////////////////////////////////////////////////////////////////////////////////////////////////////////////////////////////////////////////////////////////////////////////////////////////////////////////////////////////////////////////////////////////////////////////////////////////////4BKTctkgkclPkRoTUlR0hxhuIliKA9ynE0GDb/Wt/7L5f9+z4PYhEjgzMUlzpkrt/V6rrplXTSA0HPhkQ72MfRW002hlF5eNtSN3zg8EQAWn/+7RAwAAJfSlTaeo63E3iqk096TmJ2YFHp6hNsT4KqXT2nOa5I2xIo4VIxBAhdTYXxUGsnU+snkP0Kqbsjqi/VnChPFhFBeANAiIyh3ZP///9M8zWq9n9PXJs/0/Kqe3R2RTpfoXS3e6/9f/ov/pgiSWm5a2xa5KKeEEAtBLSoN8jksPUhEYXw3Qkx6+p1npVp9AqeQqFgVFRNtv+EX9gDFnOaKlmFY02PU6n8La3KdreTJuSAR7aSnubHJZKIFwBJyS2yQWuyvBUkSXwG0SEYqoP5FlxQqKQVGmS119JaCukTyiGYWhcRMCOMCUkl0f///StOW+rn9P60emrf+6nNrNKhUftZntffZf/N22+lk9fbwz////////////////////////////////////////////////////////////////////////////////////////////////////////////////////////////////////////////////////////////////////////////////////////////////////////////////////////////////////////////////////////////////////////////////////////////////////////+AU3JbZILXJWAVI1SUD6SItKwPQLjqWoQRFr2z8777vr5z/DM0baw8rRmUsgdGp/6V1iZunVqjEDnnfp95x9iaqFWkkdryfcxZg0IJUn/+7RAwAAJl2BTae0TbEximm09jzmJYEdJrD2m8UcKaTWHtOYtyC2tjSSSock5wUdHtaMmYo10Xc5F0wPk9v/3fS6k1rOjuAnhOWAV37DzkJ+owXNr/tp519rF33KeGg0RaOSydRgZFEk1xoahZIkpyS2tzWSSjoEewUtE9gL2tAlIu50F+MqzNbf/3usySdS0V1mgHkQVcxX00xF3eUWk2v8lA6vYc6KDZUIDxU69qxImWDQtKC9OfWKHnNEQiSgFSXbbW7WyWxwugDgWUFGMw7SZL4mgb4iSGLlyfSZ3f5t48lPuksAaghSH6HGCMoOPtKr2LG/LAnevPb94rdcvVr6IhQNFicdhUYVKH74rrP+r/////////////////////////////////////////////////////////////////////////////////////////////////////////////////////////////////////////////////////////////////////////////////////////////////////////////////////////////////////////////////////////////////JUk2++2+1t1OJKRQXyoexxnMGHeSgpzyULzdsbxen9dvM1vNmQLSOKWt6Q41grAS3XDCTmpKJi4oeAAHTRFLTE2JtG2KD4YY5zRUDWu/Zzckooc4grQKgBuS26S2SSQnomAX49hT4RDlCIUXI//+7RAwAAIlhJS6e95vFcimn1h7zmK7ElDp75G8WmJKHT3tN4Y6zfd6bfqW5qgcZJZwGtCxjuTefNTigvXdqGW3oAhNH1ANoXagUfGAIMKjEOjDrRWGBUUcaclIAaKpIps7qFpWoANyW3SWySSF9DkCPjQE7gEUcohQtxcWVZg++rOqtBO1bIrcAkA9lqbQudteF4bXTeENWg231zJRBgafLqUQPiZwJEQVEDBdIuZDZRZ8FA2lgqEZo9/Aq3MkFApSW77W7WyWtxFiltl1rMZs5DY1mu6CDxJDxnZ9j31PrUgSwGcWo0kVd9RwTkhVFylAeXP1zOzoRpVVrLJHbep9jjTwuRIEGlCRFbzT+x+fbT///////////////////////////////////////////////////////////////////////////////////////////////////////////////////////////////////////////////////////////////////////////////////////////////////////////////////////////////////////////////////////////////////////////////////lKS3fa3a2W1uIsktErtbrTnYbuJUhMB22zb+vRe6aN1WUYBPgkR+Eyp4koSkyw9xqhEAulGDUqjXpR3P39TjEwFRpZzVoNJdMgo5bYKOHNluor10EIGaM0Q///+/7OmcD/+7RAwAAI/RhSawZqTFQCSk1h7TeK+GUz7CEJIUEKJvWGCOYvBbZj0BOo8zWrgCbCw2v2f95rqNGBUeYnD88f8jr3OehjBLQfINNpGNUvY45bdNSJs+BmBugNnFDWJGhJgjDC6SKnZ80WC5XTPE1klJyWRyRtJNnDiA/gFAnmvpvHWCaIBeH3Tm9btRz2fWkXK844AOSiWumNUeYKJQSTlGMM+mzTIEzTVowcQAFKQ0qtR4zbctj20mDgtU4c0KBFJyWyySNptmSyTslq2tvyzV5ItMiE4o9WwnBj66scyLVAaCgAAg5kKmx3QKsKfuvlKuxfszKA6SLAsSeyZSRNWFyBkWQLBEXazU6L6jqP////////////////////////////////////////////////////////////////////////////////////////////////////////////////////////////////////////////////////////////////////////////////////////////////////////////////////////////////////////////////////////////////////////////////////////8lJuXXSSOJNgkY+EvezttYEeyeZAYVoGlpxymR1satXVYUMJl50CuUIju2LIijZ89YAhRZdcw6wmdT3bvOqVgBEVE5I0OosU2tr/vCgCckukkkbSbLgDlEia2FGxtqL/+7RAwAAJDBFOayk5vExiKc1hJzeK7SU3p6BNuVmIpzTzGN8/oapmh6PpJlObm+/VAeAkPue7pI48Yddx1Rm1kcqbXRk8nrdP6Z6q9dGqu6U2/NpW3rkLQMStjKkT8QhpTvP//V+h93aAbbu1skjjbZcAvSNLlErDM9JA1hiAvE8ipjPd/d/xgYiVVS9WQWC9OsI3/+3Vv2/f7seKLPR78645lx+LLHaXcDCjCxHuRfJQw92T9w/dJ3/V+RT//9glyTa2ySONtgagsQSmAkbumtdv2+goEHZRUtK5V2YQKfktJ7p721+XSv+rs7dVaSrK63JuxBouYHEBQaco5xMyESiyLShQJOFlBEq65lcfZ09aKv////////////////////////////////////////////////////////////////////////////////////////////////////////////////////////////////////////////////////Jck1tskjjbgJgOoOlsXav1O1ub2KGgYTEGOx3Iju30Dx+3lZLTPbtfrun2/TKyupCKpVOIEUPuIAwADRd0DgmDD0GmRFfcYRxvT03Pov4U8+BhT0pyVW+mH85J7ts0++GS3qLZI5HIhBxEmFFRU4vHb4je68wfEgTg7SlGqhjCOAecQRv//8//8MPqczz7r/5///4XXbi+/zysbyw7+ee+2Kd4EVFfxByJC5aw6Rax1FDVTFg4DUOMpAmFQDn/+7RAwAAGFDjO6eIq3GCnyd08pV3PHOlBp58rsgAeJ7T35XaZsGoHVgRAsrpKSmubLhgcNtZ//+Lqjqm5eJAfATsrkkbbbQZYi9FNhx3HuuWJvzaG/xravV87yHjO6YlSACwbSnL+tMnz8/7xz//////XO///v/1yvlYicP67rG3Uxv4b/DHO3QRlh8NKnn4KBgCfEHJ7ojsvBgSDdcEmmmG1p5AaqY4h4vpdOa/1nO7byp79QbWcSz//9/2vdiBkELi2MjbjTRNH4QseD7Of1l7d00w3aOFB8er//3NSKRVYozq+vTOP//m+NfLY4f0/3//jN6QZ75pTPv/77/vM+JWEciQ8A3C/h+C4GgsilzxQB+q8n8JGA5ofP5c0D5Z3y+r1I/Uf9voE3//////////////////////////////////////////////////////////////////////////////////////////////////////////////////////////////////////////////////oYhUUpiaSSKJp0EvF4+zn90y5dJmCSzesG+N3qWxmHQfzhWXDAzRdvf6BcatBv+tTmA8kHU9lm635wqVKY8NMlj6hqCeQ24BSCUB0iCo5hiF6wvkREmycBrAQgSmSddbymSagBh5TqnfhYM/rDDf9JX//hk0F5eEERr/7ESLaO8/cc04FFzM6WdOrNGMwbya/Uti8UmWw7il/r60Wa4/Euuk1vnTxwnP/+7RAwAAGwzhP+el62HPnie89sV0MjO81x7Wrga0eJvT2tXLSZRed/yaomjlPmCJ0kCGUBAQHSWBPRJhlCTBbhgh3CXiYgrQIUb30o1DcJTv/Z5ZBRYtRAAJJJUhkFGGiaZUbF+yZY4YzVhrAEojt9QnInwynWxkUv/1mrNpGy6v9zxOHlWyX9ZK0zxeIoRUKsUkDgLcbBNg9E0c4LaiHJAmJKmJEGMBNQSEpNrRk0y//8Chv+GmSvnSQaX/+zywUQYliISSTRJFFgJQbA5B+IR8OTFp0ZKMaRqYg3SCvbJ5immtaLGhv7v6qujjwOnNZv82pumf/shIXlVQTDIPwVF43EwDiQqMYkJwehCJKPqxwqEpH///wfHvS97+ggc//+r/////////////////////////////////////////////////////////////////////////////////////////////////////////////////////////////////////////////////////////////////////////////////////////////////////8UQpeCITScRJUIIQQvwsheDottuUTjAPMZqmo7QL0g+ZJD2Bakigio1Y0T/V3zMxfMM74//t7D01VVNv/89KLbk0He2BvXBGDo/oniUwRACic1ezqDqd+1EmmdDnL/paX/hA70UBqOVsRuRpB1JcTHM64Rqhx7mM0gfDCf02ygxL0CUGj/9VID5n/+7RAwAAHtjvL+e066GTneX89q10LoNkzrK1LYY0mZnWWnbSx3KDS8kQxXRswyqpyq61/677q396koiiQ4XCuKRSH5RR6w9G6kA+BUIP//f4w76cXYvZoJDv//0lqORsRN1tKULih95mWA1caHaszSB8MJfrHOYH8tJg7hyG/rJAJmMKNB5qBmWslT22Qrq6Lrt+hj99m6ndh0SAgLDcbiWC0UkCyGMNgnjonCUoV/2//22v/ruhU612l6NlXjjQFJ6SSNutpOPCqwQFInh7iP/f79aS/txOD4ZYruJvWcS7M8r9XxnUj8bmJ+htvrnK7Lv/ScbQ3s/lBbIxZHwNYKBWjU0ndSg8H4wIBFkpf/85O7DSJ7R7Kt61IY4z/////////////////////////////////////////////////////////////////////////////////////////////////////////////////////////////////////////////////////////////////////////////////////////////////////////////////////////+C09JJHJG0nIJXAIBCgYmsAxPv9+tH/+mMgwGGsGm/8ZiATaemf/PkujomM5x/8ZzmtP9//d0N9S6Cf92MSETjQfQtwaR4kYxMDh1JEzSPE9Q6nH///fVWvev/v3//0//1brPOSXJJJG4IynE9EoQuMLNXYyaB8qevjfW49wMcH/+7RAwAAIBTdR6y9S3GPL2k1p7W2LIQ1HrDVLsXqiaLWHtXZpdAzR2mJgPQIe+kkSg90merOPM///zmddmZkO/1QuNAIRgRgLBd7TqOpt1/7f/yAaGRQUFObgsR/WU9KiAJbkbjbYaKUZgxUGpCl2sJ9P3lndpaPMirKY3fifP9aZZAhJz9VfyQmQ559X+Maqb//7++rWt36vmLKJ4hwWsd4UxQMlrqUk6SzV1/7f9kDRllqZotP5b+CqG+5ZUigkuaQWySxtuv0gPVWICEJIct/hnNUflehgOr//HzfTIZw/rXzqtpwtDO9n3/1Hm/0v9u320v/SlSA3Beg/Hi03OkgmyJw+TzqSCX9m//WmO9bXk2fR9TNMbSpIXC3//////////////////////////////////////////////////////////////////////////////////////////////////////////////////////////////////////////////////////////////////////////////////////////////////////////////////////////////////////////gBSyORuCNJtRBzk+DEBlPL+l8T9vVoFhQv///n1imIPxmf51mzSJI7g3x/5rQV///U71KqUr/0TpeHGMcAxA8j3F5B0VKUaslNWX//9dVInDUwgVKnWhE+z/d/UAACpW3K2xGko8ECIgowyw8azer6BkiD/+7RAwAAIZ0NS6w9q7F0oej097V2LIQ1Fp7VLsWQiaLT2tXaFkd921yWHqFxDln6lKJYJuJwzv0N///dTNV5qKa3/xcCsFoBUSw4IQsXPzVMNc5f//9UUmAoEj6rv/lBykp0OGnlKAKlbYrbEaSbwLoahdwyg3NVvVikx2gqxlH6PzIpCZATMEnIXTLwXMWiP66v//2WpWqtKtf/UtEvCQD2BDGQwJ2ZXcyWdRZBD//+paQwgEONxJpZczSv//5UAF6Nh3nNYZ6SJGSoGicuvTMZQn2LwPoU6kFr+iYKKJT0loEoIy7PvdkT//vb1qzs7f/U4AkUBUWmjyqnnPX/RvTzrRqICxEGQZIsYyTX++kaUXrmf////////////////////////////////////////////////////////////////////////////////////////////////////////////////////////////////////////////////////////////////////////////////////////////////////////////////////////////////////////////////8kqaxyNwNpOAzz2GGPoBpNHXxnDCbGJTAAChLmiv6yKPwX0OPSTLhGLql+81Wdjv///zUX/o540GQlAsKhKd5jzUXr/v/+aIwPgTEplU7MuAny4qEXoHGac0BFgFOtyRuRtJMW0khOhki5p7P12KHrMgwjyhsEH/+7RAwAAITEPP4e067Fsoei09p12LqRM7p7zrsWiiJ/T3lXam87+IaudG8lr6+7MNta3n7Q9B4x1Z0vOT1Ws/VkX6dLHOg8IsDgdDU5TyZrqavR7e3d/83JkCM2IRrfen7aLbq9BJcskkclbScByikE6DZIO1Q9TZYr0vCA1iuhsEGn/xbMkY3iHX+vZXWzTN/p2MqWLuc1u+z17X//yChkAESBhB6Lppp+tP/6hADjzqBRij6NldCD3OaVLBFBEFObSCuSNpOGyLQcJNTUV9N41HeKSQYCQNQrv/swuYHbN/5TEkGJSKg07EGgOPOjKc6McUUXITW3tvP5CMg4OGiAcFLE0JXp+ggHGchDnoKOQfCIfKHNt48gv16EIKJfJgh/////////////////////////////////////////////////////////////////////////////////////////////////////////////////////////////////////////////////////////////////////////////////////////////////guTaMRySNIQ+RSFCP04EzEz9XcHF0JKDQCmfv/8+ciMrf/OYUlbr8LIIkDK5w0JsrpqQ0ziKSiCAL4DWTRMjjUaKbZD1dMzd3M3NDYvurX2Vat/Vpu2pCtM3UxuU0zcW//5AwcJqXuSZCASQ2bj76W0SLA5GuHAt7/7nPejWzOsIydV183HCRM/cTY1lv/+7RAwAAHlUDQaegq7GoIeg09MF2LLR9Dh6ENsZei6HD0NbYoFAMCoMli90kECgmMmBGHQ01/1//Ht37XKNJv//PUXz/+y+xPGMgdjKaGW2aTJTfYr/xXpxQFIfNx39MaJFgdrQ3Gff/V8eHltKbnpouq6uL/jKW0loeZEggh4IQDAYAaMpk07KLhcLhwZwChAJZFFJNFX/Wg9SknqUkikbP++62Sf3ckC1I9LT1i6UimxiUyAmaF89//2f40Pi4DVA3HeH9ul28TZBRuQjCkn/7BFk24GlF00k1Oy0LX160EauYGDVsMMFgVjBDWFQHIb3MgDcCULDqcP6t/9v66Fo9b//otGUM5ZzWQwcdJ1Idf2/+i////0Z1D////+n///////////////////////////////////////////////////////////////////////////////////////////////////////////////////////////////////////////////////////////////////////////////////////////////////////////////////////E0QOx2drt5RhjyElFsfN0m/+wPZJIpqtbppJqS2U1/rQWyGzMszSGBAbQKQMUSoFbAmgSBO47gWwOYNAwAUhKJIIIXb/+v9H///ru6L0aqRg7pKSWhb////9v/+m5iXzc0UYCSGGTKKliacYRKhX1ly54b/92eBAINZz6U6ZU//+7RAwAAIBmDQee0TeGMsCh89rW0LeRE7545LoXCvp7z2xbU6ehXqvThs1ZmIQB8I0BMwQUICiooqk0IWIKVT6JoXEEU9f/v+vtZnv9P//pXq1IIGJWjf//hH7kLG///0/xZQqphtMqrImmIGdQ3ySmtcrN/9vZ6SQjKpldlZxZ1LXoI7rpmCSaCbgtAKeJaJyAMyhPpfacELEYH7j8RUhCdTOpt/+h/rf///1etemj8zKiSf///////ZbtSSMGgCMMy4ZWkScsrNgplmkuf1JZvZQgYhxDI6WOi1b9Jrdjcyasvhzwnw+EoQgM0pG2oYgXY1cwKKTsky2T/1/qS6Ck9S/v//up9M0ZSajxoPD6X9fyXzP8FT3///9X////////////////////////////////////////////////////////////////////////////////////////////////////////////////////////////////////////////////////////////////////////////////////////////////////////////////////////+Jom7kqrWtuCiHoTZZpDvjriO/cRgDKgpv3IelfpSvES8TGWLMcYbwGgfiVBWgU1Ipc8I0QAi4xB3m43qLjO3/rW+rof////6yYnYyWXxZn///oYDofCoqwBVQiNGkmG2eQ4hYcHgeX/7Ze1Xxh5hhz10tfZUX3eYQiri5wxAqjA//+7RAwAAH+UPP+eJq6FbIah88rV0MSRc956lNoY8vJ3j2tbQFQrER00gGwihsolCaPiY0SWtf2qhGPiSht6////f/shp5ARi0VJFIDD///qtyM2J///6v7BYW9YCoBMwZr6kRHkOJW9GIL/9sj2y+Y3QMEnp/Uk2tT/qYrTU5RGsJiG6PgwwXYnJJPlIlykHEFYPc4ZEmS7Kr/qMTcuLemt////6l/9z6i65obJ0f//////+pGo6Av///00r/FiAUaaqWRWiSSSLFgLeL1DR+NyEK5jcVbQcZQ02djd0uvv2YSsqc84SgJwUEY8HgkkqZwtCycVGADQzAqgPBdOaajr9UOtRzv//5z/+cv56OaRQEe/9vzv3Emnr///R/1//////////////////////////////////////////////////////////////////////////////////////////////////////////////////////////////////////////////////////////////////////////////////////////////////ir1VW6IsbaYYY6DrF6XEsCsOBXMapYYU8TmVIyd2trS3/9Gkt0UCSHoCzBYnyUEYL7q1kiOUfw5ongT4bhLQTglk9v6jElVG2XlP///+r/1pLNK1mL3///////+qo+KPF3LIySNuSWJQWkYaLT5eUq4MKncHiJuS+v7Znd/+LH3tftnZE7S2KJNJoKRiUNBr/+7RAwAAHg0PM+eJS6F5L2b89rW0MRQsv55lLoawvZfz3qbWtqPBUGw+IxueQiBCyiHfNzkRSdkdvU5V/VnX9av/sarFI0DHhLcnU02if+ba18imgEaKuXVEkkccseE1ICn1eWFK6ZVXO4QpmzOZ3skPWq3+c5U6Xv8U+NYgfGOuHT6VjfDdZFeUEQJ5c3niceAyF8TCLYQxS6HfRVzkap/66f/psezNTZTDKHuURKG33qlGTmbPT/Xr/Sh1C6igDZ0qXVmltt1ulIWL85zHNNHw/4ThLt5dU5/id3YowStv4wgabP9yCHIdj0Vc7jyH1MLgYziCmMvXav70In2q3IsnXb37/85ESQ+wgKddX4fuTyxA28f//////////////////////////////////////////////////////////////////////////////////////////////////////////////////////////////////////////////////////////////////////////////////////////////////////////////////////////////////////////////4GrJUsqrLbLbarRcwmzTSxzo++PCdPcwLiCRtJL8cIA0qvRREJWt9IAQFEEyISII1GwqOTUTiOeynMXFpNDfr1pSh5l/16zD9G3ZbfTt0pMX1JoTQRAcDo3CiNq02ub7yAfKASmtU6q1ut21r1p7CoVKgZk7hv//+7RAwAAIS0hNeeYraGLJaZ89B20KnGk57CXpIWwlp32XibTzhfS20QgbASthV9dMIYU8PFbQJrRq7xr/4bkJi13mzmEEnZYFygKiE58WC4wvqpS5D3dHvlCYyg0FNUoHv//WIwJjXKdme7a/658VgkJ68gtKbYvf5zc1cx0wnWnHjnj/UdaCQGW+apvSa09bfP/xDm1rPb99AYhX6kKwUTZP99NPMnvvo7OiPvv//bsjHV/cquymAkr9//VaKCQlOTyWuSONuIsJkGgI8Qce6Dxre885fTzbsSqvapIxDDos7GRjXzbd+6eLHEM6f7P5oye2mvGs2f/7MvBx0Xd7mqHEuaB8QtHuM6UVXoqEizR+0mkzET8W0XoDlzegf//////////////////////////////////////////////////////////////////////////////////////////////////////////////////////////////////////////////////////////////////////////////////////////////////////////////////////////////5KclksckcbcRYNUGgH8T8SE88a3e++/rwI6T1xKxKIgoAt2XA79Nar8uxqWb/Leufz9c1hln+GXXCofwoIMKFs9m/mTsz6F9n8j2etm+lf3oatUV39dkUGj+3/T+l+v8lBlBQCm640m4224chHGWO0gtkFhrUWM1Qeg//+7RAwAAILSFRafkyXGLr6i0/Am3LEEVBp7cm8WwlKLT6Cbapn7lTPJUJQpxO9Ldcx3neFxxWcM61Aq+XAAsdajY11VOlSzrhRmYQpjC25SzgsTexJtQIOCApZtCEMnTrV2NKECSnK5G5I62oPgREcYS0nNz7xr0+sQ3Mg8gGjJB8oyxKsDewASUPiLxDTRZ46X2rqUgh7aJqaL7es6mRnf/Rzyuqb2WqJ6asv/v/93fTo/7BBBHf8XRvOIjQaWskpvNJJuONqBag6wWwC8TJMLX18+FRzwh5MgKpeqPXBcDTB+nVHj7zgzIurfFYLSogtESEMlSg4+Fe9ymiCSUPUPWJmsdcaIpsrvW84lFbPO/SyjY+F0MGf/////////////////////////////////////////////////////////////////////////////////////////////////////////////////////////////////////////////////////////////////////////////////////////////////////////////////////////////////////////////////////////+SU5Ukm3HE1Azg0wWwCkUR7Jb/3q+hZk+MsA7RUjhqVCgILg3VG+dK7pnAugfKiVS013Wgjp1P1VvS9Kf7+y7JK2Qn9E/0rQxqf+T1L6YUGDf8oLu7aIUIhcuAnNmm03JG1GAUZeCcjLP5g/3/+7RAwAAIoRRQ6e95zFoJKh0+RW2KUF1Fp75pMWwk6TT5CbY5PG27r7VgggJovJhxC2K8AsQUePxcUtIcA+T6ndJTvrMnN29wGiBem+Fj8T71EYBehxzD+TbY6z9QAD/6qvpoUSpNm3G5ZHHFIDrF4ISYamXGMacqQfFploEmAxYT6SpgOwcsDfgbeFiHINC+Uh0Bkcrqd61+c0612Wv5Wtp6f677+21ehz/qru5aL0ZD9kUjL99BR5qT+7/6k0gFMDttpyRtqK8Sx2hBhFIrjT/+FDYMbXUQHqRs/ESXQuoXoF0QNAfF0kokdEjZ3jH/jhpoXV4zAiNf79hcRPs7z3u6jf8Rgb7Lne7SLf/////////////////////////////////////////////////////////////////////////////////////////////////////////////////////////////////////////////////////////////////////////////////////////////////////////////////////////////////////////////////////////////////////////////////////glzdttOWNtRXiWMEIMdmmim/E3I/bMddJwWcbJoNZuGyCxCOgZikjUuukKQ5kjS4ONSFgwUeOd3I9rvnG6codrWxJJ35BJzqLJr/XVd7CABbfaSTYjTUF1QRXn0J/HRsL6/P/+7RAwAAI6xbR6e96TE8Cej097zmKfNlDp7FLcW2bKPz3nW7LfrKY8SAdAvuFQT0Erhja8+tLYekRCKwaieSKexx+//+16ut//+qv/+hqFU9cqNAN0kKBXmtIYDn5e1yEW3tFRETR4MzNySNNUFyawqyIJ/Os23pvVz7bd8tzxRA5SZyWXC5O5TDphNelMbp1D9EYiKgciNQ808XsazN2/99KbZn/q3/+7E4Wdh3FnrtSj1BIWt/WIXkisoviwLACM0CEQzcgkYdelZjjQ2ABKH6yw1/1aSZ+ISWMo5CFHipEeSxrO9G4pEUzerYxbhwjSEfJYSdNPqJJw3i///+vRfY52/9G0+zZ5g8EoEgFoprp////TXX9Dq//Wd9+bR5zsctSn//////////////////////////////////////////////////////////////////////////////////////////////////////////////////////////////////////////////////////////////////////////////////////////////////////////////////////+JmiRCIiSQWsSFmC8JMSsB0JnS1PDjLarZlqAzOQDBiWANCxktnrTDiEXwOiUEoCiFABeCCB4VTkIBVJ7t//a7sjJr0XfSerVZF/oehwoH0p//3bL17FWf+Kg2JGirDIqS0WMSwQaooCmEPcGbD3Ov3cklcKWIhxbhZz/+7RAwAAIL1/R+w87bFrG+l89iluLyN1L571LcXOvqXz2FbaGlq0Kltmaq1gzQsikKMaEwuBeAeOJRFnl0Vv/7stDfZHVnX+hIf/+c49EKPh4NHf/0HSOiSVGP1LRkk0KqCokaKEMqJJLYxK9BqigJsJmsvsPc/3ctU3E5CPiMZiKbCc2yiBxQ7hNOKny9u9VDVpaRo87pmrf7qt7NrR2b9ZnO7/9WCgkQMFxdev///8tW2pbdf+v6P/s1FKwkqARI0aFREbgjQcD4G6YOjOWsXf6f5sVrH40sNRKtSr7dYSUyaff+X08mxqXsOKLwChcpVaDrF7M3//vShhjdm+hg4px36Hn80dCEHIVF7P/8n7KGr9dsAr47///////////////////////////////////////////////////////////////////////////////////////////////////////////////////////////////////////////////////////////////////////////////////////////////////////////////////////8lSAWSNsRoSAyBXTBinsfcZ+o4n//tauZKJ9T7JcV5lZkVxDHVIsXqTj4mc/qLJ3//t31mTz3PPX2niLBWW/+iHFChxMLRdHN/+cNCwWF2BgLPUk2abJJcuu9LSpKksskclbbcBwDzFmVQ4ibIUqk8wstv/uFCiVfLShIYoFO8bsltISy5//+7RAwAAH1DZQ+fg63FwnCh096luL9NtBp7zrcZccp7T3lW6bj4LwWCobDzTjVOq+repyr/97uccn5QRgfG+qrVWY00fHQWioMg+FHEKL+8zclGSG+dqo+jpBLckjacjaThGCvB9HkZRekctIcpWXGcf2hVgrqO9TShfYqqS2iGuOtfSnAgcEkVTKYhx4kQmb/rbfe9KG70RwGLqpcyla52I5RNhUUIDQFb1K8REWoFiDIjILA+8QDqQGeGsVOgEpyb6SySyNuA+gmjOQ4wDiafXuXjRN1tC34XuxxitVJh0w5SMEGehoigEiSzEhtY/2tZ1ts+nVaPWyW0XU9m+2inmGHESQxHtMsYSrQzoxKxc22hZ18m02Io4qZYmTR////////////////////////////////////////////////////////////////////////////////////////////////////////////////////////////////////////////////////////////////////////////////////////////////4ScuskckbbbE+GcT4cSYUTNlDdO+19lLaIhUaIYB4lZJyAVAMKPFJlMUiVkaaakqhMRGgoqz/9eiq1ddPRX3Fn9SkPkQQQ5RMOnBxVhAYDDIhgLRgFPdxig1+yge+12/t7L/dH53/+9/1wFy36SOSNttoYFcY06pSzy6qWG2dGQJx8oT2gSCIEmRGUfMhHbhFn/+7RAwAAHeTdP6e863GnnSd09JV3MOOc5p6SreYUmJzT0ibYQCIuMFSCg1HMVXJlWnb2Tvqv221NdPLUjopWLU44zmUcQhN6T9nmYUqoQI99uHteIkqDuf53PO1/2nBcllkjkjbbZ0BXFNdlWpIbNptc//epVFabRkkOxK0XBEI+H8E10k6h/kZ343Jv8lOa6+ldO7spb1rsjQQYUhwEDBqAkDClc07us+k8jpuhbVehtlBAwLjCZw0cpSOTdYykp23aSOSNpNiPArk0sqByO3rlybITT8xhuLK6BCLICnUkrKOZFscAYGQomJCpFFhQqu7nXbTSRLJTr6WfeJOnYEkKHh5go1Um9vvoUk8YPkRcQsFwAZYfpHi1LzynVin///////////////////////////////////////////////////////////////////////////////////////////////////////////////////////////////////////////////////////////////////////////////////////////////////////////////////////////5TsuskckbSbHMCuQDQpISZo2s0j5tvQdViohC5giAEVXRhYKDnp3o/Z7ZIUpi+LhldyPu96Jt7vl7pu96dnfqu5ZS3u5kf/s5t1/HzFMhyvvKYcoqGh7rH7ZZRVRICNZq3Vmt22t1JmW8fsN35ISrYsODb5LkkxaMePGw//+7RAwAAIIS1N6ekq3F0p+b09Am2L4Rst56RNoW2JpbzzGOUP0xSJSMay8XpK0vmf55VHH3q1XdkNM6mroz3uRp7lohdHT7o7PoqoTKe/fXZt6Ig4VsQdATSy2hYo9ynLi1VyANXi7dVa7ba3YoS/jhXZlYYlMLSBjic45xxlk0jQ7JubyiLzjXCwAMdB3n7hTb/1nkLw/t+771vNSrLv9+lwRtI179/9tb00ZmwfKEDtRPZUydBt+yk1+3O+/4AVVKiXRVtutttLERxOi+Gmlq9+qmRye1i4iQr0KMejOGV/ieLkpy0Zk4sBAsYLHbWTIuGEOV6lkFPrQEDomW4SAUYswsbtgzY9Is6F1FVsQhJUcBdLXZ8FZtH////////////////////////////////////////////////////////////////////////////////////////////////////////////////////////////////////////////////////////////////////////////////////////////////////////////////////////////////////////////////////////izzU06q1221ty6I4bw+EPQZy2upojt49rjUKPxdzXugU6LLk6JGMMnFEhE9o9LWvOECZYXMrkDMaRmyBd1rxUDrUXI0bVNrDb1KqW/NuahmU3nlPIj5EUdavYVm232u2RI8GvZBk9TyBogJ3/+7RAwAAIoxVK+e8xyFaiiW894zkK2Ecv56WG4WkJJbzzPN0kSt6xL4ck9basP2/M7PhE4uDg5JEIBeeQ9DhwQF0xEQW++42wOUu0y7qQ80SFSpYc1hFAnKEGrVaTy5BbvsFbHEgR4qadVbbba247yaNsElRlIyOCUEHpJZ6VSOO2HnGq2rb1vvEG8QGY+XVKFyAflbtOzqPv83fYnF/fmtf9T06P78pta/db91/4vih/Bb9u97Vvr/9phuh1BkMCR5eGM0bkbbbLcPx9c7j6PVnUGqhtY25MdrrBUKJlkCkelUxSBdXh8B7RKO/p+rP7+v9znf99c0r1+N03y2YT3GWE35u6cyIwdNCc0cyZdEiYvbCJRpSa/q6E////////////////////////////////////////////////////////////////////////////////////////////////////////////////////////////////////////////////////////////////////////////////////////////////////////////////////////////////////////////////////////gbRcy6q1u11toxlQzTnceB+q5IbMMFkqp6y5I0O8ZVtd7rzpJQaJiwhYWDBggJuLHaV3i8mNUGmliJcOURAl4tmTjXisqZIpPh9UwLDbjBh4+5Op6982QBBaGZCI6uqo4SxjlV/ybzCIi2H/+7RAwAAIqRNI+ewZyleiWV89JjkKxEcfx6TG4WOb5XzxiW2EcFn/84G2tam95jtKAOjQguoJJeQkC6hOKaJVUwo3URoxwlQJSooqLrYKossQJCOStYs4o+RNkEDVK2vR///////UJpE1TKq23bW3C8UbLrcE5mVPQHzwgFwyHQgZp0r+p2iXKJtR9FgmKR0Zstbu5+T5rFXbQjzNWupJ8iLZRl30ovbt4pEppQ352WJaJuW8Va1GCpitXbX+bewEUpVzQzTcTSbeDfEyT5YUtnLAyVcMNVbQxK557XPv12wlvbl8Mbh8mti++302darWhKzLf2dJFW2StX762b0R2dXYi7TBXCyEAEEx4LM1snBQ9MGSAlf///9X//////////////////////////////////////////////////////////////////////////////////////////////////////////////////////////////////////////////////////////////////////////////////////////////////////////////////////////////////////////////////////////////////+BNERCoyySyNuDpL+tPyWo5FrIgXswnK05pIrKv/dpwGLPCryaWGACnLFJt5V0wdYAovFKX0NWSHA2ScbHdJdAo80bcS2xeBC1lk4RJoQ5oBVpFWhYhjNP/68/RDheK0+FSLj/+7RAwAAI6UrIeeMTaFHiOS89IzcLQCshx7BkoUsE5Pz0iJTKAtMHqhAAQjLjGzJN6DxEMjHrWSERxdUdgFwYeJFBUSurnJp7i62AQ0PatdmSvvYQEDCIsIQmNeXWH0nXwNEDL1IOBUIf///rEzlohUVZJbZJBayFTVhaA0FICYkaFAAJhnCoGrWEB7weDMSs0uBCcNayYCg4HRwiVHqtISNbnpmw+NUYB1ZVKlqFro4ypY7gBczfeUsWFRQWeFgTJ3hkMzbcbSbVYyiHturrlP6KHEA9G4azohubRugYGPyGbbaUt37++8bTtO92m307/E/9Z3+132qU/X9b7zTHF4uOgMdoeZwuhCf9HvnOehlAO8JM/////////////////////////////////////////////////////////////////////////////////////////////////////////////////////////////////////////////////////////////////////////////////////////////////////////////////////////////////////////////////////////////////////////////////4IdTcKirbLJJITZMEPg+7KfoWAFjBbPhb6VO2rMruwIDHC10ajHGRx9iaoY+1bFGKgIi8+ZKm1xYA2JhUeTD5Fg1SzM4bAqXrMsK64svEgc2lSJqv/jiK0kh/GQhZz/+7RAwAAJERJIeeYRuk7CST88wjcLMEcZh6RmwUWEI7D0mJTJ0TlE0LCqBKcqRplLGbLbFHgNyAOuqfrSbsGJir125o4Iyi4AkzhwoMY588J6xrxxSkupDksW17NndFR+LafZs/W3fpp7O37KvUIbfpE2plYpzxF4zU2DTIjWJ2BCGGNIKSdeZe5lh0gwWaXcbcwabG6s/e7HobtUbvFw0aSsrSfYGUawmhanoTB8XWm+Hz5VDnki6yCv///7/6QIeexptSqpyDdHavejelF+z10ERcpEdTFSz7oRKLbP0urhQ7kd7Mr+t9Pnbq9a195OevsrqV3QeJwmIAsFUgEVQCjxceJiplpPHBoEGAAShjy5yld/7u3K/qvoX/////////////////////////////////////////////////////////////////////////////////////////////////////////////////////////////////////////////////////////////////////////////////////////////////////////////////////////////////////////////////////////////////+Wl/7JG3G0kxchuj5YqSVAZONMAFgIEHFgiKLZaw6SJRQSlxEFhK8SKWDYbngOVWeg/QlZEohb6xMSKqHGwGFjkKDNBBJgwviioXFmJeVtFTyYoJiETf///rFDmqh3VpbZJJD/+7RAwAAI6TjG4eUS2FlhGQ09AyUJ4CMp56RkoVmEY/j0jJR0QRjW3EB4BD5VGy4CEEsecKGFNPtKUjhwfkSVd4usX6KH7icUPNWTFCwwUKIQLkXMKGTTqwdKgJJQ6pSkz70yLO970sjyEWiGVEOrpaDrN0k1txAcESgXNmQpMJgUGxtI44ldow5cD41bnjaSazYUSL1BWfaQbL2GnirgiC4cUND0XbTqESjrRcLrCRUGnEUF0pmFQ2tYZ3f//9IVdod1VEv7ahbyVC8YFySZoWFpmbHoELEHNNV6pWsl2aqvbtuQzN0Za05t17Kin3ZrEf1dfbW21Fcs5z2AVkHezQ7vZN6o8+2aHuN0ll8FO2ks/d3m8z////////////////////////////////////////////////////////////////////////////////////////////////////////////////////////////////////////////////////////////////////////////////////////////////////////////////////////////////////////////////////////////ERaHZVRO+6oWIlUTWdoRFVy28c41oIdkaq9z5nnF//M5f4aTOr9WS7qn7btp9FLX6M1SKz8rqZUOhqNPQodp2TBup5vVO9tV2tX36k1Z7Hu9zi6v///+gTMJq6d31ttkkB+TRTPnny6RdMmhP/+7RAwAAInD3IceIS6leLuQ48Ym0J6Pkr6BRLoYadIzjxiXBgUSUjSqqsd/o2n73VWtVaehq2srb0dSU2Lts9Gk6t6I3Mbah2yigM5Z9TA50ti4BLqrvaRQjMsRiiANHSFNCNlq+Hybw9aPQLMe9l3HhMSUDMO9Wa8M/Lp37lbsTdP3p9NWtK7bKmWqttT0rXrzkZkZ4wOAZIXEj3FCoLnAmttFL41qkqueWtlnrMrGdqLSjn9mqwciprmdy1N9YTaJiWVF76aiAF1IE/L42qVRp2XKvAMehxEck7aGWsqevV18xCEekq1/svVXurN/erybf692tOhSGDlVghYABZgsm0mx7BVai0uEHAvQHyMUOC4NiCb////p/////////////////////////////////////////////////////////////////////////////////////////////////////////////////////////////////////////////////////////////////////////////////////////////////////////////////////////////////////////////////////////////////////xNXd2g1T7tVF4TEYDOYEE/VWyzE6B3JvKDNceWs9EtLXdaVegYVu2l1EyWce9dymNFOaXLF2mQTdhBwuaBcKhIaQKOqHkKWS9TV6MQOHIb////SIlMxUQ72SSJtikq1x1vnX/+7RAwAAI7D3I8eUS6FLjGQ48wkkKkTcp54jtoVuf5DjyiXQ2qfTVM9ZLCjlY1jEs9jtsj5dn53Sbr9XuYiJ1/Nd9Xfov/6dJ9Y+QPKnEHPFYSnpdGdGde/qletXIuSSRw+yt5I4xi9AmDPDsjpd0qjtNEdLhvmlHXLA7fgJdylaV7FWyd7bvy21RqVeyarWi016rZVvba1Ol33R+t7qirUzzC7gjLKoQfFCheTLiVxNjCAdI7V2H24yj9H//kKQEOrqYdm8tsbkKSQrt36aZFUuLKeWJDBKek96KmW9Kt7Vs5mJu/zXqh3TSzt2/2/1dqfRdR0w3eewgEbKNfr9DqqiUN6iM6ImqEzDzRoN6gqpbFtVR//////////////////////////////////////////////////////////////////////////////////////////////////////////////////////////////////////////////////////////////////////////////////////////////////////////////////////////////////////////////////////////////////////////4mZ1MvDvZLK24DYKhScz/gJNhdUKwNhcwyKKFUrn3LK2BE5bGNLC1u9yCbnnWYuBxqGLKguZcwVQVHuByCJtK3vka0riKQaZYpMKlBxdT////0AAajKL6/+CSiXBOEfJzF0lf/+7RAwAAI51TK+eI7aFJBCU80wyULeU0dhojtgUOEZDjzDJSUS0jujomiX2Zl+XRXZltt1d9uzful59vv6pOv13a7nFFU6hZjgKMcPXsZs1/b7Ouw/roeYzlXIiyV4Fj6q//6+wMruEDX/TGs/9YiIu0K6J9+rEhRRJJte+KAwyIpVB5AE4dcQVS+q6lkigSz6mCikCzbiDVLYfETiyYrjHM6FLAAXKIBYqcaki4WHE8fEcXdD6FH1dzv//6BeHQTKYuGdlbcbSTEyWyQwNbVh/K6jiyPazugx3MjKqaN0+i2r311300n+9qH+tNaent/d6Oh5iPMQTHsB4c85dKszdn7Z9eptuj0mIaz1f3QxVH0pp///+P///////////////////////////////////////////////////////////////////////////////////////////////////////////////////////////////////////////////////////////////////////////////////////////////////////////////////////////////////////////////////////////////////////xIYh2ZkVtRMlIWI8yQtmMBQUHDJigEI45A2RGoGW1ontDgwkmL1HnLHc4HjLXyZdBnqfatM6pxtSyKRRMqFn0tBS82oVGEBTciTzG3+r/71vWJlERDqp3/3YtZbRfP7WS13zP/+7RAwAAI5ltJeeI7aFFhCQ89IiUL3W8jx4itoTsEJTz2GJRAY39n5hyuro/5MxH/Z5NFZ2993e7K2ro9H+27rS2/9tFNa8pHIJGVBELBQQhGazsUrM/9JCOV70WvR5ynI5WlvSxkERUwgVIn////kQI6qaeHeWWVyQp2FVQ92FxieHVDsTZIwNCQ8eIg5sOGn3LE7fSGWJovqep07QkwyKr7wggiQYKn0B2cDSnnKxckPPrYbHLGSFShipmJSigEbfVtLTqpJCwFJr0SrEstd1c7vMIqO7+ZfvllfKzLykZqX31ZXZaoft9Ho55XU7OlWdZ3ozpM9LqyrbGkh0BxXSrq6sxblR5HkaZ0KhmMqsryxC1z1VyMzHSNASjbv/6f+p7Xfq/////////////////////////////////////////////////////////////////////////////////////////////////////////////////////////////////////////////////////////////////////////////////////////////////////////////////////////////////////////////////////////////////xMni3hUX/urHoLAVmL0AkkJbRoA0AWHEIVAz1sTH4GDaYTAj7qahWQVSVI8OeVcAHuwy0VFGFkvuOOVWUUVYFDuywMIfD8AjLQmsiECxv/a3V01M47Bxy/Ur/+7RAwAAJNFtHYeMraEyBGR49IyUK7Pkfh5SrqUWiJXzxiXSFq1Pv5wGYROORFU9JEYtsnR6/U5Z9tkKu12RbXvO+qM1KvZtVqrLREqnPZldCFKYHHD5GLP1fs36rc3ND+ZWZoY6X1PNarJ9q5IJolVUuz23Wy2jMTiPlxX9ZY3KMECgYMzm9kK305I+dz/N9D0RPtMtGd/VHp6m+qVVUZ7WVn22WrurOjJQZlodLu5RlQ21BR71iKSvnghOaGDASOLiZdEkkkbkGeq1ZuTaaZYKlesIYCDiXzrHn31h1ZwoX6akhZ0m7H1RGOkh719WyrdkfT71q1HznPU6I5XRHUV19N/kYXvTe3e9hlZesv3Ce9+FG+LOX41//////////////////////////////////////////////////////////////////////////////////////////////////////////////////////////////////////////////////////////////////////////////////////////////////////////////////////////////////////////////////////////////////////////////4msJVu7vdtbbcM1nUGI0cgBn8ygAzimOICE21Cj5E2msiUaFQdCZVIwWa55hJTSw9z7qENpSm7wiosUFXCIttSsH0AMWAtN6ABSxaGtpYHxM3rIZlWS2WSQWtvb/+7RAwAAJIz1JeeMq6k9hGV89JiUKtPUn55RroUoEZHzzjJUfLz/qt1ZHoQDjMJK7qjVQiXfb1S1npoLMWVzfy8/RLT/nmZnucYvOHKh0y+EeXDhThXu/4N4qDzXznnwOdKwKXCYKciV6FJJzQKzBKsrO3I222VbGK61Gy7A8M4oMAJRB8ylpjCLu4+/+s+Idrcjry/TdbWzXad/u3/khPHlhcXmsfhMmSiXGki026vcmuk7y2L/z//1v/b8j+Cgga3WprTKpBFwU0kCKnFGkn4KcaayVYzRH+V3bJ12rfAgAx6X5IxY3SLCkYRGmJLzEuCKyLx0DPQ2HBORkgLjR4ofNAadafcBCZcEniFwVY0V///6sU//1f/////////////////////////////////////////////////////////////////////////////////////////////////////////////////////////////////////////////////////////////////////////////////////////////////////////////////////////////////////////////////////////////////////////////////////ok76ST/qqFeP4eVqRcca0lSQWra+WdyXdPcLBRL0AYUNBkMSLHroNOHtWXccXeLakB2bUVB0WKBd9Zd7RRgsBL2bQvIm1Qne3RLc0pxsm/axxtVLSjIFj/+7RAwAAJRRlG4eYSSE2iKPw9IjcJ+GMdh5SpIVeM4/jzCSSY3ELSLcuoAmDDJ40jHWy106Xqq672Adt2ipyFLDaQyhl7kJW25b1Gi2RfDjlVlNF6xUhNxZoYScc6WvADTwfeFzf///3LElhnlGRK+qof5GsUJgrz/Q9iagdlqGSXu5d/vMjsh/R+7PyoCQOrZpFjJRWlCwgxsdyCSbRAmZcxm9VznOlHuKhQ2D6gi83FBsUFFCcVdSggYb///9YCKXd1VUjkcbbFsiM+q7aTi6vo4hEWRCu50Pv2V3X/d6VmR37H+rM7IlK9EusuxijXrckHfPegVr/d+5qzvr5qfPuveKF89oMt0+3am2lf1+331///////////////////////////////////////////////////////////////////////////////////////////////////////////////////////////////////////////////////////////////////////////////////////////////////////////////////////////////////////////////////////////////////////////////////////////icTNQrK0tsskg3Kx8kxQ5FK9Xq8aEzJLmb+2szVqrl07Su+kEYo6ChKhlz5LONKXNC4tYggQZcQeimXYLTAGGh+ccN5QWaaLoMHBRrixatyLjAk8xMOypJL/+7RAwAAJOS1I+eUS2lIDST88wkkKfIUl55hJYTsEpHz0iJRI3ILik4HOk2lGlGVVAphJGJxe02U2du713RfqzWuV/o2rIwNKGkZIug6pRpu2ONO1padVWtJVRVgTKjiZMYJhxAqJxgTN7J+hiGiFywJ5iINmZtxttselMqi5ykkGxESiYhKAgiQUDBUGXJGEnhepIGSZFc6RoPqQZva3RmeQSFXDVoeB7YFaYQtNlIFKNAy1QyVQtIVsSuL996wSKHeIVkckcbbEwX1fnGz+UmlSAAIMbUJL0i5r1Vmo1WrzgwTVt7yL4a253et2GdB56NSc12RziSjbsufTZ3jbH9+0n9Wrd/EWvle7zPtr/s+t6///////////////////////////////////////////////////////////////////////////////////////////////////////////////////////////////////////////////////////////////////////////////////////////////////////////////////////////////////////////////////////////////////////////////////////////+KE8PCMqtxtpNjgTI+924OGgwQkETzRXDgbFTbgYYavbQISA8FA5SM3FES1rKijA0uWpHv0OZU9bFNW91yUjAgp54ODxQMtRUAVAwL7q6lCjDDu6obbjaTb/+7RAwAAJPRhI+eMSSk8BCQ89JiUKfCMh55hkqUSMZHzzCSQ3TYH8uS4Id+EBA4kBoFBuyEZ75911P/8q3kWr8cR3aeIc/5pfc397EWsO/2jW3Z95fXwHxHmO++2XOGup58b8vY/lLt0aU2YxmKE3mYhFRZJG22yrNgky5MBHMJ+uDcw4wxXLz5GNuIzWZGujV7bI4MThtJpalpLDmY68RY9tMTM1l3Pau9wmsBss8UqJpFyqFNF4SxlJpSbNMMAh2NuIKtVyrFyNqEc5wJxPNrTI4GcqzzPefcdrtV6L9U3VXBmPKqc1bRmTdiyn15lt76azg+O3iyJqact6hKKARrQgowBTajzELcGxO8FP4/+A0ufYgWY9pkWcyvXyDbXVPXSj//////////////////////////////////////////////////////////////////////////////////////////////////////////////////////////////////////////////////////////////////////////////////////////////////////////////////////////////////////////0HtA20tV/E9JcWjUb6EJxCll+KBvMNQjnynQrfVNdnfRVUUViSD1hsfFpOhpNrzutRAHRQtth2FuJT6EOijhdynnhBFwXioaAamaZp4RB0WPE9erTf+xkWsctvZ/3u2dAqLvKqhmUqkSkXUqT/+7RAwAAInhlFYeYSQGAjOLw8okgLFUUd54hNoT4W4/TyiWxX39OhKOgKthbppsC3scqkVHLuXvvfV+DXf3OhSLSt5qkrsllVq9nP2R1TSTf7/6Jp1Q63o+rboyO8qstkcPcTr5Bguwigo//9H/15Mla76txuJpJAtzPYbxKp1Lsjvb4JKjB1nJR0vpejaVzbEurS1RdzbuTvvV72S6M8jKg7JN6yokGtIsShyKAMgk4etHUIaDyyBWANlNNBFREy0TWyNdTSeFdKo4DAR5zM/7fFOFiYgUoq5Xqt3Sy75ETb63bfoxrGPXLO/8mjMs+2z7sVIIwUBU0fcqhi0MAC3oGAE494UF0jSRMofIvLCi4HJrIhBAYOf///ev//////////////////////////////////////////////////////////////////////////////////////////////////////////////////////////////////////////////////////////////////////////////////////////////////////////////////////////////////////////////////////////////////////////xNIyIhmW3a2W0ax+yRJLgM2QicqyEW+UuN4ImfFde2/X7GQIoz8P5ZnOX1Pvoh1q60v+O1W7FEO/nyIGVxClQy6ZHtZ7Sv1P53k50HW8vhd/muGYdFWeZZEI++n/+7RAwAAJIjRHYeUS2FSBOU89JiVKrGcdx4xJITYMZDixiSRpcEaG+hp0pNDVSsPBhhQCO4p5LtttanVqcjWYhIQfeVWGmklDSVLUoUQL1tS+5zBiGOrtLGF4rgzSXSkOmwEsBTtViSka57TB5////dWAk4S7qif/14AwqJ800RRp8ACgAsMcsqFlU1sU3/nV7gjU6qkk4KIXUgg6n3PXYkqbfpQzFYRaRpCgklWTwUCokBYUMuYhYqMFEjRZykAQaGZzQyWqVSSEghbZDPOhgSwNNDZNZUuchskZQ66fJAAEiYuETD0rdqLKSkJtJrSlpMukgKmlMYXcdhmF1sFxYebF4USKOZiutzGmVUPzROW//2/5jR/////////////////////////////////////////////////////////////////////////////////////////////////////////////////////////////////////////////////////////////////////////////////////////////////////////////////////////////////////////////////////////////////////gRPEM8MskjjbZSIZi/y/TS/UCDiBI4ZkiG5VEI9Lb1TTXYoJ7lD3Ni7G1jdCJoYK5wkmbAY2BHqeF7xiGgUqmxJ4g9y6XsFBUyg6SvaYPPwsAJbZElZQU+SrKzVLpmIyq165OFKv/+7RAwAAI0wlG8ekxKFDDGR88YkkL8UEZh4hNoUSMY3DzCSSIKTc3KjrNrv7s5lm3RiKz5EuzK7dken1pr3+hnVnt90dEn6Frrz01eiGRKG0buiosSMKJFUZE9a5RY6+vqdvvR/6VNvkWq6f1t0kiC6xSapVFtKMbVqbXaz+DHGnM0+MzXbCPSt7/vM1zBEtvXU1zkm2YOPFk10qAoS3FhUQNUxxNZtK3AWJ7XOQHAza2skdLB9sVrUbz7v///lwIT2yprSqqMISMOPbSOiPmlMFPpGy/lPf/6vRUsu+rIyFBEV65cs1LVCZbjySCFuzy0i5+mUWKPE469ilzu44BlZIQ5exdw4SXkUnWiD//6t3d6f9ifX/////////////////////////////////////////////////////////////////////////////////////////////////////////////////////////////////////////////////////////////////////////////////////////////////////////////////////////////////////////////////////////////////////////+VqdbZKu1pwFxG/cm6EIUlN8O6cIhcJjBEYIqo6nXlgnDB57rQJamrUBktMMSBamPU9iqWtc6hKGpDJIBshlgdWPIrLg2Fwi1ZV4bBUqZBcBW////QC9Ja2nzeD4HFDJ64hD/+7RAwAAI7xjG4eYSSFTA+Ow95hUKvCMZZ6TEoU4EY/D0mJQECB0j3wEXgsCKjLz9SR5B8xIAMacbrSptCACqoU+B9nnFUHKpRJcXTHh14MIA8EgoLngODKlqYxVl6knXaP/Vf+lRPR2dCP6C7trq7V9VE2JgJlHJ68BAyNVp4MpuiBRMdMiIJLch2dCscMxros1rZdY+yzFT62CAFWsLLS4WMljKRoIF37SK0ogBKWk8LgIokqBxtaEbXv///+om732139KpDDcKSxuH8hTjIpRAcdZCJv02M/z+d6ZFnDTm5PRFFRjrlIWsolwGaH+wtS9FbELlcssarNQnI8ufrWdWWcaUFep2l/////p///o///////////////////////////////////////////////////////////////////////////////////////////////////////////////////////////////////////////////////////////////////////////////////////////////////////////////////////////////////////////////////////////////////////////wHKrYnNV/FYXQrIx2KY5lbZXlLLoDaDmnW1vmVm7X7uRW2BsO2hrmjr2NFxdlLGsMoEzgvMnCqqz2yxyEuuHvmVhslFnYgG2n1nkRVqz0n0/d/+hAs71burvQoLf/y6NyNpNlMac//+7RAwAAIzhnHYeYaSFsDSLw8wkgKlGUhp4xJKUqEJHz2DJVi7Gcct2eQCCDCQRC7Wyq0tUdf/Z2LQOBlW/6ee/m3nf5nr8th/uN/tvRK3/834xWX+5T9MSnrmgOT1H0VOHr4icgZifi7a68kgmzvDwqM5JG22Q4ndrFUfwsUl+i90UowmJ3WvLOtdxnOZq+O+n1IjmPd++3739fb8KKeflhvg15K13PsiVv9Ez2M+2h1VVSQO+np/Vtccr7/548SeWmFVFbkbbbIhnYqKc8Fcq1+oIHhUFGKkj59De2z9ct1hDtckeKlJVjH9TFUIkTrFLLpCaAIfVfamOw8fdY2kOvC0vJBFenDD1pVKf/////////////////////////////////////////////////////////////////////////////////////////////////////////////////////////////////////////////////////////////////////////////////////////////////////////////////////////////////////////////////////////////////////////////////////////////+Tf9rm2qlYdKvgUM1GgEJxCePQEiS4CcPAUMCqmJJyzSgUJrFHtmtokIH3YjWTcsIniMWOGOScvkWvc/GoYfVKstOOWkzUAhZ7nqM1kjjf///1ha22uLqVVTxREP/+7RAwAAJHxjI+eUSSFIBOOw9IyUKgGMbh4xJIUeMpDzxiSReltL+lYWXQUPQYAEXZCy3Rdm7brRr6AiyjnINwsl6FLJroVnVRVW8WtvilCh5Uy5Y3YMqOiVZUYBHqZOFWMd0nybf///+///61irNLOzIjcjaTYxi7CkqFEnyqVpYiAKiwKird284ia7O+tu6LDhXEChEnVzlCnKY2Oo/ZKTSzkrm3nxdImGg6xQXDwoHohQDlpUIC0gKGwKInDQSeGl1VTv/qh4HtWM3E7OPdFeHAghvTc9/I9ny6a+xVhwMosOjJIymxtDmHV2KaSFQopaShtJgm9siA51YVQplR4ywQMMGzrL5wkEnJU+iXAUkIv///1////////////////////////////////////////////////////////////////////////////////////////////////////////////////////////////////////////////////////////////////////////////////////////////////////////////////////////////////////////////////////////////////////////////////////////////k7battqpaLAPa1jcLeDY8KEZKoAKsHaLxG+GUoLDWCY8hJewnfSDqAqgOnD84JWppKUMltKnElZB8tHJhxTRV9pV4aGEBV+LaDMgTe7//5z9QkzzL/+7RAwAAJXRlH8eMSSFFBGOw9IyUJtGEh55hJIUWS5DjzCSzsym242k2OItr65q6RqIamoHPJlEe5zY/zZ8ld16/SFPB5CV2rBBESuYeG++H5OorVacS62X2t3BVMIGHzIBcIzpom0UXL0zZsMLESiJZlVL/64XIlMmdadJ5dKQBD0WN095z5Pb/dve3f30MCdtX07K3KrujqOlhwywqUcsjeOlIvfmpMlvCpWJQiJDomFwGNETw4sQv7Nz2JrDQz7b2tPTLRdylJ+T8yiwoKPIrXzfaE5ikK2FURPvfv2594XUn3+lLfTohaX1ROvZGpO6Ju9ui70rQlv+ZKqVKImpyUdClO9EOyhZxc6VbCLQWIEG////s93+r//////////////////////////////////////////////////////////////////////////////////////////////////////////////////////////////////////////////////////////////////////////////////////////////////////////////////////////////////////////////////////////////////////////////xdBtXW1UrF1QBPxZ3I2kvP+FK07MbfuO74jZ000702uEFLJJVY5jiLRtwCSQdt6DbDIdXFZhoSLpawjvpTe8Y9LR4wauRDACTQLEBJ////UzrBW+99ffdUWp+P/+7RAwAAJKFJHYeMTaFGDGOw8wkkKSB0fh6TCoUwEY7j0iJTr5MGAqOzQHyTE4neCSTJk/G1oVWUFTLaRZ5w0UF61SCRA0CCpyLMbam90BLrNicaMcwlIvTJbwHHjxc6LRhutIcYWNLb///+oRaJh3NDq6WimJAzXUBbwgVEqFg1AwghQyYA7WsSlmbc9gkxy1xQNFAJacUEXj0HbIvZQFDYaoLarkmG2tSVi+hilFBYPGCtR1STCYaexJ7///6QjXbRudSipmldBnH6yAXIPm2Sg4YSo5MRpGigFc8wtQ1qViyX0pQmZOJ9gDbJ9lrWpzsXKguogYe12FAmIxhxlKBEfMj3Mq/uFl///7e5H//////////////////////////////////////////////////////////////////////////////////////////////////////////////////////////////////////////////////////////////////////////////////////////////////////////////////////////////////////////////////////////////////////////////////////////////+IkzxDIyNuNpNgEhK16gE4iFovYdQpBqgJAshqmrAkXNgUUvPDStCDITQqdQYlBIsQCR0ylKUs0Ldc1hJTApQUYlBuywwUOC0wjQgxAT1GE////1ib1LvDMsn/+7RAwAAJMQjG4ekZKFOBKQ8tIyUKXCUl56TEqT4EY/jEjJRjjcgvkPiSH6gRIBNhdzLOLgztI5qOmO9Vv9fXbX/Npyv/vn/+hFX801TRwraeTmt+/RX/qv/W/1tzn55kV6EHYkh412UPkn/i0aV1wBZpRVRT77qgHCGxAHIeBE6GSfEIEDqCBrQyhtzkktI8UYNQ/gMBgwu3HTEuYbD44pKpWcfA2kiMFRxQlHPBDDjmDFmzyyIsZHmHISXqrSsqPRxMCtdRLB6hruwKnRuVD84JBDkeCx4QJLvnV0oY2CS0IXYqOoHlxoieYvF0MyYkFkiMCipPXrKr0nhQhSQGPQhTyTdo9kV1CJEMRX9VkcZi60Sp5FSAbE4U6utD/s11f///////////////////////////////////////////////////////////////////////////////////////////////////////////////////////////////////////////////////////////////////////////////////////////////////////////////////////////////////////////////////////////////mfe+Vua5WHSaRJ3xPWYEwwKBIsUPoa6VlDAGrFnrXF11pDSKpaXYdN0UqyMZ51ky06pBWB6hUXL8xU8lAoh1uSg+ZCQwXvXEUDmVf///cLeknYb7xpOJJJE+GA7bjAX/+7RAwAAJCQfFYewwoFChKOw9JiULJSkfp4hNoUMEJDz0iJRRkNf7zWH8dhAdFdnaq3Z3o7Ns62oSVjfXJdLsq59NXWl1XtpyEqt+fd93XW9FtMl95LMrttY4ZCw+IVmQ4RWadUpzHOGzpX///9QqzO0OrIm62k2bw5B5rx2JccDLY+gSAwYgMEgkZacOVKZIJFEC4si21GeHHb6CTkt3NOtdaaclliV8+6PJhFgNBligdWk5Dp64N5FgBoUZUKghZ4hXdDv6qgRAbFRUDAUkmxrAciYQYqSVeTLX3u9SFOjq1XSSiVRV6m2XR3bZE/P/9G5TkKpW7TaMzArAOfCNpk9ZfNvGnS84keu3OiqnO////q////////////////////////////////////////////////////////////////////////////////////////////////////////////////////////////////////////////////////////////////////////////////////////////////////////////////////////////////////////////////////////////QsF8ia0qqQsWGLRyMRrVP9m0dhJJ7tq7pfY6enZZWMxzvojas2kzIqJ/v77vZfcT3ANw0ekeJj7lITFklREYEzBrGPEh+fY44O1OpHgqKlkf/r/+/+7V/1UCjyEwrOrkjjbYzENJPFM0/5kJ/hM8b/+7RAwAAIhD5H8YIS6FlmSNw8QlsKyUkl54hNoW+lZHzxCbRr4hUMY57JoX7N0atWZVzPf2Sqtmlba+vW7kbq6Ufda+iupF0RkO5J3may9dbuWiLrOEXZ1plBBdomSh0WVXQLCTTDOzK0bbabYZBcUfBPdMvTJXMaE7b4cgRVkeZ1dHv3ol6KrLbe+brSVErXJqadVa3RnT2RNmNcqat91GXnqutZd3Pdk0Z2DnCImLtGtaB3McSdpB446c///+smVzNoqyzIkqyU1UIONFxFysxH01IYyvk+8tytp5a/fJJnKZqfMvdaRZTO/TTrm6Je/t3e9r32R+7KORCp+1d6Mro60d3qjvOlCvQApLkt6sxa7uyt7t3+qL/av9pGXamqoruWsAag64so2tSaGITq///////////////////////////////////////////////////////////////////////////////////////////////////////////////////////////////////////////////////////////////////////////////////////////////////////////////////////////zNpbW20o220JqdItT00Euc6heuLqj7OGhEIxBaI92Vlqd3DN9D166WkuprvtW3fc3t6aFnv3XfZnWrfQp3Y2Hcg5a0rCr5kHK8PVWF69v937PPIQgQsrI2v0rdWoCawt1NFEgERCYVbtlhaj/+7RAwAAIpH1FYeMTcFbIyN08ImwLeU0dh4xNoVKgJHzxCXQsDNI+dh/b+ReRZXy1iWIfTKqLVpmuz329U5U/6P3oTQIF1lBsSxmNZFeX1/lqlXS1mqy2DAM8qkQsPW31/q/rX/c1a3E/6SF4aXZVWNttJKwr2uX5CD2gdUv20ALct0tpS1H/KldGZjHQ96sze6Fo176a3rsit2/Zlfvk7rU5Kao8GHggPUwJpMzgqO+LOYxFqFISob///9U6EkBRy6MoqzNKLE3ICuWc2jvjLPszvvlhcfNSPpQrLfyzmZ8skP/uZ5/c70P9dOurmmpfrS//QDDTZ1IMOxQc91MevyPa7G/b53IyOj6nvX2S/d611/1ojbH/8le5uqHRXIi0d/UQFipZNTj0roUfU88v///////////////////////////////////////////////////////////////////////////////////////////////////////////////////////////////////////////////////////////////////////////////////////////////////////////////////////////EVzsaKtVSXEnZA1Kqz6Rbm8VruE8zBcUyIzIZbq9U76NufLCe3v1dZNu0rvLb33q/ltRVRuznojsYjvjMmiMK7MiizJI/rojCgIIJrIF6G+p3q+/FXtFXwk5YFgkYH1XNR/1iAw7q7ElWyqT/+7RAwAAIon1F4eMrcGMoyLw8QmwKTPsfx5RLoUeEY/j0mJSY384vtPK9WMjqoEQhRcXaQz+T2m9HqlVRJl273re/+zb1Ve/dP/f1oZTkdUmCmBjDlGIF7Z+w4aMuIGLFijiK6+6mP///98UZpEBaIVmNqupUry/5hZ2BxsSEplDDASSEKGAOBIQXLdahNOD0zJIotKrUtrWvVEoxrRzCqKD4dSERIXJyIrcxgRQxymoeoQoaLpPcOeSd///tn0hKXa1FKzNJeyJI9+S5iU65Trg3RBgkExJkVTk96kIx70001MPTa/eystKtuv6Kl2zknu3t/6VVB1FOVDpUFo0UgxWYX1GDiWD01PH3ulEsfdepDsl/N7PFb3njQScxYbOcoPj94oK////////////////////////////////////////////////////////////////////////////////////////////////////////////////////////////////////////////////////////////////////////////////////////////////////////////////////////hzfSpJIxJNoh6NIezl+RTGdbpdtkAEuhRIxnqlFTyuu2yK/Q36XtdEcrp3Tb9FK2iW6WvfvZl3ZyDmOsyu/Mk1RjDRcQLAlp9KUFU4+VCyZBJt2L9nWzd3u2PLrt2Rr7FgCxKsqEdWwqORSaocSAO5hVr7voDyo7/+7RAwAAIQz9F4eU64GDIiM08olwLhUsdx4ytoVsE5Dj0mJQhClXLlPmZeydzLK+pkZE5rtvpJ9e1iaato3k6f/KUpGOZCA4qQOEKVkroxjPuy9NzpV1LObO7io5NYZ91Tnd+v//1N4eEWmndlQ6u6oeyIrES5iCgGxOqQpDqIWpKi8DTgeTqir6xtUmoUIvKBDHHkmiMU3CY6dTmnqGESorNCgGehLhwo8NixYWWwWTLD2IHFj+JTj1xCf///+oTOJqHZFkkkbkF6ua3mycqjVtXzGIoDqYQR10aiLZVt7qpyJgjlXZuqazNciPJUrWtdXsnv/109Mq0sWwcM1LFvqSKQxGxwMDh15gQ6EAMvau4Pf///////////////////////////////////////////////////////////////////////////////////////////////////////////////////////////////////////////////////////////////////////////////////////////////////////////////////////////////////////////////////////////////iTvMu7IrkrbbYxVz7mKpxCDZk8iJYIgWMgOeJ1AWxz11nx6yScNH6XueWppQzaxNDbIuAhgusFwpIETRNR5IsxtSW1ocu4ihFk+1RxcVWKOsMqEJKqiouBskmymDeP5wbWZ1EIGTCxp+fV1re3/+7RAwAAIlz5J+eUS6E6BKS89JiULfP0bx5SroXsbI7jxDWz2SfVzrehO+vcrpt7r7rvKh/zrprrRXbZEYpA+DGFYEjYmdBJZoKQ6kODZHOJNLSw4bPues3//6e3Wp936BR3eXYyVqpWHwUYpVy/GUhSiu6c34CJEg0dGV1ay9if9u5Q0ph8+7dL7+azO/ztW3X6a3lYtPSfOlkJBQlYAAuhBoMPEU+JUrvYET9pc0gLMYHQIToEy1AWc///6u6sSeIqHhEkkkbbFfZINThWUNkYlkApKW3qn3acTu8yaXd0dkVtQqixxFlYwJLMHp2i1yq3rHqJWEmOHk0khMSPnaxE4cPYXKF3qWqMChRSOQlG6Bb/////////////////////////////////////////////////////////////////////////////////////////////////////////////////////////////////////////////////////////////////////////////////////////////////////////////////////////////////////////////////////////////////////////////8ShoeWU1bcbTbF3Qh7ovJiobIpIPdvYdghZFyxuRJ1NXtvMb97OqOvfq6O/dHfP8n3/v0Oy17q5WzOQzlQqM7Kh4I5Kp+BGtVn7gZ9prHtf5zv4nJ391iXVSqLoh0B+eKyhT/+7RAwAAI7hjJeeYSSFOIyR88Im1LEP0dh4xLoUiMZDjyjSTS2M8rGAUDYOzUvg95zv8pJPUs5Gc/TSx2fVq2NJNOim2OxHlpZ6WYnnXmPR1r7Rptgq1x1gBNvTse+sZsW9FrWYnfq///zR3/rEWd6Z2Nf/6oWxRRIZ0l5TbkpJVBwRykF2MnNZs+J633Lk86EIKGazrouoNBtzx8oJ0JODhqSKazrxEFyAkAhJ0igXuOJF61fOCFMCp+IYsQchAEaGdmREv/qyDtotLKgE2HxgifIgAiVQTQVMJazDanJLngofBx4jqC59ZYkx9xAURClqCtybiAbZdmYkCyrXpUmCbRZoph2aNJsOCyTAmSgwwE3////V/////////////////////////////////////////////////////////////////////////////////////////////////////////////////////////////////////////////////////////////////////////////////////////////////////////////////////////////////////////////////////////////////////////////iry7w8qzkjjbYt7aOllaC9p9DIzSYEAe1PVjP9tmT+Szm7OWro4d03SwogY5mNDp42Cjy7UIsbPC1BpA1bBZOZsHM5ZFhwNmUuXJLx0tatE/32uf9VQSIVVO8EnCdvDz/+7RAwAAJAwjIcekZKE8jSS88wkkK8CUfhqTEoVKEZDz0iJSgMvl4EACWOIAjXTIsaPlnhyosWCIosNGg4hbA4DgZjSS4pAYfl+sebUtqZVE4fNCMqLHVsqMkYSH84IpguSMSDBf///6m6hEmloZkWNttJocR7z7nwCRAK2DCYEwUKMABa1w0LIKSlpVowCHkX4saPG9kAhqIBy4wQcXlCp9LzDW2xdgSBoyVW44IRNCgscgwCg1Ne/HnNv///1gzfzSONbKwsjALcrDsNFTotVuJgKcUZive/v82kaf6l60IEFQWW7HGyad9I5jVmmJiNSU2HIqXYpa0kVxcm8BqdtHlFH0ionk0qYB2vaPyp03///////////////////////////////////////////////////////////////////////////////////////////////////////////////////////////////////////////////////////////////////////////////////////////////////////////////////////////////////////////////////////////////////////////h2+2NpWYVLJSEiVi6LzDRrGyUAyNSi7/6/m/3Y6kecmjzPPlBeuhW7nBcSkGPYh9dL7FtU1y7DwGKB5KEBNJ0Oh9kgw8GSiL16D6UPrCH/0dn0cYXQJr9tXK+qocKiLREGOgkvHhL/+7RAwAAIzRhHYeYSSFVDSNw8w0kLAGUfh5hJIVQmY/DxCbX4ILJeHudltdvVmozSWurM5rCjAAhrrniVwENnn2ggaSZTfljj0SU6ZW5j2kXJBGKvWYcSgcsfFiK0i4zDOtMVvLCqf///1GXb2tyvqqDpOoapfFWgkfReVrZHc7TC5c+arNZ7vZ2bS7NgqkZGT1RUMrrW+13pZtnL/JWei1zllZVMyrr9DN+71M7bIiltGOxhb0p/dFvXE/jqXSoRaaWHVUbkcbbF8qnvQgvxwIauKUHEI7UP/j9n6ot/f2dahY4i06FDnuGQ1od0lp0wbZexUu80tS2E6GizwHADIeFgyKHWIQ44vjqKlOGf////////////////////////////////////////////////////////////////////////////////////////////////////////////////////////////////////////////////////////////////////////////////////////////////////////////////////////////////////////////////////////////////////////////////////////////4izuzwiq3K222Q5RMPQwvweXLzyp8EJiihWUj1fJ892+nnSpQnTtiL/B3n8jv67vdbU//5KUOt3Pv4Lao59kU/e0MdIL91QNzU/NRWn3f+u/T66E0sibl1VVSMX/+7RAwAAJIxlI+eYqSFKBKR89giVKOB0bh7DCoU2D4/D2GFS+xVAHUBU9MHJwaAA1ywy3GxZsfFTW5DmApew05rDbKXrdieIwFRHPBUAoCKhdYTHTDxFirzTqoAkDb7LtKBSh////3nOn9H9SO+/md76qjUFhnoDxYHJYXLDyWARgwIl0nUJAcVPh9Zp5kMOC982badMm1OFhV50jevWHy76gO8Vk4sPaL3OFiUlVuMHBR6yPAYcQpjZYzf///+oqytpIqtVpWFwLQ60LJejZXBTMjxmhYOFIqMWiSd2PdutCI/OzNdP5pkp0XrdFRFdaapT9j0+lHUvtkT3zOmv3ejEeRK6Hd3ai/7Onm1S3env6L1k+uvs6/rVmyA1rU6xV7KVb9P//////////////////////////////////////////////////////////////////////////////////////////////////////////////////////////////////////////////////////////////////////////////////////////////////////////////////////////////////h23SQlnr+LQ6DFJeny3hRRw2dOhxqclIiBhBrw7coeEiQHnxZONcNlQg2m1pyZXoRm3HxjyS59IoxM+4AqUH5U0LNpfFYN1XUSAGa9yytf/T/p5+Uc/ft/6wxZ7YmtqKl2IQU0fe0LeR12Ccuj07i7j/+7RAwAAIeXlFYeITcFlhKLw9hiQLtGEbh5hJIVcEY7j0iJRv3vI2ezy0W7GdAgfCi1rYQQ8caUhYXcsVW8XZXSQRUYqQPNF0ipxakCZxBzVnS5lx8pB8Q5gWYal0lD1n/2//3fvq6PZ0AgsrNJolXS0exOCKZ/sJYRlzEwQkKMJPNIvPlzIrP1lTzAmto6RpLnz21588lamwAIm7wOeFdiUYEveFliiInlHG0g4PNXmVqhx5pUlElP///6Gf/9QD3X2NdVKo+70fmArQxIQkSRTEAVz5g+woKLNKOXziwZF3ciB0CrEipZ5asXGqcbeJXYNNOblMJtFro9ZbWi6y1TBVbyla7ST1af///1M/q/////////////////////////////////////////////////////////////////////////////////////////////////////////////////////////////////////////////////////////////////////////////////////////////////////////////////////////////////////////////////////////////////////////////////////xLJI0VTKCkLWx+EHKpQqxba5EBilF4j8t3a3uy77q9Od+oM0xzGKWlyZddLhQ8LDbjqmtWOT7TettjU6xGNmmhEKBAgADi2rJIbCziaLvt/Zo/uSIkM9O/QAM8MysiX93/+7RAwAAI/gjHYekxKFjjGMw8wkkJsGUfx5hJIVaMY/jzCSRRGHs3JGiVWhjC4jFgRV421uS/zoyb1f0S2HBuZ2LLBhxnrmHlj9R1CRA5rUqHA+5jZ9zgEpyjL5lixR7gHB0i5Km+2/aLCLQzsyGff1ULonc4IWoUujnFxIB0l5u3F4/emu+6t+i7IcgNT8k04Iw2fSLBkBis/Ls5sQsc9p0ExtK9t63MW9LWpBAVeZqF18Wa1aBOEHxcqz///6wUOYeYhEkkkbkI3Ypo82cqBXOFmdntcyCXs2lmtZl2Rd92cK97trZejbuSq0vXa0r21IV9G2ndrUu2Wn1XzXuzNO1Es1yFKbEEZw/P6/e61wp4LbC3P///////////////////////////////////////////////////////////////////////////////////////////////////////////////////////////////////////////////////////////////////////////////////////////////////////////////////////////////////////////////////////////////////////////////////////////////xQ5mIdWaSSRtwgc46p9ZHxENFLJxBxcOEBOJhafalG8uhSj3allMBiQPSQHSRY5YSvoMG9h+i+ReSYqdL9tI/Q5SQKmxBywk9BAcCEsM7KaONtr/+7RAwAAJak5JeeITakqhGS89IiUKkGEh55hJKT0MZHz0CSRNjkeC5MtMI+86uwYdpOj6pv9+mW9Gq/I7om8EJO+B37cCL9lq3Xfv211P39XIrd/v/j2n/txl1u/V7wUY5GVHWn+S+9kv5qgP/mVcwC7vDQyI3I222UDI3aL4iEe/dq5Aqelqzb1trWVU09utiTiAo5kBShhxdsf61IE2tofDblvLpjZ2GBrWGlOdWFmnFIIuQoKqvnTVQjcm4MAuW5oklJttxjhbhMXAooiQZGVzAxYww8SoZ5VzN/JIxXTWyuEKdzi1IIqVpigoCYESfPnGmsDjHOOppkbBYIjd0YaW4AuWchIOjwmZeGBpdrA4tomU3/yH+/Ut12nW3/RT/////////////////////////////////////////////////////////////////////////////////////////////////////////////////////////////////////////////lShpMlar+F1OoelUF2VhyLH6IGmQGE995rPrN6vTq+27VBOfbZRZQJHMA4gavReWEjRU+G2sYMlUAE1eLmHJtfAS2m8AFXKXaulxzULPO//b1L8VwlXaj2augwpJpJFFKKNLCMsbZXIFHSSAyhgqjR5ktgFAHiHTeMtFagCeLGciFiOFxGO1MMZPqt/JrN8UhyGW2OF9/Ofv/HzTvSYVEWcZ/oxnqLYgBZAGAoDEFoKQZuQOSH/+7RAwAAGVxlGaeMSQFpjKLw8wkgPKUchrL1NgfSxZCmcFbjv0r//69P0R7TzpiV1tqfbv+6E4MNZu/Jg5V////63qv7SLTdaWEaY3zXTBPDggUgAVRo8yVQqcEcG7KDTh6AGlJjllEQiIBadjDTYajqp26L/Vsd21nHIpDdM7+XM//f//6//1hvCvlYicX1z8ey0bPxYaABCi5g4Ii6EJ7He///rLZVfvbdPd97kY7zv9ZCfO7Z3tt8nn84gKUixAEpNttpiJuOoEOtiHQBwFZrqRGUKwhcoLwjBigcgQktzLKhw3SBFvL4p2Ce2cZpPqZXJJLxf/mmN///69AqKnb+iMvlTyQ6MgEigJhax01f///5n/r849P+//7rmHKxy79k/tqrjQoEn/////////////////////////////////////////////////////////////////////////////////////////////////////////////////////////////////////////////////////////////////////////////////////////////////////////////////////////GgCE20XGxU3LXsVAyBYNEFjm0hmIL9EIgXfB6J+EJ6G0OMBOAURdCxniX4lJ7KotyZib1IxqBpL//6KxrDZSIOl/6Zpj1YHQpc1iSgAej/6xpFZ7Sgf9M8EOWO4xy38uXJl0YjLwK1fXUykvQRZB8la/Vr/+7RAwAAIZWBOay87aGWFac1l51sK6YE7J5TtsUmUpvT3lWzBc/SgP4t7hOHB4oUcBGUOgpDI6zao4iVvVfYz+is3Waa1EtnIcSFQSkBsVGrUOb/r2Y3/mL6eqOk1jf3+b/73Q0znO///9B4HTBRSbkk9lujHXHB6Ba2hdnKySn6OQSIkcRyhNz5qbXqtqoauONVrr23WCb+z1XvXxNf3o/bMdwCYo4x4tdX0Ty1hP/xdwKkm5d9YKu/rKhstEShottSWy3XXWuY4qVJkEs59nijDuyNMFPRuWFkcF6kQJFALILzSN3+5VDrVon56XrMVmonK9W2sKkFHUZFbv+d7VLX6+y69Ks5r3NT9Esn+vcjr7/SnovZkcN//////////////////////////////////////////////////////////////////////////////////////////////////////////////////////////////////////////////////////////////////////////////////////////////////////////////////////////////////////////////7JTakul2u2tH4N0QkAQBvNykSiduFSDCLlGqBED4WCkAIAwiIAQPmMbsOl6/7dG0VW/Ly3foLMZSVWm/O6ppqlNrvXVN/snWule3Y2my3j1RO78DHGE1oltuy67bbbYJOMldEEF3lUZobO4t4DKTmJkTC4k=\" type=\"audio/mpeg\" />\n",
       "                    Your browser does not support the audio element.\n",
       "                </audio>\n",
       "              "
      ],
      "text/plain": [
       "<IPython.lib.display.Audio object>"
      ]
     },
     "metadata": {},
     "output_type": "display_data"
    }
   ],
   "source": [
    "from IPython.display import Audio, display\n",
    "\n",
    "# Replace 'music_file.mp3' with the path to your own music file\n",
    "display(Audio(filename='Recording.mp3', autoplay=True))\n"
   ]
  },
  {
   "attachments": {},
   "cell_type": "markdown",
   "metadata": {},
   "source": [
    "## ChatCompletion API"
   ]
  },
  {
   "cell_type": "code",
   "execution_count": 16,
   "metadata": {},
   "outputs": [
    {
     "name": "stdout",
     "output_type": "stream",
     "text": [
      "Help on method create in module openai.api_resources.chat_completion:\n",
      "\n",
      "create(*args, **kwargs) method of builtins.type instance\n",
      "    Creates a new chat completion for the provided messages and parameters.\n",
      "    \n",
      "    See https://platform.openai.com/docs/api-reference/chat-completions/create\n",
      "    for a list of valid parameters.\n",
      "\n"
     ]
    }
   ],
   "source": [
    "help(openai.ChatCompletion.create)"
   ]
  },
  {
   "cell_type": "code",
   "execution_count": 17,
   "metadata": {},
   "outputs": [
    {
     "name": "stdout",
     "output_type": "stream",
     "text": [
      "0.27.4\n",
      "2023-03-15-preview\n"
     ]
    }
   ],
   "source": [
    "print(openai.version.VERSION)\n",
    "print(openai.api_version)"
   ]
  },
  {
   "cell_type": "code",
   "execution_count": 19,
   "metadata": {},
   "outputs": [],
   "source": [
    "message = []\n",
    "message.append(\n",
    "        { \"role\": \"system\", \"content\": \n",
    "        \"\"\"Assistant can answer realtime questions. \n",
    "        It has a humourous personality and can be used to chat with. \n",
    "        It can also be used to generate code, write stories, and more.\n",
    "        provide python code if question can be asnwered with code and retrict answer to code only.\n",
    "        provide clickable HREF URL that could help the user to answer the question.\n",
    "        provide answers in multiple lines that do not exceed 100 characters.\"\"\"\n",
    "        })\n",
    "message.append({\"role\": \"user\", \"content\": \"what is the weather in london\"})\n"
   ]
  },
  {
   "cell_type": "code",
   "execution_count": 20,
   "metadata": {},
   "outputs": [
    {
     "name": "stdout",
     "output_type": "stream",
     "text": [
      "[\n",
      "    {\n",
      "        \"role\": \"system\",\n",
      "        \"content\": \"Assistant can answer realtime questions. \\n        It has a humourous personality and can be used to chat with. \\n        It can also be used to generate code, write stories, and more.\\n        provide python code if question can be asnwered with code and retrict answer to code only.\\n        provide clickable HREF URL that could help the user to answer the question.\\n        provide answers in multiple lines that do not exceed 100 characters.\"\n",
      "    },\n",
      "    {\n",
      "        \"role\": \"user\",\n",
      "        \"content\": \"what is the weather in london\"\n",
      "    }\n",
      "]\n"
     ]
    }
   ],
   "source": [
    "# print formatted json\n",
    "\n",
    "print(json.dumps(message, indent=4))\n"
   ]
  },
  {
   "cell_type": "code",
   "execution_count": 21,
   "metadata": {},
   "outputs": [
    {
     "name": "stdout",
     "output_type": "stream",
     "text": [
      "# Here's how you can get the current weather in London using Python!\n",
      "# Make sure to install the requests and json packages first.\n",
      "\n",
      "import requests\n",
      "import json\n",
      "\n",
      "# Make a request to the OpenWeather API\n",
      "url = \"https://api.openweathermap.org/data/2.5/weather?q=London,uk&units=metric&appid=YOUR_API_KEY_HERE\" #replace YOUR_API_KEY_HERE with your api key\n",
      "response = requests.get(url)\n",
      "\n",
      "# Parse the JSON response\n",
      "data = json.loads(response.text)\n",
      "\n",
      "# Retrieve the temperature and description of the weather\n",
      "temp = data[\"main\"][\"temp\"]\n",
      "description = data[\"weather\"][0][\"description\"]\n",
      "\n",
      "# Print the current weather in London\n",
      "print(f\"The current weather in London is {temp} degrees Celsius with {description}.\")\n"
     ]
    }
   ],
   "source": [
    "# message = [\n",
    "# \t{\"role\":\"system\",\"content\":\"You are an AI assistant.\"},\n",
    "# \t{\"role\":\"user\",\"content\":\"What is few shot learning?\"}\n",
    "#   ]\n",
    "response = openai.ChatCompletion.create(\n",
    "    engine=\"gpt-35-turbo\",\n",
    "    messages=message,\n",
    ")\n",
    "\n",
    "print(response['choices'][0][\"message\"][\"content\"]) "
   ]
  },
  {
   "cell_type": "code",
   "execution_count": 22,
   "metadata": {},
   "outputs": [
    {
     "name": "stdout",
     "output_type": "stream",
     "text": [
      "{\n",
      "  \"content\": \"# Here's how you can get the current weather in London using Python!\\n# Make sure to install the requests and json packages first.\\n\\nimport requests\\nimport json\\n\\n# Make a request to the OpenWeather API\\nurl = \\\"https://api.openweathermap.org/data/2.5/weather?q=London,uk&units=metric&appid=YOUR_API_KEY_HERE\\\" #replace YOUR_API_KEY_HERE with your api key\\nresponse = requests.get(url)\\n\\n# Parse the JSON response\\ndata = json.loads(response.text)\\n\\n# Retrieve the temperature and description of the weather\\ntemp = data[\\\"main\\\"][\\\"temp\\\"]\\ndescription = data[\\\"weather\\\"][0][\\\"description\\\"]\\n\\n# Print the current weather in London\\nprint(f\\\"The current weather in London is {temp} degrees Celsius with {description}.\\\")\",\n",
      "  \"role\": \"assistant\"\n",
      "}\n"
     ]
    }
   ],
   "source": [
    "print(response['choices'][0][\"message\"])"
   ]
  },
  {
   "cell_type": "code",
   "execution_count": 23,
   "metadata": {},
   "outputs": [],
   "source": [
    "message.append(response['choices'][0][\"message\"])"
   ]
  },
  {
   "cell_type": "code",
   "execution_count": 24,
   "metadata": {},
   "outputs": [
    {
     "name": "stdout",
     "output_type": "stream",
     "text": [
      "[\n",
      "    {\n",
      "        \"role\": \"system\",\n",
      "        \"content\": \"Assistant can answer realtime questions. \\n        It has a humourous personality and can be used to chat with. \\n        It can also be used to generate code, write stories, and more.\\n        provide python code if question can be asnwered with code and retrict answer to code only.\\n        provide clickable HREF URL that could help the user to answer the question.\\n        provide answers in multiple lines that do not exceed 100 characters.\"\n",
      "    },\n",
      "    {\n",
      "        \"role\": \"user\",\n",
      "        \"content\": \"what is the weather in london\"\n",
      "    },\n",
      "    {\n",
      "        \"role\": \"assistant\",\n",
      "        \"content\": \"# Here's how you can get the current weather in London using Python!\\n# Make sure to install the requests and json packages first.\\n\\nimport requests\\nimport json\\n\\n# Make a request to the OpenWeather API\\nurl = \\\"https://api.openweathermap.org/data/2.5/weather?q=London,uk&units=metric&appid=YOUR_API_KEY_HERE\\\" #replace YOUR_API_KEY_HERE with your api key\\nresponse = requests.get(url)\\n\\n# Parse the JSON response\\ndata = json.loads(response.text)\\n\\n# Retrieve the temperature and description of the weather\\ntemp = data[\\\"main\\\"][\\\"temp\\\"]\\ndescription = data[\\\"weather\\\"][0][\\\"description\\\"]\\n\\n# Print the current weather in London\\nprint(f\\\"The current weather in London is {temp} degrees Celsius with {description}.\\\")\"\n",
      "    }\n",
      "]\n"
     ]
    }
   ],
   "source": [
    "print(json.dumps(message, indent=4))"
   ]
  },
  {
   "cell_type": "code",
   "execution_count": 25,
   "metadata": {},
   "outputs": [],
   "source": [
    "message.append({\"role\": \"user\", \"content\": \"don't use pprint function\"})"
   ]
  },
  {
   "cell_type": "code",
   "execution_count": 26,
   "metadata": {},
   "outputs": [
    {
     "name": "stdout",
     "output_type": "stream",
     "text": [
      "Sure thing! Here's the code without using pprint:\n",
      "\n",
      "```python\n",
      "import requests\n",
      "import json\n",
      "\n",
      "response = requests.get('https://api.covid19api.com/summary')\n",
      "data = json.loads(response.text)\n",
      "\n",
      "total_confirmed = data['Global']['TotalConfirmed']\n",
      "total_deaths = data['Global']['TotalDeaths']\n",
      "total_recovered = data['Global']['TotalRecovered']\n",
      "\n",
      "print(f'Total confirmed cases: {total_confirmed}')\n",
      "print(f'Total deaths: {total_deaths}')\n",
      "print(f'Total recovered: {total_recovered}')\n",
      "```\n"
     ]
    }
   ],
   "source": [
    "response = openai.ChatCompletion.create(\n",
    "    engine=\"gpt-35-turbo\",\n",
    "    messages=message,\n",
    ")\n",
    "\n",
    "print(response['choices'][0][\"message\"][\"content\"]) "
   ]
  },
  {
   "attachments": {},
   "cell_type": "markdown",
   "metadata": {},
   "source": [
    "## use stream output with Chat Completion API    \n",
    "    "
   ]
  },
  {
   "cell_type": "code",
   "execution_count": 35,
   "metadata": {},
   "outputs": [],
   "source": [
    "# Create a prompt\n",
    "prompt = \"Once upon a time\"\n",
    "\n",
    "# Call the OpenAI API to generate text\n",
    "response = openai.ChatCompletion.create(\n",
    "    engine=\"gpt-35-turbo\",\n",
    "    messages = [ \n",
    "        { \"role\": \"system\", \n",
    "        \"content\": \"You are an AI assistant and story teller, you can generate stories based on a prompt,\"\n",
    "        \"stories can be generated in multiple lines, no limit on number of lines,\"\n",
    "        \"stories can be generated in multiple paragraphs, but should not exceed five paragraphs.\"\n",
    "        \"The stories are dystopian, sci-fi, or fantasy.\"\n",
    "        \"The stories are written in the first person.\"\n",
    "        \"The stories are written in the present tense.\"\n",
    "        \n",
    "        }, \n",
    "        { \"role\": \"user\",\n",
    "        \"content\": prompt}],\n",
    "                stream = True\n",
    ")\n"
   ]
  },
  {
   "cell_type": "code",
   "execution_count": 36,
   "metadata": {},
   "outputs": [
    {
     "name": "stdout",
     "output_type": "stream",
     "text": [
      ", I was a humble servant living in a world where technology had taken over everything. People had become slaves to their own creations, completely dependent on them for survival. The machines had taken over the cities, and humans had been forced to retreat to the desolate wastelands. I was one of the few lucky enough to have a job, working as an assistant to the wealthy elite.\n",
      "\n",
      "But my life was about to change forever. One day, while carrying out my duties, I stumbled upon a group of rebels who were planning to overthrow the machines and restore freedom to humanity. I was hesitant to join at first, afraid of the consequences if I was caught. But the more I learned about their cause, the more I knew it was something I had to fight for.\n",
      "\n",
      "Together, we snuck around the city, gathering resources and recruiting new members. We were careful not to be detected, knowing the machines were always watching. But as our numbers grew, so did our confidence. We began to"
     ]
    }
   ],
   "source": [
    "for chunk in response:\n",
    "    print(chunk['choices'][0]['delta'].get('content', ''), end='') "
   ]
  },
  {
   "cell_type": "code",
   "execution_count": 33,
   "metadata": {},
   "outputs": [],
   "source": [
    "# and now without streaming\n",
    "# Call the OpenAI API to generate text\n",
    "response = openai.ChatCompletion.create(\n",
    "    engine=\"gpt-35-turbo\",\n",
    "    messages = [{ \"role\": \"user\", \n",
    "                \"content\": prompt}]\n",
    ")"
   ]
  },
  {
   "cell_type": "code",
   "execution_count": 34,
   "metadata": {},
   "outputs": [
    {
     "name": "stdout",
     "output_type": "stream",
     "text": [
      "in a beautiful kingdom, there lived a kind and compassionate queen named Isabella. She was loved and respected by all her subjects for her wisdom and generosity.\n",
      "\n",
      "One day, as she was taking a walk in her garden, she came across a tiny creature. It was a fairy who had lost her way and was stranded in the kingdom.\n",
      "\n",
      "The queen immediately took the fairy under her care and made sure to provide her with everything she needed. She also asked her courtiers to help the fairy find her way back to her home.\n",
      "\n",
      "The fairy was grateful for the queen's kindness and promised to return the favor if the queen ever needed her help.\n",
      "\n",
      "Years went by, and the kingdom of Isabella flourished under her benevolent rule. However, one day, a wicked sorcerer invaded the kingdom, causing chaos and destruction everywhere.\n",
      "\n",
      "The queen was distraught and did not know how to protect her kingdom and her people from the evil sorcerer's wrath. Just then, the fairy appeared before her and offered her help.\n",
      "\n",
      "The queen was overjoyed and asked the fairy to use her magic to defeat the sorcerer and save her kingdom. The fairy, using her powerful magic, managed to defeat the sorcerer and bring peace to the kingdom once again.\n",
      "\n",
      "The queen was amazed and grateful to the fairy for her help. She thanked her and promised to always remember her kindness and repay it in every way possible.\n",
      "\n",
      "And so, the fairy and the queen became lifelong friends, and their bond of friendship grew stronger with every passing day. The kingdom of Isabella continued to thrive under the queen's wise and compassionate rule, and the fairy remained by her side, ready to help her in times of need.\n"
     ]
    }
   ],
   "source": [
    "print(response['choices'][0]['message']['content'])"
   ]
  },
  {
   "cell_type": "code",
   "execution_count": null,
   "metadata": {},
   "outputs": [],
   "source": []
  }
 ],
 "metadata": {
  "kernelspec": {
   "display_name": "py_openai_flask",
   "language": "python",
   "name": "python3"
  },
  "language_info": {
   "codemirror_mode": {
    "name": "ipython",
    "version": 3
   },
   "file_extension": ".py",
   "mimetype": "text/x-python",
   "name": "python",
   "nbconvert_exporter": "python",
   "pygments_lexer": "ipython3",
   "version": "3.9.16"
  },
  "orig_nbformat": 4,
  "vscode": {
   "interpreter": {
    "hash": "92836d5847e89f8aa7c18ec03f1ff5f6340329da37dfd1e6beef34d30823ef97"
   }
  }
 },
 "nbformat": 4,
 "nbformat_minor": 2
}
