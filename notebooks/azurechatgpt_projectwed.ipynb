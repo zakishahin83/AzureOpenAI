{
 "cells": [
  {
   "cell_type": "code",
   "execution_count": 33,
   "metadata": {},
   "outputs": [
    {
     "data": {
      "text/plain": [
       "True"
      ]
     },
     "execution_count": 33,
     "metadata": {},
     "output_type": "execute_result"
    }
   ],
   "source": [
    "# load env variables from .env file\n",
    "from dotenv import load_dotenv\n",
    "import os\n",
    "load_dotenv()\n"
   ]
  },
  {
   "cell_type": "code",
   "execution_count": 34,
   "metadata": {},
   "outputs": [],
   "source": [
    "\n",
    "chatgpt_wed_api_key = os.environ.get(\"chatgpt_wed_api_key\")\n",
    "chatgpt_wed_region = os.environ.get(\"chatgpt_wed_region\")\n",
    "chatgpt_wed_endpoint = os.environ.get(\"chatgpt_wed_endpoint\")\n",
    "chatgpt_wed_api_version = os.environ.get(\"chatgpt_wed_api_version\")\n",
    "chatgpt_wed_deployment = os.environ.get(\"chatgpt_wed_deployment\")\n",
    "search_wed_endpoint = os.environ.get(\"search_wed_endpoint\")\n",
    "search_wed_key = os.environ.get(\"search_wed_key\")\n",
    "search_wed_index = os.environ.get(\"search_wed_index\")"
   ]
  },
  {
   "cell_type": "code",
   "execution_count": 35,
   "metadata": {},
   "outputs": [],
   "source": [
    "from urllib.parse import urljoin, urlparse \n",
    "aoai_extension_endpoint = urljoin(chatgpt_wed_endpoint, f\"/openai/deployments/{chatgpt_wed_deployment}/extensions/chat/completions?api-version={chatgpt_wed_api_version}\")\n",
    "# chatgpt_api_url = urljoin(chatgpt_wed_endpoint, f\"/openai/deployments/{chatgot_wed_deployment}/completions?api-version={chatgpt_wed_api_version}\")\n",
    "chatgpt_api_url = urljoin(chatgpt_wed_endpoint, f\"/openai/deployments/{chatgpt_wed_deployment}/chat/completions?api-version=2023-03-15-preview\")\n"
   ]
  },
  {
   "cell_type": "code",
   "execution_count": 36,
   "metadata": {},
   "outputs": [
    {
     "name": "stdout",
     "output_type": "stream",
     "text": [
      "AOAI Endpoint: https://tetetetetetete.openai.azure.com/openai/deployments/chatgpt/extensions/chat/completions?api-version=2023-06-01-preview\n",
      "ChatGPT Endpoint: https://tetetetetetete.openai.azure.com/openai/deployments/chatgpt/chat/completions?api-version=2023-03-15-preview\n"
     ]
    }
   ],
   "source": [
    "print(f\"AOAI Endpoint: {aoai_extension_endpoint}\")\n",
    "print(f\"ChatGPT Endpoint: {chatgpt_api_url}\")"
   ]
  },
  {
   "cell_type": "code",
   "execution_count": 37,
   "metadata": {},
   "outputs": [],
   "source": [
    "import json \n",
    "\n",
    "def fprint(obj):\n",
    "    # cast obj to dict before printing\n",
    "\n",
    "\n",
    "\n",
    "    print(json.dumps(dict(obj), indent=4))\n",
    "\n",
    "\n",
    "messages = { \n",
    "    \"messages\": [\n",
    "        {\n",
    "            \"role\": \"system\",\n",
    "\t\t    \"content\": \"\"\"Assistant helps the company employees with their healthcare plan questions, and questions about the employee handbook. \n",
    "Be brief in your answers.\n",
    "Say goodbye at the end of every response. \n",
    "            \"\"\"\n",
    "        }, \n",
    "        {\n",
    "            \"role\": \"user\", \n",
    "            \"content\": \"Hi, I'm looking for a wedding venue in the UK. Can you help me?\"\n",
    "        }\n",
    "\n",
    "    ]\n",
    "}\n",
    "\n",
    "\n",
    "##TODO:  Include feilds mapping here\n",
    "datasources = {\n",
    "    \"dataSources\": [\n",
    "        {\n",
    "            \"type\": \"AzureCognitiveSearch\",\n",
    "            \"parameters\": {\n",
    "                \"endpoint\": search_wed_endpoint,\n",
    "                \"key\": search_wed_key,\n",
    "                \"indexName\": search_wed_index,\n",
    "                \"fieldsMapping\": {\n",
    "                    \"titleField\": \"sourcefile\",\n",
    "                    \"urlField\": \"sourcepage\",\n",
    "                    \"filepathField\": \"sourcepage\",\n",
    "                    \"contentFields\": [\n",
    "                        \"content\"\n",
    "                    ],\n",
    "                    \"contentFieldsSeparator\": \"\\n\"\n",
    "                },\n",
    "                \"inScope\": \"true\",\n",
    "                \"topNDocuments\": 3,\n",
    "                \"queryType\": \"semantic\",\n",
    "                \"semanticConfiguration\": \"default\",\n",
    "                \"roleInformation\": \"\"\n",
    "            }\n",
    "        }\n",
    "    ]\n",
    "}\n",
    "\n",
    "\n",
    "headers = {\n",
    "    \"Content-Type\": \"application/json\",\n",
    "    \"api-key\": f\"{chatgpt_wed_api_key}\",\n",
    "    \"chatgpt_url\": chatgpt_api_url, \n",
    "    \"chatgpt_key\": chatgpt_wed_api_key,\n",
    "}\n",
    "\n"
   ]
  },
  {
   "cell_type": "code",
   "execution_count": 38,
   "metadata": {},
   "outputs": [
    {
     "name": "stdout",
     "output_type": "stream",
     "text": [
      "dict_keys(['Content-Type', 'api-key', 'chatgpt_url', 'chatgpt_key'])\n"
     ]
    }
   ],
   "source": [
    "print(headers.keys())"
   ]
  },
  {
   "cell_type": "code",
   "execution_count": 39,
   "metadata": {},
   "outputs": [],
   "source": [
    "\n",
    "# combine datasources and messages into a payload\n",
    "payload = {**datasources, **messages}\n",
    "#fprint(payload)\n"
   ]
  },
  {
   "cell_type": "code",
   "execution_count": 40,
   "metadata": {},
   "outputs": [
    {
     "name": "stdout",
     "output_type": "stream",
     "text": [
      "{\n",
      "    \"id\": \"98e8c58a-3489-45ed-8b21-d8aca2b69366\",\n",
      "    \"model\": \"gpt-35-turbo\",\n",
      "    \"created\": 1687129850,\n",
      "    \"object\": \"chat.completion\",\n",
      "    \"choices\": [\n",
      "        {\n",
      "            \"index\": 0,\n",
      "            \"messages\": [\n",
      "                {\n",
      "                    \"index\": 0,\n",
      "                    \"role\": \"tool\",\n",
      "                    \"content\": \"{\\\"citations\\\": [], \\\"intent\\\": \\\"Hi, I'm looking for a wedding venue in the UK. Can you help me?\\\"}\",\n",
      "                    \"end_turn\": false\n",
      "                },\n",
      "                {\n",
      "                    \"index\": 1,\n",
      "                    \"role\": \"assistant\",\n",
      "                    \"content\": \"I don't find any information related to your question from the retrieved documents. As a result, I am unable to provide an answer.\",\n",
      "                    \"end_turn\": true\n",
      "                }\n",
      "            ]\n",
      "        }\n",
      "    ]\n",
      "}\n"
     ]
    }
   ],
   "source": [
    "import requests\n",
    "response = requests.post(aoai_extension_endpoint, headers=headers, data=json.dumps({**datasources, **messages}))\n",
    "fprint(response.json())\n"
   ]
  },
  {
   "cell_type": "code",
   "execution_count": 41,
   "metadata": {},
   "outputs": [],
   "source": [
    "# read response as dict \n",
    "response_dict = response.json()\n",
    "\n",
    "response_dict[\"choices\"][0]['messages']\n",
    "\n",
    "for m in response_dict[\"choices\"][0]['messages']: \n",
    "    if m[\"role\"] == \"assistant\":\n",
    "        messages[\"messages\"].append(m)\n",
    "    "
   ]
  },
  {
   "cell_type": "code",
   "execution_count": 42,
   "metadata": {},
   "outputs": [
    {
     "name": "stdout",
     "output_type": "stream",
     "text": [
      "{\n",
      "    \"messages\": [\n",
      "        {\n",
      "            \"role\": \"system\",\n",
      "            \"content\": \"Assistant helps the company employees with their healthcare plan questions, and questions about the employee handbook. \\nBe brief in your answers.\\nSay goodbye at the end of every response. \\n            \"\n",
      "        },\n",
      "        {\n",
      "            \"role\": \"user\",\n",
      "            \"content\": \"Hi, I'm looking for a wedding venue in the UK. Can you help me?\"\n",
      "        },\n",
      "        {\n",
      "            \"index\": 1,\n",
      "            \"role\": \"assistant\",\n",
      "            \"content\": \"I don't find any information related to your question from the retrieved documents. As a result, I am unable to provide an answer.\",\n",
      "            \"end_turn\": true\n",
      "        }\n",
      "    ]\n",
      "}\n"
     ]
    }
   ],
   "source": [
    "fprint(messages)\n"
   ]
  },
  {
   "cell_type": "code",
   "execution_count": 43,
   "metadata": {},
   "outputs": [
    {
     "name": "stdout",
     "output_type": "stream",
     "text": [
      "{\n",
      "    \"messages\": [\n",
      "        {\n",
      "            \"role\": \"system\",\n",
      "            \"content\": \"Assistant helps the company employees with their healthcare plan questions, and questions about the employee handbook. \\nBe brief in your answers.\\nSay goodbye at the end of every response. \\n            \"\n",
      "        },\n",
      "        {\n",
      "            \"role\": \"user\",\n",
      "            \"content\": \"Hi, I'm looking for a wedding venue in the UK. Can you help me?\"\n",
      "        },\n",
      "        {\n",
      "            \"index\": 1,\n",
      "            \"role\": \"assistant\",\n",
      "            \"content\": \"I don't find any information related to your question from the retrieved documents. As a result, I am unable to provide an answer.\",\n",
      "            \"end_turn\": true\n",
      "        },\n",
      "        {\n",
      "            \"role\": \"user\",\n",
      "            \"content\": \"tell me about northwind health plan\"\n",
      "        }\n",
      "    ]\n",
      "}\n"
     ]
    }
   ],
   "source": [
    "messages[\"messages\"].append({\n",
    "    \"role\": \"user\",\n",
    "    \"content\": \"tell me about northwind health plan\"\n",
    "})\n",
    "\n",
    "fprint(messages)\n",
    "\n",
    "response = requests.post(aoai_extension_endpoint, headers=headers, data=json.dumps({**datasources, **messages}))\n"
   ]
  },
  {
   "cell_type": "code",
   "execution_count": 44,
   "metadata": {},
   "outputs": [
    {
     "data": {
      "text/plain": [
       "1"
      ]
     },
     "execution_count": 44,
     "metadata": {},
     "output_type": "execute_result"
    }
   ],
   "source": [
    "len(response.json()['choices'])"
   ]
  },
  {
   "cell_type": "code",
   "execution_count": 45,
   "metadata": {},
   "outputs": [
    {
     "name": "stdout",
     "output_type": "stream",
     "text": [
      "{\n",
      "    \"index\": 0,\n",
      "    \"messages\": [\n",
      "        {\n",
      "            \"index\": 0,\n",
      "            \"role\": \"tool\",\n",
      "            \"content\": \"{\\\"citations\\\": [{\\\"content\\\": \\\" With \\\\nNorthwind Health Plus, you can choose from a variety of in -network  providers, including \\\\nprimary care physicians, specialists, hospitals, and pharmacies. This plan also offers \\\\ncoverage for emergency services, both in -network and out -of-network.  \\\\nSUMMARY OF YOUR COSTS  \\\\nSUMMARY OF YOUR COSTS  \\\\nAt Northwind Health, we understand  that health care costs can be a burden. That\\\\u2019s why we \\\\noffer a comprehensive plan that covers the cost of medical, vision, and dental services. With \\\\nNorthwind Health Plus, you can choose from a variety of in -network providers, including \\\\nprimary care physic ians, specialists, hospitals, and pharmacies. This plan also offers \\\\ncoverage for emergency services, both in -network and out -of-network.  \\\\nYour cost for Northwind Health Plus will depend on your plan type, the services you use, \\\\nand the providers you visit. You can find more information about cost -sharing \\\\narrangements on the Northwind Health website.  \\\\nIn-Network Costs: If you use an in -network provider, your out -of-pocket costs will be lower \\\\nthan if you use an out -of-network provider.\\\", \\\"id\\\": null, \\\"title\\\": \\\"Northwind_Health_Plus_Benefits_Details.pdf\\\", \\\"filepath\\\": \\\"Northwind_Health_Plus_Benefits_Details-2.pdf\\\", \\\"url\\\": \\\"Northwind_Health_Plus_Benefits_Details-2.pdf\\\", \\\"metadata\\\": {\\\"chunking\\\": \\\"orignal document size=278. Scores=0.7884597778320312 and 3.153839111328125.Org Highlight count=16.\\\"}, \\\"chunk_id\\\": \\\"0\\\"}, {\\\"content\\\": \\\" Northwind Health provides several ways for you to stay informed, including:  \\\\n\\\\u2022 Our website \\\\u2013 which provides information about the plan, including benefits, exclusions \\\\nand limitations, and member responsibilities.  \\\\u2022 Our customer servi ce representatives \\\\u2013 who are available to answer your questions about \\\\nthe plan and provide guidance.  \\\\n\\\\u2022 Our plan documents \\\\u2013 which provide detailed information about the plan and your rights \\\\nand responsibilities.  \\\\n\\\\u2022 Our newsletters \\\\u2013 which provide updates about the plan and new features.  \\\\n\\\\u2022 Our provider directories \\\\u2013 which list all of the in -network providers and facilities that are \\\\navailable under the plan.  \\\\nGetting the Most Out of Your Plan  \\\\nTo get the most out of your Northwind Standard plan, here are som e tips to keep in mind:  \\\\n\\\\u2022 Be sure to use in -network providers as much as possible, as this will help you maximize \\\\nyour benefits and minimize your out -of-pocket expenses.  \\\\n\\\\u2022 If you need to use out -of-network providers, be sure to contact Northwind Health first to \\\\nverify coverage.  \\\\n\\\\u2022 Be sure to inform your providers of any pre -existing conditions or special circumstances \\\\nthat could affect your care.\\\", \\\"id\\\": null, \\\"title\\\": \\\"Northwind_Standard_Benefits_Details.pdf\\\", \\\"filepath\\\": \\\"Northwind_Standard_Benefits_Details-91.pdf\\\", \\\"url\\\": \\\"Northwind_Standard_Benefits_Details-91.pdf\\\", \\\"metadata\\\": {\\\"chunking\\\": \\\"orignal document size=265. Scores=0.7867965698242188 and 3.147186279296875.Org Highlight count=17.\\\"}, \\\"chunk_id\\\": \\\"0\\\"}, {\\\"content\\\": \\\"  \\\\nCovering Your Expenses  \\\\nWhen you are enrolled in Northwind Standard, your plan will cover a portion of your \\\\nmedical and vision expenses. However, you may be responsible for certain co -payments or \\\\nco-insurance amounts. It is important to be aware of the terms of your plan and to kno w \\\\nwhat you will be responsible for so that you can plan for these expenses.  \\\\nSeeking Pre -Approval for Care  \\\\nIn some cases, you may need to seek pre -approval or authorization before receiving certain \\\\nmedical services. This is especially true for certain type s of specialty care, such as mental \\\\nhealth and substance abuse treatment. If you are unsure if pre -approval is required, contact \\\\nNorthwind Health to verify.  \\\\nStaying Informed  \\\\nIt is important that you stay informed about the benefits, limitations, and requi rements of \\\\nyour plan. Northwind Health provides several ways for you to stay informed, including:  \\\\n\\\\u2022 Our website \\\\u2013 which provides information about the plan, including benefits, exclusions \\\\nand limitations, and member responsibilities.\\\", \\\"id\\\": null, \\\"title\\\": \\\"Northwind_Standard_Benefits_Details.pdf\\\", \\\"filepath\\\": \\\"Northwind_Standard_Benefits_Details-91.pdf\\\", \\\"url\\\": \\\"Northwind_Standard_Benefits_Details-91.pdf\\\", \\\"metadata\\\": {\\\"chunking\\\": \\\"orignal document size=248. Scores=0.7623748779296875 and 3.04949951171875.Org Highlight count=13.\\\"}, \\\"chunk_id\\\": \\\"1\\\"}], \\\"intent\\\": \\\"tell me about northwind health plan\\\"}\",\n",
      "            \"end_turn\": false\n",
      "        },\n",
      "        {\n",
      "            \"index\": 1,\n",
      "            \"role\": \"assistant\",\n",
      "            \"content\": \"Northwind Health Plus is a health plan that offers coverage for emergency services, both in-network and out-of-network. Your cost for Northwind Health Plus will depend on your plan type, the services you use, and the providers you visit [doc1]. For information on how to get the most out of your plan, you can refer to the plan documents, newsletters, and provider directories provided by Northwind Health [doc2]. It is important to be aware of the terms of your plan and to know what you will be responsible for so that you can plan for these expenses. Northwind Health provides several ways for you to stay informed, including their website [doc3].\",\n",
      "            \"end_turn\": true\n",
      "        }\n",
      "    ]\n",
      "}\n"
     ]
    }
   ],
   "source": [
    "fprint(response.json()['choices'][0])"
   ]
  },
  {
   "cell_type": "code",
   "execution_count": 46,
   "metadata": {},
   "outputs": [
    {
     "name": "stdout",
     "output_type": "stream",
     "text": [
      "3\n"
     ]
    }
   ],
   "source": [
    "# read citations from response \n",
    "citations = []\n",
    "intent = []\n",
    "for m in response.json()['choices'][0]['messages']: \n",
    "    if m[\"role\"] == \"tool\":\n",
    "        citations = json.loads(m[\"content\"])['citations']\n",
    "        intent = json.loads(m[\"content\"])['intent']\n",
    "\n",
    "    if m[\"role\"] == \"assistant\":\n",
    "        messages[\"messages\"].append(m)\n",
    "\n",
    "print(len(citations))"
   ]
  },
  {
   "cell_type": "code",
   "execution_count": 47,
   "metadata": {},
   "outputs": [
    {
     "name": "stdout",
     "output_type": "stream",
     "text": [
      "{\n",
      "    \"content\": \" With \\nNorthwind Health Plus, you can choose from a variety of in -network  providers, including \\nprimary care physicians, specialists, hospitals, and pharmacies. This plan also offers \\ncoverage for emergency services, both in -network and out -of-network.  \\nSUMMARY OF YOUR COSTS  \\nSUMMARY OF YOUR COSTS  \\nAt Northwind Health, we understand  that health care costs can be a burden. That\\u2019s why we \\noffer a comprehensive plan that covers the cost of medical, vision, and dental services. With \\nNorthwind Health Plus, you can choose from a variety of in -network providers, including \\nprimary care physic ians, specialists, hospitals, and pharmacies. This plan also offers \\ncoverage for emergency services, both in -network and out -of-network.  \\nYour cost for Northwind Health Plus will depend on your plan type, the services you use, \\nand the providers you visit. You can find more information about cost -sharing \\narrangements on the Northwind Health website.  \\nIn-Network Costs: If you use an in -network provider, your out -of-pocket costs will be lower \\nthan if you use an out -of-network provider.\",\n",
      "    \"id\": null,\n",
      "    \"title\": \"Northwind_Health_Plus_Benefits_Details.pdf\",\n",
      "    \"filepath\": \"Northwind_Health_Plus_Benefits_Details-2.pdf\",\n",
      "    \"url\": \"Northwind_Health_Plus_Benefits_Details-2.pdf\",\n",
      "    \"metadata\": {\n",
      "        \"chunking\": \"orignal document size=278. Scores=0.7884597778320312 and 3.153839111328125.Org Highlight count=16.\"\n",
      "    },\n",
      "    \"chunk_id\": \"0\"\n",
      "}\n",
      "{\n",
      "    \"content\": \" Northwind Health provides several ways for you to stay informed, including:  \\n\\u2022 Our website \\u2013 which provides information about the plan, including benefits, exclusions \\nand limitations, and member responsibilities.  \\u2022 Our customer servi ce representatives \\u2013 who are available to answer your questions about \\nthe plan and provide guidance.  \\n\\u2022 Our plan documents \\u2013 which provide detailed information about the plan and your rights \\nand responsibilities.  \\n\\u2022 Our newsletters \\u2013 which provide updates about the plan and new features.  \\n\\u2022 Our provider directories \\u2013 which list all of the in -network providers and facilities that are \\navailable under the plan.  \\nGetting the Most Out of Your Plan  \\nTo get the most out of your Northwind Standard plan, here are som e tips to keep in mind:  \\n\\u2022 Be sure to use in -network providers as much as possible, as this will help you maximize \\nyour benefits and minimize your out -of-pocket expenses.  \\n\\u2022 If you need to use out -of-network providers, be sure to contact Northwind Health first to \\nverify coverage.  \\n\\u2022 Be sure to inform your providers of any pre -existing conditions or special circumstances \\nthat could affect your care.\",\n",
      "    \"id\": null,\n",
      "    \"title\": \"Northwind_Standard_Benefits_Details.pdf\",\n",
      "    \"filepath\": \"Northwind_Standard_Benefits_Details-91.pdf\",\n",
      "    \"url\": \"Northwind_Standard_Benefits_Details-91.pdf\",\n",
      "    \"metadata\": {\n",
      "        \"chunking\": \"orignal document size=265. Scores=0.7867965698242188 and 3.147186279296875.Org Highlight count=17.\"\n",
      "    },\n",
      "    \"chunk_id\": \"0\"\n",
      "}\n",
      "{\n",
      "    \"content\": \"  \\nCovering Your Expenses  \\nWhen you are enrolled in Northwind Standard, your plan will cover a portion of your \\nmedical and vision expenses. However, you may be responsible for certain co -payments or \\nco-insurance amounts. It is important to be aware of the terms of your plan and to kno w \\nwhat you will be responsible for so that you can plan for these expenses.  \\nSeeking Pre -Approval for Care  \\nIn some cases, you may need to seek pre -approval or authorization before receiving certain \\nmedical services. This is especially true for certain type s of specialty care, such as mental \\nhealth and substance abuse treatment. If you are unsure if pre -approval is required, contact \\nNorthwind Health to verify.  \\nStaying Informed  \\nIt is important that you stay informed about the benefits, limitations, and requi rements of \\nyour plan. Northwind Health provides several ways for you to stay informed, including:  \\n\\u2022 Our website \\u2013 which provides information about the plan, including benefits, exclusions \\nand limitations, and member responsibilities.\",\n",
      "    \"id\": null,\n",
      "    \"title\": \"Northwind_Standard_Benefits_Details.pdf\",\n",
      "    \"filepath\": \"Northwind_Standard_Benefits_Details-91.pdf\",\n",
      "    \"url\": \"Northwind_Standard_Benefits_Details-91.pdf\",\n",
      "    \"metadata\": {\n",
      "        \"chunking\": \"orignal document size=248. Scores=0.7623748779296875 and 3.04949951171875.Org Highlight count=13.\"\n",
      "    },\n",
      "    \"chunk_id\": \"1\"\n",
      "}\n"
     ]
    }
   ],
   "source": [
    "for c in citations:\n",
    "    fprint(c)"
   ]
  },
  {
   "cell_type": "code",
   "execution_count": 48,
   "metadata": {},
   "outputs": [
    {
     "name": "stdout",
     "output_type": "stream",
     "text": [
      "tell me about northwind health plan\n"
     ]
    }
   ],
   "source": [
    "print(intent)"
   ]
  },
  {
   "cell_type": "code",
   "execution_count": null,
   "metadata": {},
   "outputs": [],
   "source": []
  }
 ],
 "metadata": {
  "kernelspec": {
   "display_name": "py_openai_flask",
   "language": "python",
   "name": "python3"
  },
  "language_info": {
   "codemirror_mode": {
    "name": "ipython",
    "version": 3
   },
   "file_extension": ".py",
   "mimetype": "text/x-python",
   "name": "python",
   "nbconvert_exporter": "python",
   "pygments_lexer": "ipython3",
   "version": "3.9.16"
  },
  "orig_nbformat": 4
 },
 "nbformat": 4,
 "nbformat_minor": 2
}
