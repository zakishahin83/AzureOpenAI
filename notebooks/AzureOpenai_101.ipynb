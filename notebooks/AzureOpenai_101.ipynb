{
 "cells": [
  {
   "cell_type": "code",
   "execution_count": null,
   "metadata": {},
   "outputs": [],
   "source": [
    "# This is OpenAI SDK 101\n",
    "\n",
    "In this example you will learn the basic operation of the openai sdk against an Azure OpenAI resource\n",
    "Make sure to create a Davinci deployment in Azure OpenAI Modeule, and note the following:\n",
    "API key - \n",
    "Deployed Region - \n",
    "Model endpoint - \n",
    "API Version - \n",
    "Model Deployment Name - \n",
    "Then add these cofiguration to the app setting file (.env)\n"
   ]
  },
  {
   "cell_type": "code",
   "execution_count": null,
   "metadata": {},
   "outputs": [],
   "source": [
    "# Load the environment setting into the kernel"
   ]
  },
  {
   "cell_type": "code",
   "execution_count": null,
   "metadata": {},
   "outputs": [],
   "source": [
    "davinci_api_key = os.environ.get('davinci_api_key')\n",
    "davinci_region = os.environ.get('davinci_region')\n",
    "davinci_endpoint = os.environ.get('davinci_endpoint')\n",
    "davinci_api_version = os.environ.get('davinci_api_version')\n",
    "davinci_deployment_name = os.environ.get('davinci_deployment_name')\n"
   ]
  },
  {
   "cell_type": "code",
   "execution_count": null,
   "metadata": {},
   "outputs": [],
   "source": [
    "# This is a very simple example for a response"
   ]
  },
  {
   "cell_type": "code",
   "execution_count": null,
   "metadata": {},
   "outputs": [],
   "source": [
    "openai.api_key = davinci_api_key\n",
    "openai.api_type = \"azure\"\n",
    "openai.api_base = davinci_endpoint\n",
    "openai.api_version = davinci_api_version\n",
    "\n",
    "\n",
    "response = openai.Completion.create(\n",
    "    engine=davinci_deployment_name, \n",
    "    prompt=\"Say this is a test\", \n",
    "    temperature=0.7, \n",
    "    max_tokens=100)\n",
    "\n",
    "response.choices[0].text"
   ]
  },
  {
   "attachments": {},
   "cell_type": "markdown",
   "metadata": {},
   "source": [
    "# Generate Text"
   ]
  },
  {
   "cell_type": "code",
   "execution_count": null,
   "metadata": {},
   "outputs": [],
   "source": [
    "openai.api_key = davinci_api_key\n",
    "openai.api_base = davinci_endpoint\n",
    "\n",
    "openai.api_type = \"azure\"\n",
    "openai.api_version = davinci_api_version\n",
    "\n",
    "# Create a prompt\n",
    "prompt = \"Once upon a time\"\n",
    "\n",
    "# Call the OpenAI API to generate text\n",
    "response = openai.ChatCompletion.create(\n",
    "    engine=davinci_deployment_name,\n",
    "    messages = [{ \"role\": \"user\", \n",
    "                \"content\": prompt}],\n",
    ")"
   ]
  },
  {
   "attachments": {},
   "cell_type": "markdown",
   "metadata": {},
   "source": [
    "# Summarise Example"
   ]
  },
  {
   "cell_type": "code",
   "execution_count": null,
   "metadata": {},
   "outputs": [],
   "source": [
    "# string text over multiple lines\n",
    "\n",
    "prompt = '''\n",
    "Summarize this for a college student:\n",
    "\n",
    "Jupiter is the fifth planet from the Sun and the largest in the Solar System. It is a gas giant with a mass one-thousandth that of the Sun, but two-and-a-half times that of all the other planets in the Solar System combined. Jupiter is one of the brightest objects visible to the naked eye in the night sky, and has been known to ancient civilizations since before recorded history. It is named after the Roman god Jupiter.[19] When viewed from Earth, Jupiter can be bright enough for its reflected light to cast visible shadows,[20] and is on average the third-brightest natural object in the night sky after the Moon and Venus.\n",
    "'''\n",
    "response = openai.Completion.create(\n",
    "    engine=davinci_deployment_name, \n",
    "    prompt=prompt, \n",
    "    temperature=1, \n",
    "    max_tokens=1000\n",
    "    )\n",
    "print(response.choices[0].text)\n",
    "print(len(response.choices[0].text))\n",
    "print(response.usage)"
   ]
  },
  {
   "attachments": {},
   "cell_type": "markdown",
   "metadata": {},
   "source": [
    "# Extract Structured information "
   ]
  },
  {
   "cell_type": "code",
   "execution_count": null,
   "metadata": {},
   "outputs": [],
   "source": [
    "prompt = \"\"\"Diabetes Facts and Statistics\n",
    "Diabetes is a disease that occurs when your blood glucose, also called blood sugar, is too high. High blood glucose can cause other health problems over time, such as heart disease, nerve damage, eye problems, and kidney disease. The most common types of diabetes are type 1, type 2, and gestational.\n",
    "\n",
    "Estimated prevalence of diabetes in the United States\n",
    "Total: 37.3 million people of all ages had diabetes (11.3% of the population) in 2019. 37.1 million were adults ages 18 years or older.\n",
    "Diagnosed: 28.7 million people of all ages had been diagnosed with diabetes (8.7% of the population).\n",
    "28.5 million were adults ages 18 years or older.\n",
    "283,000 were children and adolescents younger than age 20, including 244,000 with type 1 diabetes.\n",
    "Undiagnosed: 8.5 million adults ages 18 years or older had diabetes but were undiagnosed (23% of adults with diabetes were undiagnosed).\n",
    "Read about the estimates of diabetes in the United States External link and the prevalence of both diagnosed and undiagnosed diabetes External link in the National Diabetes Statistics Report from the Centers for Disease Control and Prevention (CDC).\n",
    "\n",
    "According to the American Diabetes Association’s Economic Costs of Diabetes in the U.S. External link, the total estimated cost of diagnosed diabetes in 2017 was $327 billion, including $237 billion in direct medical costs and $90 billion in reduced productivity.\n",
    "\n",
    "\n",
    "extract key stats and present in json format:\n",
    "\n",
    "\"\"\""
   ]
  },
  {
   "cell_type": "code",
   "execution_count": null,
   "metadata": {},
   "outputs": [],
   "source": [
    "response = openai.Completion.create(\n",
    "    engine=davinci_deployment_name, \n",
    "    prompt=prompt, \n",
    "    temperature=0.7, \n",
    "    max_tokens=2000\n",
    "    )\n",
    "print(response.choices[0].text)\n",
    "print(len(response.choices[0].text))\n",
    "print(response.usage)"
   ]
  },
  {
   "attachments": {},
   "cell_type": "markdown",
   "metadata": {},
   "source": [
    "# Get List of Deployment"
   ]
  },
  {
   "cell_type": "code",
   "execution_count": null,
   "metadata": {},
   "outputs": [],
   "source": [
    "print(openai.version.VERSION)\n",
    "deloymentopject = openai.Deployment.list()\n",
    "for d in deloymentopject.data: \n",
    "    print(f'{d.id}')"
   ]
  }
 ],
 "metadata": {
  "kernelspec": {
   "display_name": "py_openai_flask",
   "language": "python",
   "name": "python3"
  },
  "language_info": {
   "codemirror_mode": {
    "name": "ipython",
    "version": 3
   },
   "file_extension": ".py",
   "mimetype": "text/x-python",
   "name": "python",
   "nbconvert_exporter": "python",
   "pygments_lexer": "ipython3",
   "version": "3.9.16"
  },
  "orig_nbformat": 4,
  "vscode": {
   "interpreter": {
    "hash": "92836d5847e89f8aa7c18ec03f1ff5f6340329da37dfd1e6beef34d30823ef97"
   }
  }
 },
 "nbformat": 4,
 "nbformat_minor": 2
}
