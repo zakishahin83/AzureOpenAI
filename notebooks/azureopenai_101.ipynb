{
 "cells": [
  {
   "cell_type": "code",
   "execution_count": 9,
   "metadata": {},
   "outputs": [
    {
     "name": "stdout",
     "output_type": "stream",
     "text": [
      "\n",
      "\n",
      "there was a young girl named Alice who lived in a small village by the sea. Alice was a very curious and adventurous girl, and she loved exploring the world around her.\n",
      "\n",
      "One day, Alice decided to go for a walk outside the village. She walked for what felt like hours, until she arrived at a beautiful and mysterious forest. Alice had never seen a forest like this before, so she decided to venture inside.\n",
      "\n",
      "Alice walked for a while, marveling at the\n",
      "length\n"
     ]
    }
   ],
   "source": [
    "import openai\n",
    "import os\n",
    "import configparser\n",
    "# Set your OpenAI API key and endpoint URL\n",
    "config = configparser.ConfigParser()\n",
    "config.read('secret.ini')\n",
    "\n",
    "openai.api_key = config['azureopenai']['api_key']\n",
    "openai.api_base = config['azureopenai']['endpoint']\n",
    "\n",
    "\n",
    "openai.api_type = \"azure\"\n",
    "openai.api_version = \"2022-12-01\"\n",
    "\n",
    "#url = openai.api_base + \"/openai/deployments?api-version=2022-12-01\"\n",
    "\n",
    "# Create a prompt\n",
    "prompt = \"Once upon a time\"\n",
    "\n",
    "# Call the OpenAI API to generate text\n",
    "response = openai.Completion.create(\n",
    "    engine=\"text-davinci-003\",\n",
    "    prompt=prompt,\n",
    "    max_tokens=100\n",
    ")\n",
    "\n",
    "# Print the generated text\n",
    "print(response.choices[0].text)\n",
    "print(response.choices[0].finish_reason)"
   ]
  },
  {
   "cell_type": "code",
   "execution_count": 10,
   "metadata": {},
   "outputs": [
    {
     "name": "stdout",
     "output_type": "stream",
     "text": [
      "\n",
      "Jupiter, the fifth planet from the Sun, is the largest in the Solar System and a gas giant with immensely impressive mass. Its existence has not only been observed since the dawn of recorded history, but it has also been venerated in the mythologies of many ancient civilizations, including the Romans, who named the celestial body after their god Jupiter. Its prominence in the night sky is incredibly striking due to its radiant brightness, being the third brightest natural object in the night sky after the Moon and Venus. Its brightness is so powerful as to cast visible shadows in earth-bound telescope perspectives. The study of Jupiter is a substantial field of astronomical inquiry and its impact and implications to the Solar System and beyond are considerable.\n",
      "772\n",
      "{\n",
      "  \"completion_tokens\": 144,\n",
      "  \"prompt_tokens\": 156,\n",
      "  \"total_tokens\": 300\n",
      "}\n"
     ]
    }
   ],
   "source": [
    "# string text over multiple lines\n",
    "\n",
    "prompt = '''\n",
    "Jupiter is the fifth planet from the Sun and the largest in the Solar System. \n",
    "It is a gas giant with a mass one-thousandth that of the Sun, but two-and-a-half times that of all the other planets in the Solar System combined. \n",
    "Jupiter is one of the brightest objects visible to the naked eye in the night sky, and has been known to ancient civilizations since before recorded history. \n",
    "It is named after the Roman god Jupiter.[19] When viewed from Earth, Jupiter can be bright enough for its reflected light to cast visible shadows,[20] and is on average the third-brightest natural object in the night sky after the Moon and Venus.\n",
    "\n",
    "\n",
    "write scholarly introduction to Jupiter: \n",
    "'''\n",
    "response = openai.Completion.create(\n",
    "    engine=\"text-davinci-003\", \n",
    "    prompt=prompt, \n",
    "    temperature=1, \n",
    "    max_tokens=1000)\n",
    "print(response.choices[0].text)\n",
    "print(len(response.choices[0].text))\n",
    "print(response.usage)"
   ]
  },
  {
   "cell_type": "code",
   "execution_count": 11,
   "metadata": {},
   "outputs": [
    {
     "name": "stdout",
     "output_type": "stream",
     "text": [
      "{\n",
      "  \"data\": [\n",
      "    {\n",
      "      \"created_at\": 1676944802,\n",
      "      \"id\": \"text-embedding-ada-002\",\n",
      "      \"model\": \"text-embedding-ada-002\",\n",
      "      \"object\": \"deployment\",\n",
      "      \"owner\": \"organization-owner\",\n",
      "      \"scale_settings\": {\n",
      "        \"scale_type\": \"standard\"\n",
      "      },\n",
      "      \"status\": \"succeeded\",\n",
      "      \"updated_at\": 1676944802\n",
      "    },\n",
      "    {\n",
      "      \"created_at\": 1676953378,\n",
      "      \"id\": \"text-search-davinci-query-001\",\n",
      "      \"model\": \"text-search-davinci-query-001\",\n",
      "      \"object\": \"deployment\",\n",
      "      \"owner\": \"organization-owner\",\n",
      "      \"scale_settings\": {\n",
      "        \"scale_type\": \"standard\"\n",
      "      },\n",
      "      \"status\": \"succeeded\",\n",
      "      \"updated_at\": 1676953378\n",
      "    },\n",
      "    {\n",
      "      \"created_at\": 1676953401,\n",
      "      \"id\": \"text-search-davinci-doc-001\",\n",
      "      \"model\": \"text-search-davinci-doc-001\",\n",
      "      \"object\": \"deployment\",\n",
      "      \"owner\": \"organization-owner\",\n",
      "      \"scale_settings\": {\n",
      "        \"scale_type\": \"standard\"\n",
      "      },\n",
      "      \"status\": \"succeeded\",\n",
      "      \"updated_at\": 1676953401\n",
      "    },\n",
      "    {\n",
      "      \"created_at\": 1678245750,\n",
      "      \"id\": \"text-davinci-003\",\n",
      "      \"model\": \"text-davinci-003\",\n",
      "      \"object\": \"deployment\",\n",
      "      \"owner\": \"organization-owner\",\n",
      "      \"scale_settings\": {\n",
      "        \"scale_type\": \"standard\"\n",
      "      },\n",
      "      \"status\": \"succeeded\",\n",
      "      \"updated_at\": 1678245750\n",
      "    },\n",
      "    {\n",
      "      \"created_at\": 1678425726,\n",
      "      \"id\": \"gpt-35-turbo\",\n",
      "      \"model\": \"gpt-35-turbo\",\n",
      "      \"object\": \"deployment\",\n",
      "      \"owner\": \"organization-owner\",\n",
      "      \"scale_settings\": {\n",
      "        \"scale_type\": \"standard\"\n",
      "      },\n",
      "      \"status\": \"succeeded\",\n",
      "      \"updated_at\": 1678425726\n",
      "    }\n",
      "  ],\n",
      "  \"object\": \"list\"\n",
      "}\n"
     ]
    }
   ],
   "source": [
    "print(openai.Deployment.list())"
   ]
  },
  {
   "cell_type": "code",
   "execution_count": 18,
   "metadata": {},
   "outputs": [
    {
     "name": "stdout",
     "output_type": "stream",
     "text": [
      "<|im_start|>system \n",
      "Assistant can answer questions. \n",
      "<|im_end|> \n",
      "<|im_start|>user \n",
      "are you a chatbot?\n",
      "<|im_end|> \n",
      "<|im_start|>assistant \n"
     ]
    }
   ],
   "source": [
    "userinput = 'are you a chatbot?'\n",
    "\n",
    "prompt = f\"\"\"<|im_start|>system \n",
    "Assistant can answer questions. \n",
    "<|im_end|> \n",
    "<|im_start|>user \n",
    "{userinput}\n",
    "<|im_end|> \n",
    "<|im_start|>assistant \"\"\"\n",
    "print(prompt)"
   ]
  },
  {
   "cell_type": "code",
   "execution_count": 21,
   "metadata": {},
   "outputs": [
    {
     "name": "stdout",
     "output_type": "stream",
     "text": [
      "\n",
      "Yes, I am a chatbot.\n",
      "21\n",
      "{\n",
      "  \"completion_tokens\": 9,\n",
      "  \"prompt_tokens\": 62,\n",
      "  \"total_tokens\": 71\n",
      "}\n"
     ]
    }
   ],
   "source": [
    "response = openai.Completion.create(\n",
    "    engine=\"text-davinci-003\", \n",
    "    prompt=prompt, \n",
    "    temperature=1, \n",
    "    max_tokens=1000)\n",
    "print(response.choices[0].text)\n",
    "print(len(response.choices[0].text))\n",
    "print(response.usage)"
   ]
  },
  {
   "cell_type": "code",
   "execution_count": 20,
   "metadata": {},
   "outputs": [
    {
     "name": "stdout",
     "output_type": "stream",
     "text": [
      "\n",
      "\n",
      "No, I am not a chatbot.\n",
      "25\n",
      "{\n",
      "  \"completion_tokens\": 11,\n",
      "  \"prompt_tokens\": 6,\n",
      "  \"total_tokens\": 17\n",
      "}\n"
     ]
    }
   ],
   "source": [
    "response = openai.Completion.create(\n",
    "    engine=\"text-davinci-003\", \n",
    "    prompt=userinput, \n",
    "    temperature=1, \n",
    "    max_tokens=1000)\n",
    "print(response.choices[0].text)\n",
    "print(len(response.choices[0].text))\n",
    "print(response.usage)"
   ]
  },
  {
   "cell_type": "code",
   "execution_count": null,
   "metadata": {},
   "outputs": [],
   "source": []
  }
 ],
 "metadata": {
  "kernelspec": {
   "display_name": "py_openai_flask",
   "language": "python",
   "name": "python3"
  },
  "language_info": {
   "codemirror_mode": {
    "name": "ipython",
    "version": 3
   },
   "file_extension": ".py",
   "mimetype": "text/x-python",
   "name": "python",
   "nbconvert_exporter": "python",
   "pygments_lexer": "ipython3",
   "version": "3.9.16"
  },
  "orig_nbformat": 4,
  "vscode": {
   "interpreter": {
    "hash": "92836d5847e89f8aa7c18ec03f1ff5f6340329da37dfd1e6beef34d30823ef97"
   }
  }
 },
 "nbformat": 4,
 "nbformat_minor": 2
}
