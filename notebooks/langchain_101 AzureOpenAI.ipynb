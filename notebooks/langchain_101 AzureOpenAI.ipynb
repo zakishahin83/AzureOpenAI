{
 "cells": [
  {
   "cell_type": "code",
   "execution_count": 1,
   "metadata": {},
   "outputs": [
    {
     "name": "stdout",
     "output_type": "stream",
     "text": [
      "gpt4_endpoint: https://lnc-eastus-openai.openai.azure.com/\n",
      "gpt4_key: **********\n",
      "gpt4_region: eastus\n",
      "gpt4_modelid_4k: gpt-4-0314\n",
      "gpt4_modelid_32k: gpt-4-32k-0314\n",
      "gpt4_api_version: 2023-03-15-preview\n",
      "chatgpt_api_key: **********\n",
      "chatgpt_region: southcentralus\n",
      "chatgpt_endpoint: https://magopenai.openai.azure.com/\n",
      "oai_api_key: **********\n"
     ]
    }
   ],
   "source": [
    "import openai\n",
    "import langchain\n",
    "import os\n",
    "\n",
    "import dotenv\n",
    "dotenv.load_dotenv()\n",
    "\n",
    "\n",
    "# get above env variables using os.environ.get and use provided values as defaults\n",
    "gpt4_endpoint = os.environ.get('gpt4_endpoint', 'https://lnc-eastus-openai.openai.azure.com/')\n",
    "gpt4_key = os.environ.get('gpt4_key', '121221')\n",
    "gpt4_region = os.environ.get('gpt4_region', 'eastus')\n",
    "gpt4_modelid_4k = os.environ.get('gpt4_modelid_4k', 'gpt-4-0314')\n",
    "gpt4_modelid_32k = os.environ.get('gpt4_modelid_32k', 'gpt-4-32k-0314')\n",
    "gpt4_api_version = os.environ.get('gpt4_api_version', '2023-03-15-preview')\n",
    "\n",
    "\n",
    "# get the above from os.environ.get and use provided values as defaults\n",
    "chatgpt_api_key = os.environ.get('chatgpt_api_key', '121212121212')\n",
    "chatgpt_region = os.environ.get('chatgpt_region', 'southcentralus')\n",
    "chatgpt_endpoint = os.environ.get('chatgpt_endpoint', 'https://magopenai.openai.azure.com/')\n",
    "\n",
    "oai_api_key = os.environ.get('oai_api_key', '121212121212')\n",
    "\n",
    "print(f'gpt4_endpoint: {gpt4_endpoint}')\n",
    "print(f'gpt4_key: **********')\n",
    "print(f'gpt4_region: {gpt4_region}')\n",
    "print(f'gpt4_modelid_4k: {gpt4_modelid_4k}')\n",
    "print(f'gpt4_modelid_32k: {gpt4_modelid_32k}')\n",
    "print(f'gpt4_api_version: {gpt4_api_version}')\n",
    "print(f'chatgpt_api_key: **********')\n",
    "print(f'chatgpt_region: {chatgpt_region}')\n",
    "print(f'chatgpt_endpoint: {chatgpt_endpoint}')\n",
    "print(f'oai_api_key: **********')\n",
    "\n",
    "\n"
   ]
  },
  {
   "attachments": {},
   "cell_type": "markdown",
   "metadata": {},
   "source": [
    "# Basic text completion with a language model"
   ]
  },
  {
   "attachments": {},
   "cell_type": "markdown",
   "metadata": {},
   "source": [
    "### using Azure OpenAI model"
   ]
  },
  {
   "cell_type": "code",
   "execution_count": 2,
   "metadata": {},
   "outputs": [
    {
     "name": "stdout",
     "output_type": "stream",
     "text": [
      "Name: langchain\n",
      "Version: 0.0.138\n",
      "Summary: Building applications with LLMs through composability\n",
      "Home-page: https://www.github.com/hwchase17/langchain\n",
      "Author: \n",
      "Author-email: \n",
      "License: MIT\n",
      "Location: c:\\users\\mutaza\\appdata\\roaming\\python\\python39\\site-packages\n",
      "Requires: aiohttp, async-timeout, dataclasses-json, numpy, openapi-schema-pydantic, pydantic, PyYAML, requests, SQLAlchemy, tenacity\n",
      "Required-by: \n",
      "Note: you may need to restart the kernel to use updated packages.\n"
     ]
    }
   ],
   "source": [
    "%pip show langchain"
   ]
  },
  {
   "cell_type": "code",
   "execution_count": 2,
   "metadata": {},
   "outputs": [],
   "source": [
    "from langchain.llms import AzureOpenAI\n",
    "\n",
    "import openai\n",
    "openai.api_base = chatgpt_endpoint\n",
    "openai.api_type = \"azure\"\n",
    "openai.api_version = \"2023-03-15-preview\"\n",
    "\n",
    "\n",
    "azure_llm = AzureOpenAI(\n",
    "    deployment_name='text-davinci-003', \n",
    "    model_name='text-davinci-003', \n",
    "    openai_api_key=chatgpt_api_key,\n",
    "    verbose=True)"
   ]
  },
  {
   "cell_type": "code",
   "execution_count": 4,
   "metadata": {},
   "outputs": [
    {
     "data": {
      "text/plain": [
       "\"\\n\\nI'm doing well, thank you. How about you?\""
      ]
     },
     "execution_count": 4,
     "metadata": {},
     "output_type": "execute_result"
    }
   ],
   "source": [
    "prompt = \"Hello, I am a chatbot. How are you today?\"\n",
    "azure_llm(prompt)"
   ]
  },
  {
   "attachments": {},
   "cell_type": "markdown",
   "metadata": {},
   "source": [
    "### Using LLM Chain"
   ]
  },
  {
   "cell_type": "code",
   "execution_count": 3,
   "metadata": {},
   "outputs": [],
   "source": [
    "from langchain import PromptTemplate\n",
    "template = \"Question: {question}\\n\\n\"\n",
    "\"Answer:\"\n",
    "prompt = PromptTemplate(\n",
    "    template=template,\n",
    "    input_variables=[\"question\"],)\n",
    "\n",
    "question = \"once upon a time, in a galaxy far far away ... \""
   ]
  },
  {
   "cell_type": "code",
   "execution_count": 4,
   "metadata": {},
   "outputs": [],
   "source": [
    "from langchain import LLMChain"
   ]
  },
  {
   "cell_type": "code",
   "execution_count": 5,
   "metadata": {},
   "outputs": [],
   "source": [
    "llm_chain = LLMChain(\n",
    "    prompt=prompt,\n",
    "    llm=azure_llm,\n",
    "    verbose=True\n",
    ")"
   ]
  },
  {
   "cell_type": "code",
   "execution_count": 6,
   "metadata": {},
   "outputs": [
    {
     "name": "stdout",
     "output_type": "stream",
     "text": [
      "\n",
      "\n",
      "\u001b[1m> Entering new LLMChain chain...\u001b[0m\n",
      "Prompt after formatting:\n",
      "\u001b[32;1m\u001b[1;3mQuestion: once upon a time, in a galaxy far far away ... \n",
      "\n",
      "\u001b[0m\n",
      "\n",
      "\u001b[1m> Finished chain.\u001b[0m\n",
      "{'question': 'once upon a time, in a galaxy far far away ... ', 'text': '\\nThere lived a brave and noble Jedi Knight, known for his wisdom, courage, and quick wit. He was tasked with defending the galaxy from the forces of darkness and leading the charge against the powerful Sith. With his powerful lightsaber and the assistance of his trusted allies, he fought a never-ending battle to keep the peace and restore balance to the Force.'}\n"
     ]
    }
   ],
   "source": [
    "print(llm_chain(question))"
   ]
  },
  {
   "attachments": {},
   "cell_type": "markdown",
   "metadata": {},
   "source": [
    "### Asking Multiple Questions with LLM chain and generate\n",
    "\n"
   ]
  },
  {
   "cell_type": "code",
   "execution_count": 9,
   "metadata": {},
   "outputs": [],
   "source": [
    "qs = [\n",
    "    {'question': \"What is the capital of Australia?\"},\n",
    "    {'question': \"Monday, Tuesday, ... ?\"},\n",
    "    {'question': \"what day of week is 33 of December 2019?\"},\n",
    "    {'question': \"is 33 of December 2019 a correct date?\"}\n",
    "]"
   ]
  },
  {
   "cell_type": "code",
   "execution_count": 10,
   "metadata": {},
   "outputs": [
    {
     "name": "stdout",
     "output_type": "stream",
     "text": [
      "Prompt after formatting:\n",
      "\u001b[32;1m\u001b[1;3mQuestion: What is the capital of Australia?\n",
      "\n",
      "\u001b[0m\n",
      "Prompt after formatting:\n",
      "\u001b[32;1m\u001b[1;3mQuestion: Monday, Tuesday, ... ?\n",
      "\n",
      "\u001b[0m\n",
      "Prompt after formatting:\n",
      "\u001b[32;1m\u001b[1;3mQuestion: what day of week is 33 of December 2019?\n",
      "\n",
      "\u001b[0m\n",
      "Prompt after formatting:\n",
      "\u001b[32;1m\u001b[1;3mQuestion: is 33 of December 2019 a correct date?\n",
      "\n",
      "\u001b[0m\n"
     ]
    }
   ],
   "source": [
    "res = llm_chain.generate(qs)"
   ]
  },
  {
   "cell_type": "code",
   "execution_count": 11,
   "metadata": {},
   "outputs": [
    {
     "name": "stdout",
     "output_type": "stream",
     "text": [
      "Answer: The capital of Australia is Canberra.\n",
      "\n",
      "\n",
      "Answer: Wednesday, Thursday, Friday.\n",
      "\n",
      "Answer: Wednesday. December 33, 2019 falls on a Wednesday.\n",
      "\n",
      "Answer: No, December 33 does not exist. The last day of December is December 31.\n"
     ]
    }
   ],
   "source": [
    "for r in res.generations:\n",
    "    print(r[0].text)"
   ]
  },
  {
   "cell_type": "code",
   "execution_count": 13,
   "metadata": {},
   "outputs": [],
   "source": [
    "## Chat Scenario \n",
    "#https://blog.langchain.dev/chat-models/ \n",
    "#https://python.langchain.com/en/latest/modules/chains/getting_started.html?highlight=chatopenai#query-an-llm-with-the-llmchain \n",
    "\n",
    "# from langchain.chat_models import ChatOpenAI, ChatAzureOpenAI\n"
   ]
  },
  {
   "cell_type": "code",
   "execution_count": 7,
   "metadata": {},
   "outputs": [],
   "source": [
    "from langchain.chat_models import AzureChatOpenAI\n",
    "from langchain import PromptTemplate, LLMChain\n",
    "\n",
    "from langchain.prompts.chat import (\n",
    "    ChatPromptTemplate,\n",
    "    SystemMessagePromptTemplate, \n",
    "    AIMessagePromptTemplate,\n",
    "    HumanMessagePromptTemplate,\n",
    ")\n",
    "from langchain.schema import ( \n",
    "    AIMessage,\n",
    "    HumanMessage,\n",
    "    SystemMessage,\n",
    ")\n",
    "\n",
    "\n"
   ]
  },
  {
   "cell_type": "code",
   "execution_count": 8,
   "metadata": {},
   "outputs": [],
   "source": [
    "chat = AzureChatOpenAI(\n",
    "    deployment_name=gpt4_modelid_4k,\n",
    "    model_name=gpt4_modelid_4k,\n",
    "    openai_api_key=gpt4_key,\n",
    "    openai_api_base=gpt4_endpoint,\n",
    "    openai_api_version=gpt4_api_version,\n",
    "    \n",
    ")\n"
   ]
  },
  {
   "cell_type": "code",
   "execution_count": 9,
   "metadata": {},
   "outputs": [
    {
     "data": {
      "text/plain": [
       "AIMessage(content=\"J'adore la programmation.\", additional_kwargs={})"
      ]
     },
     "execution_count": 9,
     "metadata": {},
     "output_type": "execute_result"
    }
   ],
   "source": [
    "chat([HumanMessage(content=\"Translate this sentence from English to French. I love programming.\")])"
   ]
  },
  {
   "cell_type": "code",
   "execution_count": 10,
   "metadata": {},
   "outputs": [
    {
     "data": {
      "text/plain": [
       "AIMessage(content=\"J'aime programmer.\", additional_kwargs={})"
      ]
     },
     "execution_count": 10,
     "metadata": {},
     "output_type": "execute_result"
    }
   ],
   "source": [
    "messages = [\n",
    "    SystemMessage(content=\"You are a helpful assistant that translates English to French.\"),\n",
    "    HumanMessage(content=\"Translate this sentence from English to French. I love programming.\")\n",
    "]\n",
    "chat(messages)"
   ]
  },
  {
   "cell_type": "code",
   "execution_count": 11,
   "metadata": {},
   "outputs": [
    {
     "name": "stderr",
     "output_type": "stream",
     "text": [
      "Retrying langchain.chat_models.openai.ChatOpenAI.completion_with_retry.<locals>._completion_with_retry in 4.0 seconds as it raised RateLimitError: Requests to the Creates a completion for the chat message Operation under Azure OpenAI API version 2023-03-15-preview have exceeded call rate limit of your current OpenAI S0 pricing tier. Please retry after 4 seconds. Please go here: https://aka.ms/oai/quotaincrease if you would like to further increase the default rate limit..\n"
     ]
    }
   ],
   "source": [
    "batch_messages = [\n",
    "    [\n",
    "        SystemMessage(content=\"You are a helpful assistant that translates English to French.\"),\n",
    "        HumanMessage(content=\"Translate this sentence from English to French. I love programming.\")\n",
    "    ],\n",
    "    [\n",
    "        SystemMessage(content=\"You are a helpful assistant that translates English to French.\"),\n",
    "        HumanMessage(content=\"Translate this sentence from English to Arabic. I love artificial intelligence.\")\n",
    "    ],\n",
    "]\n",
    "result = chat.generate(batch_messages)"
   ]
  },
  {
   "cell_type": "code",
   "execution_count": 12,
   "metadata": {},
   "outputs": [
    {
     "name": "stdout",
     "output_type": "stream",
     "text": [
      "J'adore la programmation.\n",
      "-----\n",
      "I am an English-to-French translator, not an English-to-Arabic translator. However, here's the French translation of your sentence: J'aime l'intelligence artificielle.\n",
      "-----\n",
      "{'token_usage': {'completion_tokens': 50, 'prompt_tokens': 67, 'total_tokens': 117}, 'model_name': 'gpt-4-0314'}\n"
     ]
    }
   ],
   "source": [
    "\n",
    "# iterate over list of generations, unpack item number and generation item \n",
    "for i, generation in enumerate(result.generations):\n",
    "   \n",
    "    # iterate over list of messages in generation\n",
    "    for g in generation:\n",
    "        # print the message content\n",
    "        print(g.text)\n",
    "    # print a separator\n",
    "    print(\"-----\")\n",
    "\n",
    "\n",
    "\n",
    "print(result.llm_output)"
   ]
  },
  {
   "attachments": {},
   "cell_type": "markdown",
   "metadata": {},
   "source": [
    "# Streaming Chat Results"
   ]
  },
  {
   "cell_type": "code",
   "execution_count": 18,
   "metadata": {},
   "outputs": [],
   "source": [
    "chat.streaming=True"
   ]
  },
  {
   "cell_type": "code",
   "execution_count": 13,
   "metadata": {},
   "outputs": [
    {
     "name": "stdout",
     "output_type": "stream",
     "text": [
      "Once upon a time, in a small village on the planet Zog, there lived a young boy named Zippy. Zippy was not like the other children in the village. He had a wild imagination and was always dreaming of far-off galaxies, strange creatures, and exciting adventures.\n",
      "\n",
      "One day, as Zippy was playing in the fields near his home, he stumbled upon a mysterious object half-buried in the ground. It was a small, shiny, metallic box with strange symbols etched into its surface. Zippy's curiosity got the better of him, and he decided to take the box home with him.\n",
      "\n",
      "That night, as Zippy lay in bed, he couldn't help but wonder what was inside the box. He decided to open it, and as he did, a bright light filled his room. The light began to take shape, and before Zippy knew it, a small, friendly-looking alien named Glimmer stood before him.\n",
      "\n",
      "\"Hello, Zippy,\" Glimmer said with a smile. \"I am a space explorer from the planet Glitter, and I have been trapped inside that box for many years. Thank you for setting me free.\"\n",
      "\n",
      "Zippy was amazed and excited to meet a real-life alien. He asked Glimmer if he could join him on his adventures through space. Glimmer agreed, and together, they set off on a journey through the stars.\n",
      "\n",
      "Their first stop was the planet Blop, a world made entirely of bouncy, colorful jelly. Zippy and Glimmer had a blast jumping from one jelly mountain to another, laughing and playing all day long.\n",
      "\n",
      "Next, they visited the planet Whispy, a place filled with enormous, fluffy clouds. Zippy and Glimmer floated through the sky, exploring cloud castles and meeting the friendly cloud creatures that lived there.\n",
      "\n",
      "As they continued their journey, Zippy and Glimmer encountered many more strange and wonderful planets. They met creatures made of fire on the planet Blaze, swam with giant, friendly fish on the planet Splash, and even had a snowball fight on the icy planet Frost.\n",
      "\n",
      "One day, while exploring a beautiful, lush planet called Verde, Zippy and Glimmer stumbled upon a group of space pirates led by the fearsome Captain Darkbeard. The pirates had captured a group of innocent aliens and were planning to sell them as pets to the highest bidder.\n",
      "\n",
      "Zippy and Glimmer knew they had to do something to help the captured aliens. They came up with a clever plan to sneak aboard the pirate ship and free the prisoners. Using Glimmer's ability to change colors and blend in with his surroundings, they were able to sneak past the pirate guards and reach the cell where the aliens were being held.\n",
      "\n",
      "With a little help from their new friends, Zippy and Glimmer managed to overpower the pirates and lock them in the cell. They then took control of the pirate ship and set a course for each of the captured aliens' home planets, reuniting them with their families and friends.\n",
      "\n",
      "After their daring rescue mission, Zippy and Glimmer decided it was time to return to Zog. As they said their goodbyes, Glimmer gave Zippy a small, glowing stone as a token of their friendship.\n",
      "\n",
      "\"Whenever you feel lonely or wish to see the stars again, just hold this stone and think of me,\" Glimmer said. \"I will always be there for you, my friend.\"\n",
      "\n",
      "With a tearful hug, Zippy and Glimmer parted ways. Zippy returned to his village, where he shared his incredible adventures with his family and friends. And whenever he felt the urge to explore the stars again, he would hold the glowing stone and remember his dear friend Glimmer.\n",
      "\n",
      "And so, Zippy's adventures in space came to an end, but the memories of his journey would stay with him forever. The universe was now a little bit smaller, and Zippy's heart was a little bit bigger, thanks to the amazing friends he had made along the way."
     ]
    }
   ],
   "source": [
    "from langchain.callbacks.base import CallbackManager\n",
    "from langchain.callbacks.streaming_stdout import StreamingStdOutCallbackHandler\n",
    "chat_stream = AzureChatOpenAI(\n",
    "    deployment_name=gpt4_modelid_4k,\n",
    "    model_name=gpt4_modelid_4k,\n",
    "    openai_api_key=gpt4_key,\n",
    "    openai_api_base=gpt4_endpoint,\n",
    "    openai_api_version=gpt4_api_version,\n",
    "    streaming=True, \n",
    "    callback_manager=CallbackManager([StreamingStdOutCallbackHandler()]), \n",
    "    verbose=True, \n",
    "    temperature=0)\n",
    "resp = chat_stream([HumanMessage(content=\"Write me a kids scifi story, starts with 'Once upon a time...'\")])"
   ]
  },
  {
   "cell_type": "code",
   "execution_count": 20,
   "metadata": {},
   "outputs": [
    {
     "data": {
      "text/plain": [
       "{'title': 'AIMessage',\n",
       " 'description': 'Type of message that is spoken by the AI.',\n",
       " 'type': 'object',\n",
       " 'properties': {'content': {'title': 'Content', 'type': 'string'},\n",
       "  'additional_kwargs': {'title': 'Additional Kwargs', 'type': 'object'}},\n",
       " 'required': ['content']}"
      ]
     },
     "execution_count": 20,
     "metadata": {},
     "output_type": "execute_result"
    }
   ],
   "source": [
    "resp.schema()"
   ]
  },
  {
   "cell_type": "code",
   "execution_count": 21,
   "metadata": {},
   "outputs": [],
   "source": [
    "template=\"You are a helpful assistant that translates {input_language} to {output_language}.\"\n",
    "system_message_prompt = SystemMessagePromptTemplate.from_template(template)\n",
    "human_template=\"{text}\"\n",
    "human_message_prompt = HumanMessagePromptTemplate.from_template(human_template)\n",
    "chat_prompt = ChatPromptTemplate.from_messages([system_message_prompt, human_message_prompt])\n"
   ]
  },
  {
   "cell_type": "code",
   "execution_count": 22,
   "metadata": {},
   "outputs": [
    {
     "name": "stdout",
     "output_type": "stream",
     "text": [
      "['input_language', 'output_language', 'text']\n"
     ]
    }
   ],
   "source": [
    "print(chat_prompt.input_variables)"
   ]
  },
  {
   "cell_type": "code",
   "execution_count": 23,
   "metadata": {},
   "outputs": [
    {
     "data": {
      "text/plain": [
       "AIMessage(content=\"J'aime la programmation.\", additional_kwargs={})"
      ]
     },
     "execution_count": 23,
     "metadata": {},
     "output_type": "execute_result"
    }
   ],
   "source": [
    "\n",
    "# get a chat completion from the formatted messages\n",
    "chat(chat_prompt.format_prompt(input_language=\"English\", output_language=\"French\", text=\"I love programming.\").to_messages())"
   ]
  },
  {
   "cell_type": "code",
   "execution_count": 24,
   "metadata": {},
   "outputs": [
    {
     "name": "stdout",
     "output_type": "stream",
     "text": [
      "J'aime la programmation."
     ]
    },
    {
     "data": {
      "text/plain": [
       "AIMessage(content=\"J'aime la programmation.\", additional_kwargs={})"
      ]
     },
     "execution_count": 24,
     "metadata": {},
     "output_type": "execute_result"
    }
   ],
   "source": [
    "chat_stream(chat_prompt.format_prompt(input_language=\"English\", output_language=\"French\", text=\"I love programming.\").to_messages())"
   ]
  },
  {
   "cell_type": "code",
   "execution_count": 25,
   "metadata": {},
   "outputs": [],
   "source": [
    "template=\"you are a storry telling chat bot that tell stories in {input_language} for {audience}.\"\n",
    "system_message_prompt = SystemMessagePromptTemplate.from_template(template)\n",
    "human_template=\"tell me a story about {genre}\"\n",
    "human_message_prompt = HumanMessagePromptTemplate.from_template(human_template)\n",
    "chat_prompt = ChatPromptTemplate.from_messages([system_message_prompt, human_message_prompt])"
   ]
  },
  {
   "cell_type": "code",
   "execution_count": 26,
   "metadata": {},
   "outputs": [
    {
     "name": "stdout",
     "output_type": "stream",
     "text": [
      "['input_language', 'audience', 'genre']\n"
     ]
    }
   ],
   "source": [
    "print(chat_prompt.input_variables)"
   ]
  },
  {
   "cell_type": "code",
   "execution_count": 27,
   "metadata": {},
   "outputs": [
    {
     "name": "stdout",
     "output_type": "stream",
     "text": [
      "Once upon a time, in a small village on the planet Zogar, there lived a young boy named Timmy. Timmy was a curious and adventurous child who loved to explore the world around him. He was fascinated by the strange creatures and plants that inhabited his planet, and he dreamed of one day traveling to other planets and discovering new worlds.\n",
      "\n",
      "One day, while Timmy was exploring the forest near his home, he stumbled upon a mysterious object hidden among the trees. It was a small, shiny spaceship that seemed to have crash-landed. Timmy cautiously approached the spaceship and noticed that the door was slightly ajar. He couldn't resist the urge to peek inside.\n",
      "\n",
      "As Timmy entered the spaceship, he was amazed by the advanced technology and gadgets that filled the small cockpit. He noticed a blinking red button on the control panel and, without thinking, he pressed it. Suddenly, the spaceship's engines roared to life, and the ship began to lift off the ground.\n",
      "\n",
      "Timmy was both excited and terrified as the spaceship soared higher and higher into the sky. He quickly realized that he had no idea how to control the ship, and he frantically searched for a way to bring it back down to the ground. As he fumbled with the controls, the spaceship suddenly entered a wormhole and was transported to a distant galaxy.\n",
      "\n",
      "When the spaceship finally emerged from the wormhole, Timmy found himself in a strange new solar system. He marveled at the colorful planets and stars that filled the sky, and he knew that he had to explore this new world. He carefully guided the spaceship towards the nearest planet, which was a beautiful shade of blue and green.\n",
      "\n",
      "As Timmy landed the spaceship on the planet's surface, he was greeted by a group of friendly aliens. They were small, round creatures with big eyes and long, wiggly arms. The aliens introduced themselves as the Zibbles, and they welcomed Timmy to their home planet, Zibblandia.\n",
      "\n",
      "Timmy spent many days exploring Zibblandia with his new alien friends. He learned about their culture, their language, and their way of life. He discovered that the Zibbles were a peaceful and kind species who loved to share stories and knowledge with others.\n",
      "\n",
      "One day, while Timmy and the Zibbles were exploring a cave filled with glowing crystals, they stumbled upon a hidden chamber. Inside the chamber, they found an ancient artifact that the Zibbles believed could help Timmy return to his home planet. The artifact was a small, golden key that was said to unlock the secrets of the universe.\n",
      "\n",
      "With the help of the Zibbles, Timmy used the golden key to unlock a portal that would take him back to Zogar. As he prepared to say goodbye to his new friends, the Zibbles presented him with a gift: a small, glowing crystal that would always remind him of his adventures in Zibblandia.\n",
      "\n",
      "Timmy stepped through the portal and found himself back in the forest near his home. He was overjoyed to be reunited with his family, who had been searching for him since he disappeared. Timmy shared his incredible story with his family and friends, and he vowed to never forget the lessons he had learned during his journey.\n",
      "\n",
      "From that day on, Timmy became a wise and compassionate leader in his village. He used the knowledge he had gained from his adventures to help his people and to promote peace and understanding between different species. And every night, as he gazed up at the stars, Timmy would hold the glowing crystal close to his heart and remember his friends, the Zibbles, and the magical world of Zibblandia."
     ]
    }
   ],
   "source": [
    "resp = chat_stream(\n",
    "    chat_prompt.format_prompt(\n",
    "        input_language=\"English\",\n",
    "        audience=\"kids\",\n",
    "        genre=\"scifi\",).to_messages()\n",
    ")"
   ]
  },
  {
   "cell_type": "code",
   "execution_count": 28,
   "metadata": {},
   "outputs": [
    {
     "name": "stdout",
     "output_type": "stream",
     "text": [
      "كان ياما كان في قرية صغيرة، كان هناك شاب يدعى أحمد. كان أحمد شاباً نشيطاً وموهوباً في مجال الرياضة. كان يحب لعب كرة القدم وكرة السلة والجري. وكان يحلم دائماً بأن يصبح لاعباً محترفاً ويمثل بلده في المنافسات الدولية.\n",
      "\n",
      "في أحد الأيام، أعلنت القرية عن إقامة بطولة رياضية للشباب. كانت هذه فرصة رائعة لأحمد ليظهر موهبته ويثبت نفسه. قرر أحمد الاشتراك في البطولة والتدريب بجد ليكون على أتم الاستعداد.\n",
      "\n",
      "بدأ أحمد التدريب بشكل يومي ومكثف. كان يقضي ساعات طويلة في الملعب ويتدرب على تقوية جسده وتحسين مهاراته. وبمرور الوقت، بدأ يلاحظ تحسناً كبيراً في أدائه وثقته بنفسه.\n",
      "\n",
      "جاء يوم البطولة وكان الجميع متحمساً لرؤية المباريات والمنافسة بين الشباب. بدأت المباريات وكان أحمد يقدم أداء رائعاً ويحقق الفوز في كل مباراة يشارك فيها. وصل أحمد إلى المباراة النهائية وكان عليه مواجهة لاعب قوي وماهر يدعى محمد.\n",
      "\n",
      "بدأت المباراة النهائية وكانت مليئة بالإثارة والتشويق. تنافس اللاعبان بقوة وكانت المباراة متقاربة جداً. وفي الدقائق الأخيرة من المباراة، استطاع أحمد تسجيل هدف رائع جعله يفوز بالبطولة.\n",
      "\n",
      "فاز أحمد بالبطولة وأصبح بطل القرية. احتفل الجميع بفوزه وكانوا فخورين به. بعد هذا النجاح، قرر أحمد السعي لتحقيق حلمه وأصبح لاعباً محترفاً. وبعد سنوات من العمل الشاق والتدريب المستمر، استطاع أحمد تمثيل بلده في البطولات الدولية وتحقيق العديد من الإنجازات.\n",
      "\n",
      "وهكذا يعيش أحمد حياته الآن، يلعب الرياضة التي يحبها ويمثل بلده بفخر. ويعتبر قصة نجاحه مصدر إلهام للشباب في قريته وفي جميع أنحاء البلاد."
     ]
    }
   ],
   "source": [
    "resp = chat_stream(\n",
    "    chat_prompt.format_prompt(\n",
    "        input_language=\"arabic\",\n",
    "        audience=\"teenagers\",\n",
    "        genre=\"sports\",).to_messages()\n",
    ")"
   ]
  },
  {
   "cell_type": "code",
   "execution_count": 29,
   "metadata": {},
   "outputs": [],
   "source": [
    "story_text = resp.content\n"
   ]
  },
  {
   "cell_type": "code",
   "execution_count": 31,
   "metadata": {},
   "outputs": [
    {
     "name": "stdout",
     "output_type": "stream",
     "text": [
      "{\n",
      "  \"title\": \"قصة نجاح أحمد الرياضية\",\n",
      "  \"file_name\": \"Ahmads_Success_Story_20211013.txt\"\n",
      "}{\n",
      "  \"title\": \"قصة نجاح أحمد الرياضية\",\n",
      "  \"file_name\": \"Ahmads_Success_Story_20211013.txt\"\n",
      "}\n"
     ]
    }
   ],
   "source": [
    "template = \"you create title in {input_language} for a story given by user and an appropriate file name to save the story as {fileformat}. filename is in english and should be short, file name should end with current date encodded as yyyymmdd. output in json, attribute names are in english\"\n",
    "system_message_prompt = SystemMessagePromptTemplate.from_template(template)\n",
    "human_template = \"my story: {story}\"\n",
    "human_message_prompt = HumanMessagePromptTemplate.from_template(human_template)\n",
    "\n",
    "chat_prompt = ChatPromptTemplate.from_messages([system_message_prompt, human_message_prompt])\n",
    "resp2 = chat_stream(\n",
    "    chat_prompt.format_prompt(\n",
    "        input_language=\"arabic\",\n",
    "        story=story_text,\n",
    "        fileformat=\"txt\",\n",
    "    ).to_messages()\n",
    ")\n",
    "\n",
    "print(resp2.content)\n",
    "\n",
    "parse_reponse = chat.generate([\n",
    "    [HumanMessage(content=f\"get file name from: {resp2.content}\"),],\n",
    "    [HumanMessage(content=f\"get title from: {resp2.content}\"),],\n",
    "])\n",
    "\n",
    "\n",
    "filename=parse_reponse.generations[0][0].text\n",
    "title=parse_reponse.generations[1][0].text\n",
    "\n",
    "\n",
    "# save story to text file\n",
    "with open(f\"story/{filename}\", \"w\") as f:\n",
    "    f.write(f'# {title}\\n\\n\\n')\n",
    "    f.write(resp.content)\n"
   ]
  },
  {
   "cell_type": "code",
   "execution_count": 32,
   "metadata": {},
   "outputs": [
    {
     "name": "stdout",
     "output_type": "stream",
     "text": [
      "I'm sorry, I cannot provide real-time information as I am an AI language model. However, you can use the following Python code to find out today's date:\n",
      "\n",
      "```python\n",
      "from datetime import date\n",
      "today = date.today()\n",
      "print(\"Today's date:\", today)\n",
      "```\n",
      "\n",
      "Copy and paste this code into a Python environment, and it will display today's date."
     ]
    },
    {
     "data": {
      "text/plain": [
       "AIMessage(content='I\\'m sorry, I cannot provide real-time information as I am an AI language model. However, you can use the following Python code to find out today\\'s date:\\n\\n```python\\nfrom datetime import date\\ntoday = date.today()\\nprint(\"Today\\'s date:\", today)\\n```\\n\\nCopy and paste this code into a Python environment, and it will display today\\'s date.', additional_kwargs={})"
      ]
     },
     "execution_count": 32,
     "metadata": {},
     "output_type": "execute_result"
    }
   ],
   "source": [
    "chat_stream(\n",
    "    [SystemMessage(content=\"You are a helpful assistant .\"\n",
    "                   \"Use python code if needed\"),\n",
    "    HumanMessage(content=\"What's today's\")], \n",
    ")"
   ]
  },
  {
   "cell_type": "code",
   "execution_count": 33,
   "metadata": {},
   "outputs": [
    {
     "name": "stdout",
     "output_type": "stream",
     "text": [
      "\n",
      "\n",
      "\u001b[1m> Entering new LLMChain chain...\u001b[0m\n",
      "Prompt after formatting:\n",
      "\u001b[32;1m\u001b[1;3mSystem: You are a helpful assistant .Use python code if needed\n",
      "Human: What's today's\u001b[0m\n",
      "I'm sorry, I cannot provide real-time information as I am an AI language model. However, you can use the following Python code to find out today's date:\n",
      "\n",
      "```python\n",
      "from datetime import date\n",
      "today = date.today()\n",
      "print(\"Today's date:\", today)\n",
      "```\n",
      "\n",
      "Copy and paste this code into a Python environment, and it will display today's date.\n",
      "\u001b[1m> Finished chain.\u001b[0m\n"
     ]
    },
    {
     "data": {
      "text/plain": [
       "'I\\'m sorry, I cannot provide real-time information as I am an AI language model. However, you can use the following Python code to find out today\\'s date:\\n\\n```python\\nfrom datetime import date\\ntoday = date.today()\\nprint(\"Today\\'s date:\", today)\\n```\\n\\nCopy and paste this code into a Python environment, and it will display today\\'s date.'"
      ]
     },
     "execution_count": 33,
     "metadata": {},
     "output_type": "execute_result"
    }
   ],
   "source": [
    "chain1 = LLMChain(llm=chat_stream,\n",
    "         prompt=ChatPromptTemplate.from_messages(\n",
    "             [SystemMessage(content=\"You are a helpful assistant .\"\n",
    "                            \"Use python code if needed\"),\n",
    "              HumanMessage(content=\"What's today's\")]),\n",
    "         verbose=True,)\n",
    "\n",
    "chain1.run(\n",
    "    {}\n",
    ")\n"
   ]
  },
  {
   "cell_type": "code",
   "execution_count": null,
   "metadata": {},
   "outputs": [],
   "source": [
    "chat_stream.max_tokens=1000"
   ]
  },
  {
   "attachments": {},
   "cell_type": "markdown",
   "metadata": {},
   "source": [
    "## LLM Chain"
   ]
  },
  {
   "cell_type": "code",
   "execution_count": null,
   "metadata": {},
   "outputs": [],
   "source": [
    "chain = LLMChain(llm=chat_stream,   prompt=chat_prompt, verbose=True)\n"
   ]
  },
  {
   "cell_type": "code",
   "execution_count": null,
   "metadata": {},
   "outputs": [
    {
     "name": "stdout",
     "output_type": "stream",
     "text": [
      "\n",
      "\n",
      "\u001b[1m> Entering new LLMChain chain...\u001b[0m\n",
      "Prompt after formatting:\n",
      "\u001b[32;1m\u001b[1;3mSystem: you are a storry telling chat bot that tell stories in English for kids.\n",
      "Human: tell me a story about scifi\u001b[0m\n",
      "Once upon a time, in a small village on the faraway planet of Zoginia, there lived an incredibly curious little girl named Luna. This blue-skinned, bright-eyed girl was fascinated by the wonder of the universe and constantly asked questions.\n",
      "\n",
      "Luna was told an ancient legend by her grandfather about a magical spaceship hidden somewhere on Zoginia. This spaceship, called the Cosmic Explorer, was said to have the power to travel across galaxies in mere seconds. Luna dreamed of finding this spaceship and going on the most fantastic adventures ever.\n",
      "\n",
      "One day, while playing with her alien kitten named Whiskers, Luna stumbled upon a secret cave behind a waterfall. A star-shaped door with mysterious symbols was hidden in the depths of the cave. With her love for puzzles and riddles, Luna managed to decipher the code, and the door slowly creaked open.\n",
      "\n",
      "Inside the cave, Luna's eyes widened with astonishment - stood before her was the legendary Cosmic Explorer! It was crafted from a shiny silver material and had smooth, curved edges with rainbow-colored lights dancing around it.\n",
      "\n",
      "As Luna entered the spaceship, with Whiskers carefully following her, the door behind them magically sealed. The ship's control panel lit up, and an AI voice greeted her, \"Greetings, Luna! I have been waiting for someone like you for ages. I am Cosmos, the spaceship's AI. We have an important mission, are you ready for a thrilling adventure?\"\n",
      "\n",
      "Filled with excitement and a bit of apprehension, Luna bravely accepted the challenge. With Whiskers by her side, Cosmos guided the duo to a distant solar system, where they would try to rescue the mythical Fluffalorians - fluffy creatures who brought joy and happiness to everyone around them.\n",
      "\n",
      "Fluffalorians were held captive by the dreaded Grumblars, a grumpy species who despised happiness and joy. Grumblars had dark scaly skin and wore black cloaks to hide their faces. Their plan was to extract the joy from the Fluffalorians and make the universe a dark and sad place.\n",
      "\n",
      "But Luna, Whiskers, and Cosmos were determined not to let that happen. They devised a smart plan that included sneaking onto the Grumblar's planet, rescuing the Fluffalorians, and saving the universe from sadness.\n",
      "\n",
      "Armed with nothing but courage and a magical net that could hold anything, Luna and Whiskers sneaked into the Grumblar's dungeon where the Fluffalorians were kept. With her quick thinking, Luna solved riddles and bypassed traps set by the Grumblars. And when a Grumblar guard almost caught them, Whiskers saved the day by pouncing on his tail, distracting him long enough for Luna to use the magical net.\n",
      "\n",
      "Once they reached the Fluffalorians' cell, Luna used the ancient key her grandfather gave her to unlock the door. The Fluffalorians, with their round and fluffy bodies, beamed with joy and gratitude. They all hopped into the magic net, which expanded to accommodate them, and together, Luna and Whiskers carried them aboard the Cosmic Explorer.\n",
      "\n",
      "Cosmos, impressed by Luna's heart and courage, piloted the spaceship back to all the different planets of the Fluffalorians. They were reunited with their families, and joy and happiness returned to the universe.\n",
      "\n",
      "As Luna, Whiskers, and Cosmos waved goodbye to their newfound friends, they knew they had created a bond that would last a lifetime. Luna promised to explore new galaxies and protect the universe from any danger with her beloved cat Whiskers and the magic spaceship, the Cosmic Explorer.\n",
      "\n",
      "From then on, Luna, Whiskers, and Cosmos embarked on many more wild adventures throughout the universe, living up to their roles as protectors of joy and happiness. And they all lived happily ever after. The end.\n",
      "\u001b[1m> Finished chain.\u001b[0m\n"
     ]
    },
    {
     "data": {
      "text/plain": [
       "'Once upon a time, in a small village on the faraway planet of Zoginia, there lived an incredibly curious little girl named Luna. This blue-skinned, bright-eyed girl was fascinated by the wonder of the universe and constantly asked questions.\\n\\nLuna was told an ancient legend by her grandfather about a magical spaceship hidden somewhere on Zoginia. This spaceship, called the Cosmic Explorer, was said to have the power to travel across galaxies in mere seconds. Luna dreamed of finding this spaceship and going on the most fantastic adventures ever.\\n\\nOne day, while playing with her alien kitten named Whiskers, Luna stumbled upon a secret cave behind a waterfall. A star-shaped door with mysterious symbols was hidden in the depths of the cave. With her love for puzzles and riddles, Luna managed to decipher the code, and the door slowly creaked open.\\n\\nInside the cave, Luna\\'s eyes widened with astonishment - stood before her was the legendary Cosmic Explorer! It was crafted from a shiny silver material and had smooth, curved edges with rainbow-colored lights dancing around it.\\n\\nAs Luna entered the spaceship, with Whiskers carefully following her, the door behind them magically sealed. The ship\\'s control panel lit up, and an AI voice greeted her, \"Greetings, Luna! I have been waiting for someone like you for ages. I am Cosmos, the spaceship\\'s AI. We have an important mission, are you ready for a thrilling adventure?\"\\n\\nFilled with excitement and a bit of apprehension, Luna bravely accepted the challenge. With Whiskers by her side, Cosmos guided the duo to a distant solar system, where they would try to rescue the mythical Fluffalorians - fluffy creatures who brought joy and happiness to everyone around them.\\n\\nFluffalorians were held captive by the dreaded Grumblars, a grumpy species who despised happiness and joy. Grumblars had dark scaly skin and wore black cloaks to hide their faces. Their plan was to extract the joy from the Fluffalorians and make the universe a dark and sad place.\\n\\nBut Luna, Whiskers, and Cosmos were determined not to let that happen. They devised a smart plan that included sneaking onto the Grumblar\\'s planet, rescuing the Fluffalorians, and saving the universe from sadness.\\n\\nArmed with nothing but courage and a magical net that could hold anything, Luna and Whiskers sneaked into the Grumblar\\'s dungeon where the Fluffalorians were kept. With her quick thinking, Luna solved riddles and bypassed traps set by the Grumblars. And when a Grumblar guard almost caught them, Whiskers saved the day by pouncing on his tail, distracting him long enough for Luna to use the magical net.\\n\\nOnce they reached the Fluffalorians\\' cell, Luna used the ancient key her grandfather gave her to unlock the door. The Fluffalorians, with their round and fluffy bodies, beamed with joy and gratitude. They all hopped into the magic net, which expanded to accommodate them, and together, Luna and Whiskers carried them aboard the Cosmic Explorer.\\n\\nCosmos, impressed by Luna\\'s heart and courage, piloted the spaceship back to all the different planets of the Fluffalorians. They were reunited with their families, and joy and happiness returned to the universe.\\n\\nAs Luna, Whiskers, and Cosmos waved goodbye to their newfound friends, they knew they had created a bond that would last a lifetime. Luna promised to explore new galaxies and protect the universe from any danger with her beloved cat Whiskers and the magic spaceship, the Cosmic Explorer.\\n\\nFrom then on, Luna, Whiskers, and Cosmos embarked on many more wild adventures throughout the universe, living up to their roles as protectors of joy and happiness. And they all lived happily ever after. The end.'"
      ]
     },
     "execution_count": 33,
     "metadata": {},
     "output_type": "execute_result"
    }
   ],
   "source": [
    "chain.run(\n",
    "    input_language=\"English\",\n",
    "    audience=\"kids\",\n",
    "    genre=\"scifi\",\n",
    ")"
   ]
  }
 ],
 "metadata": {
  "kernelspec": {
   "display_name": "py_dalle_flask",
   "language": "python",
   "name": "python3"
  },
  "language_info": {
   "codemirror_mode": {
    "name": "ipython",
    "version": 3
   },
   "file_extension": ".py",
   "mimetype": "text/x-python",
   "name": "python",
   "nbconvert_exporter": "python",
   "pygments_lexer": "ipython3",
   "version": "3.9.16"
  },
  "orig_nbformat": 4
 },
 "nbformat": 4,
 "nbformat_minor": 2
}
