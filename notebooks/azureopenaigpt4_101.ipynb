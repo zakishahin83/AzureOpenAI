{
 "cells": [
  {
   "cell_type": "code",
   "execution_count": 1,
   "metadata": {},
   "outputs": [
    {
     "name": "stdout",
     "output_type": "stream",
     "text": [
      "gpt4_endpoint: https://lnc-eastus-openai.openai.azure.com/\n",
      "gpt4_key: **********\n",
      "gpt4_region: eastus\n",
      "gpt4_modelid_4k: gpt-4-0314\n",
      "gpt4_modelid_32k: gpt-4-32k-0314\n",
      "gpt4_api_version: 2023-03-15-preview\n"
     ]
    }
   ],
   "source": [
    "import openai\n",
    "import os\n",
    "import configparser\n",
    "\n",
    "import dotenv\n",
    "dotenv.load_dotenv()\n",
    "\n",
    "\n",
    "# gpt4_endpoint = https://lnc-eastus-openai.openai.azure.com/\n",
    "# gpt4_key = 121221\n",
    "# gpt4_region = eastus\n",
    "# gpt4_modelid_4k =  gpt-4-0314\n",
    "# gpt4_modelid_32k =  gpt-4-32k-0314\n",
    "\n",
    "# get above env variables using os.environ.get and use provided values as defaults\n",
    "gpt4_endpoint = os.environ.get('gpt4_endpoint', 'https://lnc-eastus-openai.openai.azure.com/')\n",
    "gpt4_key = os.environ.get('gpt4_key', '121221')\n",
    "gpt4_region = os.environ.get('gpt4_region', 'eastus')\n",
    "gpt4_modelid_4k = os.environ.get('gpt4_modelid_4k', 'gpt-4-0314')\n",
    "gpt4_modelid_32k = os.environ.get('gpt4_modelid_32k', 'gpt-4-32k-0314')\n",
    "gpt4_api_version = os.environ.get('gpt4_api_version', '2023-03-15-preview')\n",
    "\n",
    "\n",
    "# print all the value is a properly formatted way\n",
    "print(f'gpt4_endpoint: {gpt4_endpoint}')\n",
    "print(f'gpt4_key: **********')\n",
    "print(f'gpt4_region: {gpt4_region}')\n",
    "print(f'gpt4_modelid_4k: {gpt4_modelid_4k}')\n",
    "print(f'gpt4_modelid_32k: {gpt4_modelid_32k}')\n",
    "print(f'gpt4_api_version: {gpt4_api_version}')\n",
    "\n"
   ]
  },
  {
   "cell_type": "code",
   "execution_count": 11,
   "metadata": {},
   "outputs": [
    {
     "name": "stdout",
     "output_type": "stream",
     "text": [
      "0.27.4\n",
      "text-davinci-003\n",
      "gpt-35-turbo_v0301\n",
      "gpt-4-0314\n",
      "gpt-4-32k-0314\n"
     ]
    }
   ],
   "source": [
    "print(openai.version.VERSION)\n",
    "deloymentopject = openai.Deployment.list()\n",
    "for d in deloymentopject.data: \n",
    "    print(f'{d.id}')"
   ]
  },
  {
   "cell_type": "code",
   "execution_count": 13,
   "metadata": {},
   "outputs": [],
   "source": [
    "\n",
    "openai.api_key = gpt4_key\n",
    "openai.api_base = gpt4_endpoint\n",
    "\n",
    "openai.api_type = \"azure\"\n",
    "openai.api_version = gpt4_api_version\n",
    "\n",
    "# Create a prompt\n",
    "prompt = \"Once upon a time\"\n",
    "\n",
    "# Call the OpenAI API to generate text\n",
    "response = openai.ChatCompletion.create(\n",
    "    engine=gpt4_modelid_4k,\n",
    "    messages = [{ \"role\": \"user\", \n",
    "                \"content\": prompt}],\n",
    ")\n"
   ]
  },
  {
   "cell_type": "code",
   "execution_count": 17,
   "metadata": {},
   "outputs": [
    {
     "name": "stdout",
     "output_type": "stream",
     "text": [
      "{\n",
      "  \"completion_tokens\": 692,\n",
      "  \"prompt_tokens\": 10,\n",
      "  \"total_tokens\": 702\n",
      "}\n",
      "in a small village nestled between the lush green hills and a sparkling river, there lived a humble farmer named Tom. He lived in a cozy little cottage with his wife, Mary, and their three children – Jack, Lucy, and Emma.\n",
      "\n",
      "Tom tended to the fields and the small herd of cows, while Mary looked after their vegetable patch and their children. The village was known for its peace and tranquility, and the villagers appreciated the simple life they led.\n",
      "\n",
      "One day, while tending to his cows, Tom heard a strange sound coming from the nearby woods. Curiosity piqued, he cautiously ventured in and followed the sound. There, he found an unusual creature, which appeared to be a mix between a rabbit and a deer. It had long ears and a puffball tail, but also had a majestic set of antlers.\n",
      "\n",
      "The timid creature shivered in fear at the sight of Tom, but he approached it with gentle, reassuring words. Tom felt an instant connection with the creature and decided to take it home with him.\n",
      "\n",
      "When he presented the creature to Mary and the children, their eyes widened in awe and excitement, as they had never seen anything quite like it. They named the creature Robbie and welcomed it into their family.\n",
      "\n",
      "Robbie became a great playmate for Jack, Lucy, and Emma, who enjoyed running through the fields or taking long walks in the woods with their new furry friend. As for the villagers, they were equally captivated by Robbie's unique appearance and felt it brought a sense of magic to their quiet little village.\n",
      "\n",
      "One day, in early spring, a drought struck the village, causing the river to dry up and the crops to wither. Worried about their survival, the villagers desperately tried to find a solution. Tom couldn't bear to see his fields dry out, and so he decided to seek out help from beyond the village.\n",
      "\n",
      "Guided by Robbie, Tom ventured into the dense and unfamiliar forest. After several hours of walking, they stumbled upon a mystical glade, where hundreds of the peculiar creatures roamed freely. Realizing that Robbie was not just a random animal, but rather the guardian of a hidden world, Tom knelt down and made a plea for help.\n",
      "\n",
      "The creatures gathered around him, sensing his sincere desperation. Just then, their leader, a wise and ancient creature with a shimmering white coat, emerged from the crowd. Moved by Tom's plea, it approached him and touched its antlers to his forehead, bestowing upon him the gift of water.\n",
      "\n",
      "With a grateful heart, Tom returned to his village, accompanied by Robbie and the leader of the forest creatures. Upon their arrival, the leader raised its antlers high in the air and a sudden rainstorm erupted from the clear blue sky.\n",
      "\n",
      "As the raindrops filled the river and revived the parched land, the villagers rejoiced in amazement, grateful to Tom and his newfound friends. Following the magical intervention, harmony and abundance returned to the village, and the people promised to never forget the kindness of the forest creatures.\n",
      "\n",
      "From that day on, the village prospered, and the connection between the villagers and the wonderful creatures in the forest deepened. Robbie remained a beloved member of Tom's family, and the story of the guardian creatures was passed down through generations. The once humble village eventually became a welcoming sanctuary, where all forms of life were cherished and celebrated, leaving the memory of hardship far behind.\n"
     ]
    }
   ],
   "source": [
    "print(response['usage'])\n",
    "\n",
    "print(response['choices'][0]['message']['content'])"
   ]
  },
  {
   "cell_type": "code",
   "execution_count": 20,
   "metadata": {},
   "outputs": [],
   "source": [
    "# string text over multiple lines\n",
    "\n",
    "prompt = '''\n",
    "Jupiter is the fifth planet from the Sun and the largest in the Solar System. \n",
    "It is a gas giant with a mass one-thousandth that of the Sun, but two-and-a-half times that of all the other planets in the Solar System combined. \n",
    "Jupiter is one of the brightest objects visible to the naked eye in the night sky, and has been known to ancient civilizations since before recorded history. \n",
    "It is named after the Roman god Jupiter.[19] When viewed from Earth, Jupiter can be bright enough for its reflected light to cast visible shadows,[20] and is on average the third-brightest natural object in the night sky after the Moon and Venus.\n",
    "\n",
    "\n",
    "write scholarly introduction to Jupiter: \n",
    "'''\n",
    "response = openai.ChatCompletion.create(\n",
    "    engine=gpt4_modelid_4k, \n",
    "    messages = [{ \"role\": \"user\", \n",
    "                \"content\": prompt}],\n",
    "                temperature=0.5,\n",
    "                )\n"
   ]
  },
  {
   "cell_type": "code",
   "execution_count": 21,
   "metadata": {},
   "outputs": [
    {
     "name": "stdout",
     "output_type": "stream",
     "text": [
      "{\n",
      "  \"completion_tokens\": 499,\n",
      "  \"prompt_tokens\": 152,\n",
      "  \"total_tokens\": 651\n",
      "}\n",
      "Jupiter, the colossal gas giant and the fifth planet from the Sun, holds a prominent position in our Solar System. With a mass approximately one-thousandth that of the Sun, yet two-and-a-half times greater than the combined mass of all other planets in the Solar System, Jupiter's enormity is unparalleled. As one of the most luminous celestial bodies observable with the naked eye, Jupiter has captivated the curiosity and imagination of ancient civilizations, leading to its association with the Roman god Jupiter. The planet's exceptional brightness allows its reflected light to cast discernible shadows on Earth, rendering it the third-brightest natural object in the night sky, surpassed only by the Moon and Venus.\n",
      "\n",
      "The scientific study of Jupiter has significantly advanced our understanding of planetary formation, atmospheric dynamics, and the potential for extraterrestrial life. As a gas giant, Jupiter is primarily composed of hydrogen and helium, with trace amounts of other elements contributing to its diverse and dynamic atmosphere. The planet's iconic Great Red Spot, a colossal storm system persisting for centuries, offers valuable insights into the complex meteorological phenomena occurring within Jupiter's turbulent atmosphere. Furthermore, Jupiter's extensive system of over 79 known moons, including the four largest – Ganymede, Callisto, Io, and Europa – collectively referred to as the Galilean satellites, presents a unique opportunity to study diverse celestial bodies and their interactions with the planet's powerful gravitational and magnetic fields.\n",
      "\n",
      "Jupiter's immense size and influence within the Solar System have led to numerous spacecraft missions aimed at unraveling the planet's enigmatic properties. From the pioneering flybys of Pioneer 10 and 11 in the early 1970s to the more recent Juno mission, which has been orbiting and studying Jupiter since 2016, our understanding of this gas giant continues to expand. Through these endeavors, researchers have made significant strides in deciphering Jupiter's internal structure, magnetic environment, and the intricate processes that govern its formation and evolution.\n",
      "\n",
      "In conclusion, Jupiter remains a subject of immense scientific interest and fascination, as it provides a window into the intricate processes that govern the formation and dynamics of gas giants. The planet's diverse and dynamic atmosphere, coupled with its extensive system of moons, offers a wealth of opportunities for advancing our understanding of celestial bodies and their potential for hosting life. As our exploration of Jupiter continues, this gas giant will undoubtedly continue to inspire awe and wonder, while revealing new insights into the mysteries of our Solar System.\n"
     ]
    }
   ],
   "source": [
    "print(response['usage'])\n",
    "\n",
    "print(response['choices'][0]['message']['content'])"
   ]
  },
  {
   "cell_type": "code",
   "execution_count": 41,
   "metadata": {},
   "outputs": [],
   "source": [
    "response = openai.ChatCompletion.create(\n",
    "    engine=gpt4_modelid_4k, \n",
    "    messages = [{ \"role\": \"user\", \n",
    "                \"content\": prompt}],\n",
    "                temperature=0.5,\n",
    "                stream = True\n",
    "                )\n"
   ]
  },
  {
   "cell_type": "code",
   "execution_count": 42,
   "metadata": {},
   "outputs": [
    {
     "name": "stdout",
     "output_type": "stream",
     "text": [
      "Jupiter: The Gas Giant and Its Prominence in the Solar System\n",
      "\n",
      "As the fifth planet from the Sun and the largest celestial body within our Solar System, Jupiter has long captivated the interest of astronomers, scientists, and enthusiasts alike. This gas giant, with a mass approximately one-thousandth that of the Sun and two-and-a-half times the combined mass of all other planets in the Solar System, stands out not only for its size but also for its unique characteristics and influence on neighboring celestial bodies. Jupiter's prominence in the night sky, as one of the brightest objects visible to the naked eye, has made it a subject of fascination for ancient civilizations throughout human history, leading to its association with the Roman god Jupiter. This introductory article aims to provide an overview of the current understanding of Jupiter's formation, composition, and role within the Solar System, while also highlighting the significance of ongoing research and exploration efforts focused on this intriguing gas giant."
     ]
    }
   ],
   "source": [
    "for chunk in response:\n",
    "    print(chunk['choices'][0]['delta'].get('content', ''), end='') "
   ]
  },
  {
   "cell_type": "code",
   "execution_count": null,
   "metadata": {},
   "outputs": [],
   "source": []
  }
 ],
 "metadata": {
  "kernelspec": {
   "display_name": "py_openai_flask",
   "language": "python",
   "name": "python3"
  },
  "language_info": {
   "codemirror_mode": {
    "name": "ipython",
    "version": 3
   },
   "file_extension": ".py",
   "mimetype": "text/x-python",
   "name": "python",
   "nbconvert_exporter": "python",
   "pygments_lexer": "ipython3",
   "version": "3.10.4"
  },
  "orig_nbformat": 4,
  "vscode": {
   "interpreter": {
    "hash": "92836d5847e89f8aa7c18ec03f1ff5f6340329da37dfd1e6beef34d30823ef97"
   }
  }
 },
 "nbformat": 4,
 "nbformat_minor": 2
}
